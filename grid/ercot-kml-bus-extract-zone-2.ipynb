{
 "cells": [
  {
   "cell_type": "markdown",
   "metadata": {},
   "source": [
    "prbrown 20170908 18:02\n",
    "\n",
    "* Could do an error check, making sure that name appears in description for each node"
   ]
  },
  {
   "cell_type": "code",
   "execution_count": 3,
   "metadata": {
    "collapsed": true
   },
   "outputs": [],
   "source": [
    "import xml.etree.ElementTree as ET\n",
    "from lxml import etree\n",
    "import pandas as pd\n",
    "import numpy as np\n",
    "from tqdm import tqdm, trange"
   ]
  },
  {
   "cell_type": "markdown",
   "metadata": {},
   "source": [
    "# Functions"
   ]
  },
  {
   "cell_type": "code",
   "execution_count": 4,
   "metadata": {
    "collapsed": true
   },
   "outputs": [],
   "source": [
    "def latlonify(coordinates):\n",
    "    foo = coordinates.split(' ')\n",
    "    bar = []\n",
    "    for line in foo:\n",
    "        if line not in bar:\n",
    "            bar.append(line)\n",
    "    latitude = 0\n",
    "    longitude = 0\n",
    "    for line in bar:\n",
    "        longitude += float(line.split(',')[0])\n",
    "        latitude += float(line.split(',')[1])\n",
    "    latitude = latitude / 4\n",
    "    longitude = longitude / 4\n",
    "\n",
    "    return latitude, longitude"
   ]
  },
  {
   "cell_type": "markdown",
   "metadata": {},
   "source": [
    "# Procedure"
   ]
  },
  {
   "cell_type": "code",
   "execution_count": 44,
   "metadata": {},
   "outputs": [
    {
     "name": "stdout",
     "output_type": "stream",
     "text": [
      "{http://www.opengis.net/kml/2.2}name\n"
     ]
    }
   ],
   "source": [
    "filein = '2017.JUL.Monthly.Auction.OneLineDiagram.kml'\n",
    "\n",
    "tree = ET.parse(filein)\n",
    "root = tree.getroot()\n",
    "\n",
    "branches = root[0][5] # guess\n",
    "print(lines[0].tag)\n",
    "\n",
    "buses = root[0][6]"
   ]
  },
  {
   "cell_type": "code",
   "execution_count": 82,
   "metadata": {},
   "outputs": [
    {
     "name": "stdout",
     "output_type": "stream",
     "text": [
      "{http://www.opengis.net/kml/2.2}name\n",
      "Branch Concord\n",
      "{http://www.opengis.net/kml/2.2}styleUrl\n",
      "#345KV\n",
      "{http://www.opengis.net/kml/2.2}description\n",
      "\t\t\t\t<table border=\"1\"><tr><th>Name</th><th>From Bus</th><th>To Bus</th><th>Voltage</th><th>Normal Limit</th><th>Contingency Limit</th></tr>\n",
      "\t\t\t\t\t<tr><td>Concord</td><td><a href=\"#bus393;balloonFlyto\">Concord</a></td><td><a href=\"#bus393;balloon\">Jhnsonsw_P5</a></td><td>345.0 KV</td><td>1,072.0 MVA</td><td>1,072.0 MVA</td></tr>\n",
      "\t\t\t\t</tr>\n",
      "\t\t\t\t</table>\n",
      "\n",
      "{http://www.opengis.net/kml/2.2}LineString\n",
      "\n",
      "            \n"
     ]
    }
   ],
   "source": [
    " [child for child in branches]\n",
    "\n",
    " for child in branches[4][5]:\n",
    "     print(child.tag)\n",
    "     print(child.text)"
   ]
  },
  {
   "cell_type": "code",
   "execution_count": 85,
   "metadata": {},
   "outputs": [
    {
     "name": "stdout",
     "output_type": "stream",
     "text": [
      "['Branches', '138KV', 'Branch Roansprare', 'Branch Keithsw', 'Branch Keithsw', 'Branch Keithsw', 'Branch Keithsw', 'Branch Iola', 'Branch Iola', 'Branch Bedias', 'Branch Keith', 'Branch Carlossw', 'Branch Carlossw', 'Branch Northzulch', 'Branch Hamndsw', 'Branch Hamndsw', 'Branch Hamndsw', 'Branch Robertson', 'Branch Robertson', 'Branch Robertson', 'Branch Watsonchpl', 'Branch Watsonchpl', 'Branch Watsonchpl', 'Branch Hearne8', 'Branch Oletha', 'Branch Oletha', 'Branch Farrar', 'Branch Milano', 'Branch Beargrass', 'Branch Perry8', 'Branch Hallsburg', 'Branch Hallsburg', 'Branch Butler', 'Branch Dingdong', 'Branch Dingdong', 'Branch Salty', 'Branch Salty', 'Branch Cedarvall', 'Branch Talbrtrid', 'Branch Talbrtrid', 'Branch Sonterra', 'Branch Sonterra', 'Branch Seaton8', 'Branch Bellcnty8', 'Branch Bellcnty8', 'Branch Trimmier', 'Branch Moody', 'Branch Moody', 'Branch Lakebelto', 'Branch Lakebelto', 'Branch Lakebelto', 'Branch Chapelhil', 'Branch Chapelhil', 'Branch Springval', 'Branch Mcgregor', 'Branch Windsorsw', 'Branch Windsorsw', 'Branch Cottonbel', 'Branch Cottonbel', 'Branch Crawford', 'Branch Chinasprg', 'Branch Bosque', 'Branch Bosque', 'Branch Cayote', 'Branch Telico', 'Branch Telico', 'Branch Fairfield', 'Branch Fairfield', 'Branch Chatfield', 'Branch Chatfield', 'Branch Sardis8', 'Branch Sardis8', 'Branch Sardis8', 'Branch Eureka', 'Branch Clayhill', 'Branch Goodloe', 'Branch Winkler', 'Branch Winkler', 'Branch Haney', 'Branch Haney', 'Branch Ennis', 'Branch Glnheight', 'Branch Glnheight', 'Branch Cedarhill', 'Branch Cedarhill', 'Branch Trumbull8', 'Branch Trumbull8', 'Branch Saintpaul', 'Branch Lampostsw', 'Branch Lampostsw', 'Branch Lampostsw', 'Branch Lampostsw', 'Branch Chatt', 'Branch Chatt', 'Branch Lampost', 'Branch Blanton', 'Branch Blanton', 'Branch Whitney8', 'Branch Whitney8', 'Branch Rogershl', 'Branch Rogershl', 'Branch Bosquesw8', 'Branch Bosquesw8', 'Branch Kempner', 'Branch Kempner', 'Branch Zephyr', 'Branch Shilohc', 'Branch Shilohc', 'Branch Holder8', 'Branch Stephenvi', 'Branch Johnsvill', 'Branch Linglevil', 'Branch Norfork', 'Branch Wright', 'Branch Bluffdale', 'Branch Bunker', 'Branch Bunker', 'Branch Bunker', 'Branch Bunker', 'Branch Bunker', 'Branch Tolartap', 'Branch Tolartap', 'Branch Ricochet', 'Branch Ricochet', 'Branch Rwmiller', 'Branch Rwmiller', 'Branch Abbybend', 'Branch Abbybend', 'Branch Portroyal', 'Branch Spunky8', 'Branch Hood8', 'Branch Hood8', 'Branch Jnsncnty8', 'Branch Jnsncnty8', 'Branch Jnsncnty8', 'Branch Acton', 'Branch Acton', 'Branch Fallcreek', 'Branch Fallcreek', 'Branch Friendshi', 'Branch Littlehos', 'Branch Wldcattap', 'Branch Wldcattap', 'Branch Bono', 'Branch Concord8', 'Branch Domino', 'Branch Joshua', 'Branch Crowley', 'Branch Jessica', 'Branch Egan', 'Branch Burleson', 'Branch Keene', 'Branch Lillian8', 'Branch Lillian8', 'Branch Vallybrnc', 'Branch Retta', 'Branch Conley', 'Branch Lkalvarad', 'Branch Grandview', 'Branch Griffith', 'Branch Venus', 'Branch Sandflats', 'Branch Sandflats', 'Branch Covington', 'Branch Waples8', 'Branch Waples8', 'Branch Fairview', 'Branch Lakewood', 'Branch Thorpsprg', 'Branch Fox8', 'Branch Fox8', 'Branch Fox8', 'Branch Annetta', 'Branch Brock', 'Branch Sthbrocks', 'Branch Sthbrocks', 'Branch Tintop', 'Branch Railroad', 'Branch Railroad', 'Branch Liveoak', 'Branch Liveoak', 'Branch Hilltop8', 'Branch Hilltop8', 'Branch Hilltop8', 'Branch Hilltop8', 'Branch Agnesswtc', 'Branch Agnesswtc', 'Branch Agnesswtc', 'Branch Nrthwthfr', 'Branch Zionhill', 'Branch Aledotap', 'Branch Aledotap', 'Branch Hudsonoak', 'Branch Dicey', 'Branch Dicey', 'Branch Lgvwss', 'Branch Lgvess', 'Branch Lgvess', 'Branch Springtow', 'Branch Springtow', 'Branch Flatrock', 'Branch Vealjnctn', 'Branch Cnterpoin', 'Branch Cnterpoin', 'Branch Reno', 'Branch Reno', 'Branch Briar', 'Branch Boyd', 'Branch Grapevine', 'Branch Grapevine', 'Branch Ibm', 'Branch Heritage', 'Branch Heritage', 'Branch Joplin', 'Branch Keller', 'Branch Keller', 'Branch Cherrygro', 'Branch Cherrygro', 'Branch Pedenroad', 'Branch Pedenroad', 'Branch Wisecnty', 'Branch Wisecnty', 'Branch Wisecnty', 'Branch Aurora', 'Branch Newark', 'Branch Rhome', 'Branch Rhome', 'Branch Allison', 'Branch Jckcnty8', 'Branch Jckcnty8', 'Branch Jckcnty8', 'Branch Wstbrook', 'Branch Wstbrook', 'Branch Decatur', 'Branch Decatur', 'Branch Woodie', 'Branch Woodie', 'Branch Chisolm', 'Branch Greenwood', 'Branch Greenwood', 'Branch Perchhill', 'Branch Perchhill', 'Branch Perchhill', 'Branch Keeter', 'Branch Cottondal', 'Branch Ebridgpor', 'Branch Ebridgpor', 'Branch Avondale', 'Branch Crafton', 'Branch Pattsnst', 'Branch Pattsnst', 'Branch Brdgtap', 'Branch Carter', 'Branch Carter', 'Branch Lonestar', 'Branch Lonestar', 'Branch Bowie8', 'Branch Craigranc', 'Branch Craigranc', 'Branch Craigrnch', 'Branch Springcrk', 'Branch Springcrk', 'Branch Romanjuar', 'Branch Romanjuar', 'Branch Newport', 'Branch Audubonsw', 'Branch Audubonsw', 'Branch Roanoke', 'Branch Lewisvlsw', 'Branch Lewisvlsw', 'Branch Coppell', 'Branch Coppell', 'Branch Coppell', 'Branch Pnthrcree', 'Branch Pnthrcree', 'Branch Lebanon', 'Branch Lebanon', 'Branch Aubrey', 'Branch Aubrey', 'Branch Custer2', 'Branch Custer2', 'Branch Custer', 'Branch Mound', 'Branch Kimbalroa', 'Branch Mckamy', 'Branch Bridges', 'Branch Lewisvill', 'Branch Crostimbr', 'Branch Navo', 'Branch Hebron', 'Branch Highlnd', 'Branch Highlnd', 'Branch Crnthsths', 'Branch Crnthsths', 'Branch Crnthsths', 'Branch Crnthsths', 'Branch Crnthsths', 'Branch Krum', 'Branch Krum', 'Branch Rectorroa', 'Branch Rectorroa', 'Branch Rectorroa', 'Branch Rockhill', 'Branch Mcpherson', 'Branch Mcpherson', 'Branch Nrthsange', 'Branch Frisco', 'Branch Spring', 'Branch Spring', 'Branch Spring', 'Branch Spring', 'Branch Muenster', 'Branch Salem', 'Branch Salem', 'Branch Mtnsprngs', 'Branch Hawkins8', 'Branch Whtsbrsws', 'Branch Sltcrkrct', 'Branch Sltcrkrct', 'Branch Jordan', 'Branch Jordan', 'Branch Scurryswc', 'Branch Scurryswc', 'Branch Scurryswc', 'Branch Wolfridge', 'Branch Wolfridge', 'Branch Dyemound', 'Branch Stjo8', 'Branch Hardysw', 'Branch Arrowhead', 'Branch Scotland', 'Branch Olney8', 'Branch Murray', 'Branch Murray', 'Branch Kraftt', 'Branch Kraftt', 'Branch Kraftt', 'Branch Apollo', 'Branch Fairdale', 'Branch Fairdale', 'Branch Fairdale', 'Branch Plastipak', 'Branch Centrvil', 'Branch Centrvil', 'Branch Centrvil', 'Branch Nevada', 'Branch Nevada', 'Branch Nevada', 'Branch Nevada', 'Branch Swindell', 'Branch Swindell', 'Branch Wynnjoyce', 'Branch Wynnjoyce', 'Branch Wynnjoyce', 'Branch Rosehill', 'Branch Rosehill', 'Branch Olinger', 'Branch Lyons', 'Branch Walnut', 'Branch Miller', 'Branch Brand', 'Branch Brand', 'Branch Shiloh', 'Branch Shiloh', 'Branch Oates', 'Branch Oates', 'Branch Mccree8', 'Branch Crist', 'Branch Elmgrove', 'Branch Elmgrove', 'Branch Cooperck', 'Branch Denarco13', 'Branch Industrl1', 'Branch Jmcrstl13', 'Branch Jmcrstl13', 'Branch Pockrus13', 'Branch Pockrus13', 'Branch Pockrus13', 'Branch Teasley13', 'Branch Ftworth', 'Branch Rdwells13', 'Branch Shelby1', 'Branch Bryan_E_8', 'Branch Bryan_E_8', 'Branch Gibn_Crek', 'Branch Bendavis_', 'Branch Bendavis_', 'Branch Pruitt_8', 'Branch Arco_T_8', 'Branch Arco_T_8', 'Branch Permianb', 'Branch Permianb', 'Branch Permianb', 'Branch Permianb', 'Branch Permianb', 'Branch Permianb', 'Branch Permianb', 'Branch Permianb', 'Branch Permianb', 'Branch Moss_8', 'Branch Moss_8', 'Branch Moss_8', 'Branch Moss_8', 'Branch Moss_8', 'Branch Moss_8', 'Branch Moss_8', 'Branch Midlnde_', 'Branch Midlnde_', 'Branch Midlnde_', 'Branch Midlnde_', 'Branch Midlnde_', 'Branch Odesehv_', 'Branch Odesehv_', 'Branch Odesehv_', 'Branch Odesehv_', 'Branch Odesehv_', 'Branch Odesehv_', 'Branch Mrgncrk_', 'Branch Mrgncrk_', 'Branch Mrgncrk_', 'Branch Mrgncrk_', 'Branch Rexall_8', 'Branch Genrubr_', 'Branch Genrubr_', 'Branch Olfnnshl', 'Branch Nylontap', 'Branch Nylon_8', 'Branch Nylon_8', 'Branch Nylon_8', 'Branch Midessa_', 'Branch Midessa_', 'Branch Sun_8', 'Branch Sun_8', 'Branch Sun_8', 'Branch Goldensw', 'Branch Goldensw', 'Branch Winkss_8', 'Branch Winkss_8', 'Branch Winkss_8', 'Branch Winkss_8', 'Branch Saltcrkw', 'Branch Saltcrkw', 'Branch Andranch', 'Branch Andranch', 'Branch Sandbend', 'Branch Sandbend', 'Branch Orla_Sw1', 'Branch Orla_Sw1', 'Branch Orla_Sw1', 'Branch Orla_Sw1', 'Branch Red_Bluf', 'Branch Wrdglfta', 'Branch Wickett_', 'Branch Wicketap', 'Branch Wicketap', 'Branch Wardgulf', 'Branch Elmar_8', 'Branch Scrwbean', 'Branch Blackrvr', 'Branch Swportap', 'Branch Judkins_', 'Branch Sandhlta', 'Branch Monahn1_', 'Branch Monahn2t', 'Branch Big3odta', 'Branch Tidewate', 'Branch Windwood', 'Branch Crmwd8ta', 'Branch Crmwd8ta', 'Branch Crmwd8ta', 'Branch Glenhavn', 'Branch Odessano', 'Branch Odessano', 'Branch Odessano', 'Branch Odessa2_', 'Branch Odessa2_', 'Branch Liqdair_', 'Branch Westover', 'Branch Midldwnt', 'Branch Holtss_8', 'Branch Holtss_8', 'Branch Holtss_8', 'Branch Holtss_8', 'Branch Amocncta', 'Branch Amgldsmi', 'Branch Cheyenta', 'Branch Cheyenta', 'Branch Dolrhide', 'Branch Dolrhide', 'Branch Dolrhide', 'Branch Amoco3ba', 'Branch Arenatap', 'Branch Bakketap', 'Branch Bakketap', 'Branch Bakketap', 'Branch Andrewta', 'Branch Andrews_', 'Branch Andrews_', 'Branch Andrews_', 'Branch Noandrew', 'Branch Unpkrbk_', 'Branch Lamesa_8', 'Branch Lamesa_8', 'Branch Lamesa_8', 'Branch Exmeanta', 'Branch Exmeanta', 'Branch Mustang_', 'Branch Pauldtap', 'Branch Tarzansw', 'Branch Tarzansw', 'Branch Grandvew', 'Branch Adobemew', 'Branch Texmatap', 'Branch Texmatap', 'Branch Texmatap', 'Branch Ectrhill', 'Branch Mocknbrd', 'Branch Midconw_', 'Branch Barber_L', 'Branch Barber_L', 'Branch Midkiff_', 'Branch Gardcity', 'Branch Pegasus_', 'Branch Spegstap', 'Branch Spegstap', 'Branch Goldsgul', 'Branch Midfarms', 'Branch Ammidfta', 'Branch Ammidfta', 'Branch Exsharnr', 'Branch Exsharnr', 'Branch Willowva', 'Branch Willowva', 'Branch Snyder_8', 'Branch Keylynte', 'Branch Blufckta', 'Branch Blufckta', 'Branch Knapp_8', 'Branch Scurychv', 'Branch Enisckta', 'Branch Enisckta', 'Branch Ennisck_', 'Branch Brand_8', 'Branch Chinagrv', 'Branch Chinagrv', 'Branch Chinagrv', 'Branch Chinagrv', 'Branch Chinagrv', 'Branch Chinagrv', 'Branch Bigsprig', 'Branch Bigsprig', 'Branch Bigsprig', 'Branch Bigsprig', 'Branch Bigspgwe', 'Branch Bigspgwe', 'Branch Stanton_', 'Branch Sprabery', 'Branch Sprabery', 'Branch Drumrigt', 'Branch Drumrigt', 'Branch Drumrigt', 'Branch Mcdonald', 'Branch Mcdonald', 'Branch Glasscnt', 'Branch Forsanta', 'Branch Crmwdtap', 'Branch Eskota_8', 'Branch Eskota_8', 'Branch Eskota_8', 'Branch Eskota_8', 'Branch Swtrdtap', 'Branch Swtrdtap', 'Branch Gttyvtap', 'Branch Radiummt', 'Branch Enscrkss', 'Branch Bowman_A', 'Branch Bowman_A', 'Branch Bowman_B', 'Branch Bowman_B', 'Branch Bowman_B', 'Branch Fishrdss', 'Branch Fishrdss', 'Branch Fishrdss', 'Branch Fisherrd', 'Branch Grhamses', 'Branch Grhamses', 'Branch Grhamses', 'Branch Grhamses', 'Branch Comchess', 'Branch Comchess', 'Branch Lkwichit', 'Branch Lkwichit', 'Branch Wchtflls', 'Branch Pleasval', 'Branch Pleasval', 'Branch Pleasval', 'Branch Pleasval', 'Branch Wfalls_S', 'Branch Wfalls_S', 'Branch Wfalls_S', 'Branch Northstr', 'Branch Lkarowhd', 'Branch Sunsetsw', 'Branch Navykss1', 'Branch Scotld_P', 'Branch Windthor', 'Branch Windthor', 'Branch Markly_8', 'Branch Arrowhd_', 'Branch Cityview', 'Branch Cityview', 'Branch Ppg_8', 'Branch Ppg_8', 'Branch Ceramic_', 'Branch Sikes_8', 'Branch Sikes_8', 'Branch Riverbnd', 'Branch Wfcogen_', 'Branch Wfcogen_', 'Branch Wfcogen_', 'Branch Parkway2', 'Branch De_Emgcy', 'Branch De_Emgcy', 'Branch De_Emgcy', 'Branch Alvord1_', 'Branch Chcowest', 'Branch Chcowest', 'Branch Chcoghll', 'Branch Brdgport', 'Branch Decatur_', 'Branch Decatur_', 'Branch Rhome_8', 'Branch Oran1_8', 'Branch Oran1_8', 'Branch Oran1_8', 'Branch Minwllsw', 'Branch Palopnto', 'Branch Minwlls2', 'Branch Minwlls1', 'Branch Bennett_', 'Branch Bennett_', 'Branch Bennett_', 'Branch Minwllse', 'Branch Sprgtown', 'Branch Wthfrdss', 'Branch Bonham_P', 'Branch Bonham_P', 'Branch Bonham_P', 'Branch Decatur_', 'Branch Grahamsw', 'Branch Grahamsw', 'Branch Barton_8', 'Branch Lgnvista', 'Branch Breck_N_', 'Branch Breck_T8', 'Branch Breck_T8', 'Branch Sun_Ecu_', 'Branch Caddo_8', 'Branch Colnycrk', 'Branch Leonsw_8', 'Branch Leonsw_8', 'Branch Leonsw_8', 'Branch Dublin1_', 'Branch Dublin1_', 'Branch Slstr1pp', 'Branch Linglvll', 'Branch Stphnvil', 'Branch Johnsnvl', 'Branch Comanche', 'Branch Brnwdsw_', 'Branch Brnwdsw_', 'Branch Brnwd_S_', 'Branch Brnwd_S_', 'Branch Campbow_', 'Branch Brnwd1_8', 'Branch Bloosom_', 'Branch Bloosom_', 'Branch Bloosom_', 'Branch Vallyses', 'Branch Vallyses', 'Branch Vallyses', 'Branch Vallyses', 'Branch Paris_Sw', 'Branch Paris_Sw', 'Branch Paris_Sw', 'Branch Paris_Sw', 'Branch Paris_Sw', 'Branch Tenaska_', 'Branch Sulsp_Ss', 'Branch Sulsp_Ss', 'Branch Sulsp_Ss', 'Branch Sher_L_M', 'Branch Sher_L_M', 'Branch Gainvl_E', 'Branch Gainvl_E', 'Branch Gainvldx', 'Branch Gainvl_N', 'Branch Memc_W_T', 'Branch Memc_W_T', 'Branch Memc_W_T', 'Branch Shrm_Ti_', 'Branch Memc_Sw_', 'Branch Memc_Sw_', 'Branch Memc_Sw_', 'Branch Liberty_', 'Branch Liberty_', 'Branch Whtborse', 'Branch Whtborse', 'Branch Gordvl_8', 'Branch Gordvl_8', 'Branch Sher_Nw_', 'Branch Sher_Nw_', 'Branch Perrin_T', 'Branch Perrin_T', 'Branch Fink_T8', 'Branch Fink_T8', 'Branch Denisn_W', 'Branch Whtborse', 'Branch Denisnd_', 'Branch Denisnd_', 'Branch Denisnd_', 'Branch Shrm_Ti_', 'Branch Shrm_Ti_', 'Branch Shrm_Ti_', 'Branch Lktexoma', 'Branch Gordvl_T', 'Branch Denisn_8', 'Branch Denisn_8', 'Branch Sher_E_8', 'Branch Cherymnd', 'Branch Elmont_P', 'Branch Elmont_P', 'Branch Elmont_P', 'Branch Sher_S_8', 'Branch Van_Al_E', 'Branch Van_Al_E', 'Branch Whtmnd_8', 'Branch Memc_E_T', 'Branch Ector_P8', 'Branch Ector_P8', 'Branch Alla_Hub', 'Branch Alla_Hub', 'Branch Alla_Hub', 'Branch Payne1_8', 'Branch Payne1_8', 'Branch Payne1_8', 'Branch Bonhmss1', 'Branch Bonhmss1', 'Branch Bonhmss1', 'Branch Pinkhil_', 'Branch Deport_P', 'Branch Deport_P', 'Branch Deport_P', 'Branch Paris_E_', 'Branch Lamar_T8', 'Branch Lamar_T8', 'Branch Paris_E_', 'Branch Paris_E_', 'Branch Paris_Kc', 'Branch Rivercst', 'Branch Reno_T8', 'Branch Mosesmin', 'Branch Mosesmin', 'Branch Talco_W_', 'Branch Talco_W_', 'Branch Moses_T8', 'Branch Sulsp_E_', 'Branch Sulsp_E_', 'Branch Par_Pump', 'Branch Par_Pump', 'Branch Bonham_8', 'Branch Wolfecty', 'Branch Wolfecty', 'Branch Wolfcty_', 'Branch Sulspg_8', 'Branch Cumby1_T', 'Branch Cumby1_T', 'Branch Comm_Sw_', 'Branch Comm_Sw_', 'Branch Comm_Sw_', 'Branch Comm_T8', 'Branch Comm_T8', 'Branch Cooperlk', 'Branch Brkstn_T', 'Branch Roanoke2', 'Branch Roanoke2', 'Branch Roanoke1', 'Branch Roanoke1', 'Branch Roanoke2', 'Branch Roanoke2', 'Branch Keller1t', 'Branch Keller1t', 'Branch Mcphersn', 'Branch Eaglemnt', 'Branch Eaglemnt', 'Branch Eaglemnt', 'Branch Eaglemnt', 'Branch Eaglemnt', 'Branch Eaglemnt', 'Branch Eaglemnt', 'Branch Eaglemnt', 'Branch Eaglemnt', 'Branch Morris_D', 'Branch Morris_D', 'Branch Morris_D', 'Branch Morris_D', 'Branch Morris_D', 'Branch Elizcrk1', 'Branch Elizcrk1', 'Branch Benbrk_A', 'Branch Benbrk_A', 'Branch Benbrk_A', 'Branch Benbrk_A', 'Branch Benbrk_A', 'Branch Benbrk_B', 'Branch Benbrk_B', 'Branch Benbrk_B', 'Branch Benbrk_B', 'Branch Benbrk_B', 'Branch Rockycrk', 'Branch Rockycrk', 'Branch Evrman_A', 'Branch Evrman_A', 'Branch Evrman_A', 'Branch Evrman_A', 'Branch Evrman_A', 'Branch Evrman_B', 'Branch Evrman_B', 'Branch Evrman_B', 'Branch Decrdova', 'Branch Decrdova', 'Branch Decrdova', 'Branch Griffth_', 'Branch Venus3_8', 'Branch Venus3_8', 'Branch Venus1_8', 'Branch Venus2_8', 'Branch Mayfldn_', 'Branch Mayfldn_', 'Branch Mayfldn_', 'Branch Mayfldn_', 'Branch Mayfldn_', 'Branch Mayflds_', 'Branch Shry_A8', 'Branch Shry_A8', 'Branch Shry_A8', 'Branch Shry_A8', 'Branch Shry_A8', 'Branch Shry_B8', 'Branch Shry_B8', 'Branch Shry_B8', 'Branch Shry_B8', 'Branch Liggett_', 'Branch Liggett_', 'Branch Liggett_', 'Branch Liggett_', 'Branch Liggett_', 'Branch Liggett_', 'Branch Liggett_', 'Branch Liggett_', 'Branch Liggett_', 'Branch Liggetta', 'Branch Liggett_', 'Branch Liggett_', 'Branch Liggett_', 'Branch Liggett_', 'Branch Liggett_', 'Branch Liggett_', 'Branch Handleyc', 'Branch Handleyc', 'Branch Handleyc', 'Branch Handleyc', 'Branch Handleyc', 'Branch Handleyc', 'Branch Handleyd', 'Branch Handleyd', 'Branch Handleyd', 'Branch Handleyd', 'Branch Handleyd', 'Branch Calmont1', 'Branch Calmont1', 'Branch Calmont1', 'Branch Saginaw1', 'Branch Saginaw1', 'Branch Saginaw1', 'Branch Saginaw1', 'Branch Saginaw1', 'Branch Saginaw1', 'Branch Saginaw1', 'Branch Saginaw1', 'Branch Saginaw1', 'Branch Nmain1_8', 'Branch Nmain1_8', 'Branch Nmain1_8', 'Branch Nmain1_8', 'Branch Alcon1_8', 'Branch Alcon1_8', 'Branch Alcon2_8', 'Branch Nmain_Su', 'Branch Frsthill', 'Branch Frsthill', 'Branch Frsthill', 'Branch Highl_E_', 'Branch Highl_E_', 'Branch Highl_E_', 'Branch Lew_Jns_', 'Branch Lew_Jns_', 'Branch Lew_Jns_', 'Branch Lew_Jnsw', 'Branch Lew_Jnsw', 'Branch Highl_W_', 'Branch Highl_W_', 'Branch Argyle1_', 'Branch Argyle1_', 'Branch Krum_T8', 'Branch Krum_T8', 'Branch Arco1_8', 'Branch Arco1_8', 'Branch Krugrvl1', 'Branch Atmel1_T', 'Branch Atmel1_T', 'Branch Atmel2_T', 'Branch Atmel2_T', 'Branch Irvnorth', 'Branch Irvnorth', 'Branch Irvbelt1', 'Branch Irvbelt1', 'Branch Irvbelt1', 'Branch Irvbelt2', 'Branch Irvbelt2', 'Branch Irvvalvw', 'Branch Dfw_Sw_8', 'Branch Dfw_Sw_8', 'Branch Trigas1_', 'Branch Trigas1_', 'Branch Gv_Junct', 'Branch Gv_Junct', 'Branch Gv_Junct', 'Branch Coppell_', 'Branch Euless_8', 'Branch Euless_8', 'Branch Euless_8', 'Branch Euless_8', 'Branch Copell_S', 'Branch Copell_S', 'Branch Wroanoke', 'Branch Kimball1', 'Branch Kimball1', 'Branch Gv_Ball1', 'Branch Gv_Ball1', 'Branch Dfw_Nw_8', 'Branch Dfw_Nw_8', 'Branch Mckamyrd', 'Branch Mckamy_T', 'Branch Clyvil1_', 'Branch Clyvil1_', 'Branch Clyvil1_', 'Branch Bearck1_', 'Branch Bearck1_', 'Branch Clyvil2_', 'Branch Clyvil2_', 'Branch Clyvil2_', 'Branch Klr_Mag1', 'Branch Klr_Mag1', 'Branch Klr_Mag1', 'Branch Klr_Mag2', 'Branch Klr_Mag2', 'Branch Keller2_', 'Branch Wpkellr1', 'Branch Meadprk1', 'Branch Meadprk1', 'Branch Meadprk1', 'Branch Meadprk2', 'Branch Meadprk2', 'Branch Smithfd1', 'Branch Smithfd1', 'Branch Watagan_', 'Branch Watagas_', 'Branch Watagas_', 'Branch Wataga1_', 'Branch Haltom1_', 'Branch Gemini2_', 'Branch Gemini2_', 'Branch Gemini1_', 'Branch Bedford1', 'Branch Bedford1', 'Branch Bd_Wdsn1', 'Branch Bd_Wdsn1', 'Branch Bd_Wdsn2', 'Branch Irvbelt2', 'Branch Irving1_', 'Branch Irvgrnt1', 'Branch Azle1_8', 'Branch Emcs1_8', 'Branch Rosen1_T', 'Branch Rosen1_T', 'Branch Rosen2_T', 'Branch Rosen1_8', 'Branch Bluemd2_', 'Branch Bluemd1_', 'Branch Wagrobt1', 'Branch Sansom1_', 'Branch Sansom1_', 'Branch Sansom2_', 'Branch Whill1_8', 'Branch Hertg3_8', 'Branch Hertg2_8', 'Branch Haltom2_', 'Branch Richln1_', 'Branch Richln1_', 'Branch Richln1_', 'Branch Richln2_', 'Branch Sprngdl1', 'Branch Sprngdl2', 'Branch Randl_W_', 'Branch Randl_E_', 'Branch Randl1_8', 'Branch Randl1_8', 'Branch White1_T', 'Branch White1_T', 'Branch White2_T', 'Branch White2_T', 'Branch White1_8', 'Branch Trinity1', 'Branch Trinity1', 'Branch Trinity3', 'Branch Hurstn_8', 'Branch Hurstn_8', 'Branch Hurstn_8', 'Branch Hursts_8', 'Branch Hursts_8', 'Branch Davis_T8', 'Branch Davis_T8', 'Branch Euless_S', 'Branch Int_Air1', 'Branch Int_Air1', 'Branch Int_Air2', 'Branch Watson1_', 'Branch Brkhlw1_', 'Branch Brkhlw1_', 'Branch Brkhlw2_', 'Branch Brkhlw2_', 'Branch Brkhlw2_', 'Branch Brkhlw1_', 'Branch Brkhlw2_', 'Branch Grt_Sw1_', 'Branch Grt_Sw1_', 'Branch Grt_Sw1_', 'Branch Grt_Sw2_', 'Branch Am_Mfg_T', 'Branch Am_Mfg_T', 'Branch Currie1_', 'Branch Currie1_', 'Branch Blackstn', 'Branch Hemphill', 'Branch Hemphill', 'Branch Hemphill', 'Branch Epdc_Adm', 'Branch Epdc_Sth', 'Branch Epdc_Frn', 'Branch Misltoe1', 'Branch Misltoe1', 'Branch Misltoe3', 'Branch Horne1_8', 'Branch Horne1_8', 'Branch Horne2_8', 'Branch Faron1_8', 'Branch Brytirv1', 'Branch Brytirv1', 'Branch Brytirv1', 'Branch Brytirv2', 'Branch Brytirv2', 'Branch Wdgwd_N_', 'Branch Wdgwd_N_', 'Branch Wdgwd_N_', 'Branch Wdgwd_N_', 'Branch Wdgwd_S_', 'Branch Wdgwd_S_', 'Branch Wdgwd_S_', 'Branch Wdgwd1_8', 'Branch Wdgwd1_8', 'Branch Wdgwd2_8', 'Branch Paffrd1_', 'Branch Paffrd1_', 'Branch Paffrd2_', 'Branch Edgeclf1', 'Branch Edgeclf1', 'Branch Edgeclf2', 'Branch Rogers1_', 'Branch Rogers1_', 'Branch Rogers2_', 'Branch Primrse1', 'Branch Mansfld_', 'Branch Burleson', 'Branch Joshua_8', 'Branch Rollhl1_', 'Branch Rollhl2_', 'Branch Rollhl1_', 'Branch Rollhl2_', 'Branch Bwn_Tat_', 'Branch Bwn_Tat_', 'Branch Tate_W_T', 'Branch Tate_W_T', 'Branch Tate_E_T', 'Branch Tate_E_T', 'Branch Tatespg1', 'Branch Oakhill1', 'Branch Oakhill2', 'Branch Oakhill1', 'Branch Bowen2_T', 'Branch Bowen2_T', 'Branch Bowen2_8', 'Branch Vilgcrk1', 'Branch Davis1_8', 'Branch Enns_W_8', 'Branch Enns_W_8', 'Branch Enns_W_8', 'Branch Enns_W_8', 'Branch Eultrin1', 'Branch Eultrin2', 'Branch Lakewd1_', 'Branch Lakewd1_', 'Branch Lakewd2_', 'Branch Pantego1', 'Branch Bowen1_8', 'Branch Bowen1_T', 'Branch Arlgton1', 'Branch Parkrow1', 'Branch Parkrow1', 'Branch Parkrow2', 'Branch Parkrow2', 'Branch Ltv1_8', 'Branch Poly_Am1', 'Branch Grandpr1', 'Branch Gp_West1', 'Branch Shdygrv1', 'Branch Shdygrv1', 'Branch Irvhunt1', 'Branch Irvhunt1', 'Branch Irvhunt1', 'Branch Irvhunt2', 'Branch Clebrnsw', 'Branch Clebrnsw', 'Branch Clebrnsw', 'Branch Clebrn_N', 'Branch Godley_8', 'Branch Clebrn_8', 'Branch Clebrn_W', 'Branch Keene_8', 'Branch Chapstl_', 'Branch Chapstl_', 'Branch Airprd_T', 'Branch Airprd_T', 'Branch Mdlthtxi', 'Branch Mdlthtxi', 'Branch Mdlth_S_', 'Branch Mdlthtxi', 'Branch Mdlth_N_', 'Branch Trailwd_', 'Branch Mdlth_N_', 'Branch Mdlth_N_', 'Branch Mdlthbox', 'Branch Wax_Pmp2', 'Branch Wax_Pmp2', 'Branch Mg_Ind_T', 'Branch Mg_Ind_T', 'Branch Mg_Ind_T', 'Branch Wax_N_8', 'Branch Enns_S_8', 'Branch Enns_S_8', 'Branch Enns_8', 'Branch Red_Oak1', 'Branch Ennssw_8', 'Branch Crisp1_8', 'Branch Melssa_P', 'Branch Melssa_P', 'Branch Melssa_P', 'Branch Celinase', 'Branch Rnrtpl_W', 'Branch Rnrtpl_W', 'Branch Rnrtpl_W', 'Branch Rnrtpl_W', 'Branch Rnrtpl_W', 'Branch Rnrtpl_W', 'Branch Rnrtpl_E', 'Branch Rnrtpl_E', 'Branch Rnrtpl_E', 'Branch Rnrtpl_E', 'Branch Rnrtpl_E', 'Branch Rnrtpl_E', 'Branch Rnrdpl_N', 'Branch Rnrdpl_N', 'Branch Rnrdpl_N', 'Branch Rnrdpl_S', 'Branch Rnrdpl_S', 'Branch Rnrdpl_S', 'Branch Crltn_Nw', 'Branch Crltn_Nw', 'Branch Crltn_Nw', 'Branch Crltn_Nw', 'Branch Crltn_Nw', 'Branch Crltn_Nw', 'Branch Crltn_Nw', 'Branch Crltn_Nw', 'Branch Crltn_Nw', 'Branch Crltn_Nw', 'Branch Collin2_', 'Branch Collin2_', 'Branch Wilsncrk', 'Branch Nthlk_1t', 'Branch Nthlk_1t', 'Branch Nthlk_1t', 'Branch Rolater2', 'Branch Rolater2', 'Branch Rolater1', 'Branch Rolater1', 'Branch Collinss', 'Branch Collinss', 'Branch Collinss', 'Branch Annasw_8', 'Branch Ausrnch2', 'Branch Ausrnch2', 'Branch Ausrnch1', 'Branch Ausrnch1', 'Branch Nthlk_S8', 'Branch Nthlk_S8', 'Branch Nthlk_S8', 'Branch Nthlk_S8', 'Branch Nthlk_S8', 'Branch Nthlk_N8', 'Branch Nthlk_N8', 'Branch Hackbry1', 'Branch Irv_Vr1_', 'Branch Irv_Vr1_', 'Branch Irvlbj_W', 'Branch Irvlbj_W', 'Branch Irvlbj_E', 'Branch Wlevee_E', 'Branch Wlevee_E', 'Branch Wlevee_E', 'Branch Wlevee_E', 'Branch Wlevee_E', 'Branch Wlevee_W', 'Branch Wlevee_W', 'Branch Wlevee_W', 'Branch Wlevee_W', 'Branch Wlevee_W', 'Branch Lkhb_W8', 'Branch Lkhb_W8', 'Branch Lkhb_W8', 'Branch Lkhb_W8', 'Branch Lkhb_W8', 'Branch Lkhb_W8', 'Branch Lkhb_E8', 'Branch Lkhb_E8', 'Branch Lkhb_E8', 'Branch Lkhb_E8', 'Branch Lkhb_E8', 'Branch Lkhb_E8', 'Branch Norwd_1t', 'Branch Norwd_1t', 'Branch Norwdpl_', 'Branch Norwdpl_', 'Branch Norwdpl_', 'Branch Norwdpl_', 'Branch Norwdpl_', 'Branch Norwdpl_', 'Branch Norwd1_8', 'Branch Norwd1_8', 'Branch Norwd2_8', 'Branch Norwd2_8', 'Branch Norwd2_8', 'Branch Mtck_W8', 'Branch Mtck_W8', 'Branch Mtck_W8', 'Branch Mtck_W8', 'Branch Mtck_W8', 'Branch Mtck_W8', 'Branch Mtck_W8', 'Branch Mtck_W8', 'Branch Mtck_E8', 'Branch Mtck_E8', 'Branch Mtck_E8', 'Branch Mtck_E8', 'Branch Mtck_E8', 'Branch Mtck_E8', 'Branch Mtck_E8', 'Branch Mtck_E8', 'Branch Mtck_E8', 'Branch Chilsw_S', 'Branch Chilsw_S', 'Branch Chilsw_S', 'Branch Chilsw_S', 'Branch Chilsw_N', 'Branch Chilsw_N', 'Branch Chilsw_N', 'Branch Norwd_2t', 'Branch Dessw1_8', 'Branch Dessw1_8', 'Branch Despkv1_', 'Branch Despkv1_', 'Branch Watmll_E', 'Branch Watmll_E', 'Branch Watmll_E', 'Branch Watmll_E', 'Branch Watmll_W', 'Branch Watmll_W', 'Branch Sgvlsw1_', 'Branch Sgvlsw1_', 'Branch Sgvlsw1_', 'Branch Frny1_8', 'Branch Frny1_8', 'Branch Frny1_8', 'Branch Frny1_8', 'Branch Cnvlsw_W', 'Branch Cnvlsw_W', 'Branch Cnvlsw_W', 'Branch Cnvlsw_W', 'Branch Cnvlsw_W', 'Branch Parkd_1t', 'Branch Parkd_1t', 'Branch Parkd_1t', 'Branch Parkd_1t', 'Branch Prcksw1_', 'Branch Prcksw1_', 'Branch Prcksw1_', 'Branch Prcksw1_', 'Branch Prcksw1_', 'Branch Parkdb1_', 'Branch Parkdb1_', 'Branch Parkdb1_', 'Branch Parkdb1_', 'Branch Parkdb1_', 'Branch Parkdb1_', 'Branch Parkdb1_', 'Branch Parkdb1_', 'Branch Parkdb2_', 'Branch Parkdb2_', 'Branch Parkdb2_', 'Branch Parkdb2_', 'Branch Parkdb2_', 'Branch Parkdb2_', 'Branch Parkdb2_', 'Branch Parkdb2_', 'Branch Parkdb2_', 'Branch Parkdb2_', 'Branch Cnvlsw_E', 'Branch Cnvlsw_E', 'Branch Krkpk_E8', 'Branch Krkpk_E8', 'Branch Krkpk_E8', 'Branch Krkpk_E8', 'Branch Krkpk_E8', 'Branch Krkpk_W8', 'Branch Krkpk_W8', 'Branch Krkpk_W8', 'Branch Krkpk_W8', 'Branch Krkpk_W8', 'Branch Krkpk_1t', 'Branch Krkpk_2t', 'Branch Royse3_8', 'Branch Royse3_8', 'Branch Royse2_8', 'Branch Royse2_8', 'Branch Royse_A8', 'Branch Royse_A8', 'Branch Royse_A8', 'Branch Royse_A8', 'Branch Royse_B8', 'Branch Royse_B8', 'Branch Royse_B8', 'Branch Royse_B8', 'Branch Lavonsw_', 'Branch Lavonsw_', 'Branch Prkmxcrk', 'Branch Prkmxcrk', 'Branch Prkmxcrk', 'Branch Prkmxcrk', 'Branch Wlevee_1', 'Branch Elevee_W', 'Branch Elevee_W', 'Branch Elevee_E', 'Branch Elevee_E', 'Branch Elevee_E', 'Branch Elevee_E', 'Branch Elevee_E', 'Branch Dendr_E8', 'Branch Dendr_E8', 'Branch Dendr_W8', 'Branch Dendr_W8', 'Branch Ccrst_W8', 'Branch Ccrst_W8', 'Branch Ccrst_W8', 'Branch Ccrst_E8', 'Branch Ccrst_E8', 'Branch Ccrst_E8', 'Branch Ccrst_E8', 'Branch Ccrst_1t', 'Branch Allensw_', 'Branch Allensw_', 'Branch Allensw_', 'Branch Allensw_', 'Branch Allensw_', 'Branch Allensw_', 'Branch Allensw_', 'Branch Allensw_', 'Branch Allensw_', 'Branch Allensw_', 'Branch Allensw_', 'Branch Allensw1', 'Branch Allensw1', 'Branch Mcdermt_', 'Branch Colony_8', 'Branch Annagcec', 'Branch Annagcec', 'Branch Pl_Coit2', 'Branch Pl_Tenny', 'Branch Pl_Tenny', 'Branch Pl_Tenny', 'Branch Pl_Coit1', 'Branch Pl_Custr', 'Branch Pl_Custr', 'Branch Stoneypt', 'Branch Stoneypt', 'Branch Stoneypt', 'Branch Mckny1_8', 'Branch Mckny1_8', 'Branch Mckny_Sw', 'Branch Mckny_Sw', 'Branch Mckny_Sw', 'Branch Allen1_8', 'Branch Allen1_8', 'Branch Mckny_Ti', 'Branch Mckny_Ti', 'Branch Allen_N1', 'Branch Allen_N1', 'Branch Allen_N1', 'Branch Crgrnch1', 'Branch Crgrnch1', 'Branch Crltnuf1', 'Branch Crltnuf1', 'Branch Crltnuf2', 'Branch Crltn1_8', 'Branch Crown1_8', 'Branch Crown2_8', 'Branch Henstl1t', 'Branch Henstl1t', 'Branch Chambvle', 'Branch Chambvle', 'Branch Mckny2_8', 'Branch Mckny_Sw', 'Branch Mckny_Sw', 'Branch Lascol1_', 'Branch Lascol2_', 'Branch Irvne1_8', 'Branch Mcknywht', 'Branch Mckny_S1', 'Branch Crltnjsy', 'Branch Crgrnch2', 'Branch Mckny_S2', 'Branch Crltntar', 'Branch Crltntar', 'Branch Crltntar', 'Branch Crltntar', 'Branch Crltntar', 'Branch Crltnrmd', 'Branch Pl_Comm1', 'Branch Adsn1_8', 'Branch Adsn1_8', 'Branch Pl_Comm2', 'Branch Crltncc1', 'Branch Crltncc1', 'Branch Adsn3t_8', 'Branch Adsn3t_8', 'Branch Adsn3t_8', 'Branch Adsn1t_8', 'Branch Adsn1t_8', 'Branch Adsn2t_8', 'Branch Crltne_8', 'Branch Crltne_8', 'Branch Elmfkn1_', 'Branch Elmfkn1_', 'Branch Elmfkn2_', 'Branch Elmfkn2_', 'Branch Elmfk1t_', 'Branch Nlkpmp1t', 'Branch Airliqd1', 'Branch Airliqd1', 'Branch Airliqd1', 'Branch Alpha1_8', 'Branch Alpha2_8', 'Branch Alpha2_8', 'Branch Walnt1t_', 'Branch Walnt1t_', 'Branch Walnt1_8', 'Branch Walnt2t_', 'Branch Walnt2t_', 'Branch Walnt2t_', 'Branch Knltr2_8', 'Branch Knltr2_8', 'Branch Knltr1_8', 'Branch Knltr1_8', 'Branch Pstnth1_', 'Branch Pstnth2_', 'Branch Frnkfd1_', 'Branch Frnkfd2_', 'Branch Bltlin1_', 'Branch Bltlin2_', 'Branch Tidpl1_8', 'Branch Tidpl1_8', 'Branch Tidpl2_8', 'Branch Schdrd1_', 'Branch Schdrd2_', 'Branch Coit2_8', 'Branch Judd1t_8', 'Branch Cenexp1_', 'Branch Cenexp2_', 'Branch Bandra1t', 'Branch Bandra1t', 'Branch Bandra2t', 'Branch Bandra2t', 'Branch Nthhvn_W', 'Branch Nthhvn_W', 'Branch Nthhvn_E', 'Branch Nthhvn_E', 'Branch Welch1_8', 'Branch Welch2_8', 'Branch Marsh1_8', 'Branch Marsh2_8', 'Branch Plhwy190', 'Branch Plhwy190', 'Branch Plhwy190', 'Branch Pl_Arco_', 'Branch Twinstar', 'Branch Pl_West_', 'Branch Pl_West_', 'Branch Pl_West_', 'Branch Pl_West_', 'Branch Pl_West_', 'Branch Pl_West_', 'Branch Pl_8', 'Branch W_Pl_Ti2', 'Branch W_Pl_Ti2', 'Branch Rich1_8', 'Branch Rich1_8', 'Branch Rich_Sv_', 'Branch Richclln', 'Branch Richclln', 'Branch Pl_Juptr', 'Branch Pl_Juptr', 'Branch Rich_Sc_', 'Branch Rich_E_8', 'Branch Lavnpmp2', 'Branch Lavnpmp2', 'Branch Wylie_P8', 'Branch Lavon1_8', 'Branch Murphy1_', 'Branch Nw_Wylie', 'Branch Forstv1_', 'Branch Garlw1_8', 'Branch Garlw1_8', 'Branch Garl1_8', 'Branch Rckwl_8', 'Branch Prnceton', 'Branch Prnceton', 'Branch Climax_P', 'Branch Rckwl_E1', 'Branch Forney_W', 'Branch Blacklan', 'Branch Blacklan', 'Branch Nw_Terrl', 'Branch Nw_Terrl', 'Branch Nw_Terrl', 'Branch Terrl_N_', 'Branch Airco_T8', 'Branch Airco_T8', 'Branch Airco_T8', 'Branch Terrlsw_', 'Branch Terrlsw_', 'Branch Rosehill', 'Branch Rosehill', 'Branch Rosehill', 'Branch Kaufmn_8', 'Branch Kaufmn_8', 'Branch Oakgrove', 'Branch Oakgrove', 'Branch Oakgrove', 'Branch Kemp_S_8', 'Branch Crandall', 'Branch Marshll_', 'Branch Rckwl_Al', 'Branch Dalrckrd', 'Branch Rowlett_', 'Branch Rowlett_', 'Branch Grlbtwn_', 'Branch Msqtn1t_', 'Branch Msqtn1t_', 'Branch Scyene1t', 'Branch Scyene1t', 'Branch Scyene1t', 'Branch Scyene2t', 'Branch Scyene2t', 'Branch Thrne1t_', 'Branch Thrne1t_', 'Branch Jmller1_', 'Branch Thrne1_8', 'Branch Thrne2_8', 'Branch Msqtfr1_', 'Branch Msqtw1_8', 'Branch Msqtw1_8', 'Branch Msqte1_8', 'Branch Msqte1_8', 'Branch Msqte1_8', 'Branch Snyvle1_', 'Branch Snyvle1_', 'Branch Msqtte1_', 'Branch Msqtn1_8', 'Branch Eside2t_', 'Branch Msqt1_8', 'Branch Bchspg1t', 'Branch Bchspg1t', 'Branch Mrsnln1_', 'Branch Mrsnln1_', 'Branch Mrsnln1_', 'Branch Mrsnln2_', 'Branch Mrsnln2_', 'Branch Mrsn_E8', 'Branch Mrsn_E8', 'Branch Mrsn_W8', 'Branch Mrsn_W8', 'Branch Lombry1_', 'Branch Lombry2_', 'Branch Lkmt1t_8', 'Branch Lkmt2t_8', 'Branch Epcnt1t_', 'Branch Epcnt1t_', 'Branch Epcnt2t_', 'Branch Epcnt2t_', 'Branch Tra1_8', 'Branch Irvhunt2', 'Branch 8009001_', 'Branch 8009001_', 'Branch 8009002_', 'Branch 8009002_', 'Branch Chnlr1_8', 'Branch Chnlr2_8', 'Branch Reccrs1_', 'Branch Reccrs1_', 'Branch Amelia1_', 'Branch Amelia1_', 'Branch Amelia1_', 'Branch Amelia2_', 'Branch Amelia2_', 'Branch Maple1_8', 'Branch Reagan2_', 'Branch Lemmon1_', 'Branch Lemmon1_', 'Branch Lemmon2_', 'Branch Lemmon2_', 'Branch Lmoalt2_', 'Branch Lmoalt1_', 'Branch Wdal2t_8', 'Branch Wdal2t_8', 'Branch Tra2_8', 'Branch Calumt2t', 'Branch Calumt2t', 'Branch Wdal1_8', 'Branch Wdal1_8', 'Branch Wmrldn1_', 'Branch Wmrldn1_', 'Branch Davst1t_', 'Branch Davst1_8', 'Branch Tpc1_8', 'Branch Dragon2_', 'Branch Dragon1_', 'Branch Nnet1_8', 'Branch Nnet1_8', 'Branch Nnet1_8', 'Branch Nnet2_8', 'Branch Nnet2_8', 'Branch Nnet3_8', 'Branch Armstg1_', 'Branch Armstg2_', 'Branch Wnet2_8', 'Branch Wnet3_8', 'Branch Grnvl_W8', 'Branch Grnvl_W8', 'Branch Grnvl_W8', 'Branch Grnvl_E8', 'Branch Grnvl_E8', 'Branch Grnvl_E8', 'Branch Blkwel1_', 'Branch Blkwel2_', 'Branch Abrams1_', 'Branch Abrams2_', 'Branch Lawthr1_', 'Branch Hskel1t_', 'Branch Enet1_8', 'Branch Enet1_8', 'Branch Enet2_8', 'Branch Enet2_8', 'Branch Enet3_8', 'Branch Nnet1t_8', 'Branch Whtrck1_', 'Branch Whtrck2_', 'Branch Ezach2_8', 'Branch Cnvl2_8', 'Branch Garldpl1', 'Branch Garldpl1', 'Branch Garldpl2', 'Branch Garldpl2', 'Branch Plrd1_8', 'Branch Plrd1_8', 'Branch Plrd2_8', 'Branch Lkhls1t_', 'Branch Lkhls1t_', 'Branch Lkhls2t_', 'Branch Lkhls2t_', 'Branch Fairok2_', 'Branch Forstv2t', 'Branch Forstv2_', 'Branch Duckck1t', 'Branch Duckck1t', 'Branch Staug1t_', 'Branch Sargt_3t', 'Branch Sargt_3t', 'Branch Sargt_3t', 'Branch Sargt_4t', 'Branch Sargt_4t', 'Branch Staug1_8', 'Branch Sargt_1t', 'Branch Sargt_1t', 'Branch Sargt_1t', 'Branch Sargt_S8', 'Branch Sargt_S8', 'Branch Sargt_2t', 'Branch Staug2t_', 'Branch Plgrv2t_', 'Branch Plgrv2t_', 'Branch Plgrv2t_', 'Branch Murdck1t', 'Branch Murdck1t', 'Branch Staug2_8', 'Branch Plgrv1t_', 'Branch Plgrv1t_', 'Branch Murdck2t', 'Branch Murdck2t', 'Branch Hutch1_8', 'Branch Sswwt1t_', 'Branch Sswwt1t_', 'Branch Oaklnd1t', 'Branch Oaklnd1_', 'Branch Oaklnd2_', 'Branch Oaklnd2_', 'Branch Suthld1_', 'Branch Suthld2_', 'Branch Indust_W', 'Branch Indust_1', 'Branch Indust_E', 'Branch Indust_E', 'Branch Buntin2_', 'Branch Smpst2t_', 'Branch Smpst2t_', 'Branch Smpst2t_', 'Branch Smpst1_8', 'Branch Smpst1_8', 'Branch Sclfpmp1', 'Branch Cmpwsd2_', 'Branch Sthtn1_8', 'Branch Sthtn2_8', 'Branch Lvbrd1t_', 'Branch Lvbrd1t_', 'Branch Wmrld2_8', 'Branch Ckrell1_', 'Branch Ckrell2_', 'Branch Hmptn1_8', 'Branch Hmptn2_8', 'Branch Hmptn2_8', 'Branch Polk1t_8', 'Branch Polk1t_8', 'Branch Polk2t_8', 'Branch Polk2t_8', 'Branch Polk2_8', 'Branch Lvbrd2t_', 'Branch Eglfd1t_', 'Branch Eglfd1_8', 'Branch Eglfd2_8', 'Branch Sorcey1_', 'Branch Sorcey2_', 'Branch Dvils1_8', 'Branch Chiltpl_', 'Branch Chiltpl_', 'Branch Chiltpl_', 'Branch Chiltpl_', 'Branch Chiltpl_', 'Branch Chclrkrd', 'Branch Chclrkrd', 'Branch Chiltpl3', 'Branch Chiltpl4', 'Branch Deshpr1_', 'Branch Desplr1_', 'Branch Wittrd1_', 'Branch Sgvl1_8', 'Branch Klebrg1t', 'Branch Klebrg1t', 'Branch Sswwt2t_', 'Branch Sswwt2t_', 'Branch Mrtinlk_', 'Branch Shambrgr', 'Branch Shambrgr', 'Branch Shambrgr', 'Branch Elkton_8', 'Branch Elkton_8', 'Branch Elkton_8', 'Branch Elkton_8', 'Branch Elkton_8', 'Branch Stryker_', 'Branch Stryker_', 'Branch Stryker_', 'Branch Stryker_', 'Branch Stryker_', 'Branch Stryker_', 'Branch Strykert', 'Branch Strykert', 'Branch Smrfldmt', 'Branch Smrfldmt', 'Branch Paltalco', 'Branch Paltalco', 'Branch Lufknss_', 'Branch Lufknss_', 'Branch Lufknss_', 'Branch Nacogdse', 'Branch Nacogdse', 'Branch Nacogdse', 'Branch Nacogdse', 'Branch Tdadtmod', 'Branch Trinidad', 'Branch Trinidad', 'Branch Trinidad', 'Branch Trinidad', 'Branch Foregrov', 'Branch Foregrov', 'Branch Foregrov', 'Branch Tylerwes', 'Branch Tylerwes', 'Branch Tylernw_', 'Branch Tylergnd', 'Branch Tylergnd', 'Branch Tylergnd', 'Branch Tylergnd', 'Branch Tylergnd', 'Branch Tylergnd', 'Branch Overton_', 'Branch Troupss_', 'Branch Dibolsp_', 'Branch Diboll_8', 'Branch Diboll_8', 'Branch Walnutgr', 'Branch Walnutgr', 'Branch Dialvill', 'Branch Dcverc_8', 'Branch Dcverc_8', 'Branch Dcverc_8', 'Branch Tawakrc_', 'Branch Tawakrc_', 'Branch Enterpri', 'Branch Enterpri', 'Branch Ironbrta', 'Branch Ironbrta', 'Branch Emory_8', 'Branch Emorynor', 'Branch Emorynor', 'Branch Emorynod', 'Branch Expmtr_8', 'Branch Expmtr_8', 'Branch Expmtr_8', 'Branch Cantnsw_', 'Branch Cantnsw_', 'Branch Cantnsw_', 'Branch Eustace_', 'Branch Van_8', 'Branch Tylerswe', 'Branch Tylersw_', 'Branch Lindale_', 'Branch Swantwo_', 'Branch Swantwo_', 'Branch Lndaltap', 'Branch Delelkta', 'Branch Delelkta', 'Branch Delelkta', 'Branch Tylere_8', 'Branch Tylromnr', 'Branch Tylromnr', 'Branch Tylerge_', 'Branch Delektap', 'Branch Tylers_8', 'Branch Tylrbul_', 'Branch Tylerlop', 'Branch Teaselvl', 'Branch Teaselmt', 'Branch Whitehse', 'Branch Arp_8', 'Branch Arp_8', 'Branch Gwartney', 'Branch Gwartney', 'Branch Athens_8', 'Branch Athensta', 'Branch Nipaktap', 'Branch Nipaktap', 'Branch Cedrcrek', 'Branch Cedrcrek', 'Branch Palstns_', 'Branch Palstns_', 'Branch Palstns_', 'Branch Lakvwnod', 'Branch Lakvwnod', 'Branch Malakoff', 'Branch Lakeview', 'Branch Longlkta', 'Branch Longlkta', 'Branch Longlake', 'Branch Tennclny', 'Branch Tennclny', 'Branch Blackfot', 'Branch Butlermt', 'Branch Cushing_', 'Branch Cushing_', 'Branch Cushse_8', 'Branch Cushse_8', 'Branch Greshrd_', 'Branch Nacgdchs', 'Branch Nacgdchs', 'Branch Nacognor', 'Branch Nacogsw_', 'Branch Nacogsw_', 'Branch Nacogst_', 'Branch Huntingt', 'Branch Huntingt', 'Branch Huntingt', 'Branch Hertytap', 'Branch Hertytap', 'Branch Hertynor', 'Branch Lufkinet', 'Branch Lufkinet', 'Branch Lufkinet', 'Branch Dibolet_', 'Branch Lufkins_', 'Branch Lufprsta', 'Branch Lufprsta', 'Branch Dibolwta', 'Branch Hudson_8', 'Branch Luftxftp', 'Branch Shecopoi', 'Branch Shecopoi', 'Branch Lufkin_8', 'Branch Lufkin_8', 'Branch Cntlang_', 'Branch Bayoulc_', 'Branch Bayoulc_', 'Branch Bayoulc_', 'Branch Champnta', 'Branch Tmplinla', 'Branch Berea_8', 'Branch Crockett', 'Branch Grplmgta', 'Branch Grplmgta', 'Branch Grplnmag', 'Branch Plsntspg', 'Branch Plsntspg', 'Branch Centvill', 'Branch Explorta', 'Branch Jewetta_', 'Branch Jewetta_', 'Branch Nucor_St', 'Branch Elm_Mott', 'Branch Lake_Crk', 'Branch Lake_Crk', 'Branch Lake_Crk', 'Branch Lake_Crk', 'Branch Temp_Ss_', 'Branch Temp_Ss_', 'Branch Temp_Ss_', 'Branch Temp_Ss_', 'Branch Temp_Ss_', 'Branch Temp_Ss_', 'Branch Temp_Pec', 'Branch Temp_Pec', 'Branch Scotwhit', 'Branch Kill_Ss_', 'Branch Kill_Ss_', 'Branch Kill_Ss_', 'Branch Kill_Ss_', 'Branch Kilelmr1', 'Branch Kilelmr1', 'Branch Kilelmr2', 'Branch Kill_S_8', 'Branch Baylor_T', 'Branch Baylor_T', 'Branch Baylor_T', 'Branch Waco_W1_', 'Branch Waco_W1_', 'Branch Waco_W1_', 'Branch Waco_W1_', 'Branch Waco_W1_', 'Branch Waco_E1_', 'Branch Waco_E1_', 'Branch Waco_E1_', 'Branch Mcgregph', 'Branch Corswest', 'Branch Cors_Mob', 'Branch Cors_Mob', 'Branch Cors_Mag', 'Branch Cors_Gl_', 'Branch Cors_Gl_', 'Branch Corsguar', 'Branch Corsguar', 'Branch Eureka_P', 'Branch Eureka_P', 'Branch Blakftap', 'Branch Seateag_', 'Branch Seateag_', 'Branch Fairwpod', 'Branch Fairwpod', 'Branch Bigbrn_T', 'Branch Bigbrnm1', 'Branch Bigbrnm2', 'Branch Blumpump', 'Branch Hillboro', 'Branch Whitney_', 'Branch Wacoblmd', 'Branch Wacoblmd', 'Branch Waco_Ne1', 'Branch Waco_N1_', 'Branch Waco_Nw1', 'Branch Thouse_T', 'Branch Wacocolo', 'Branch Wacomm1t', 'Branch Waco_Mm1', 'Branch Waco_Mm1', 'Branch Waco_Mm2', 'Branch Robinson', 'Branch Robsonnw', 'Branch Waconcst', 'Branch Wacowood', 'Branch Spgvally', 'Branch Mcgreg_T', 'Branch Groesbec', 'Branch Amerigas', 'Branch Scotwhit', 'Branch Scotwhit', 'Branch Temple1_', 'Branch Temple_N', 'Branch Temple_N', 'Branch Temp_Nw1', 'Branch Temp_Nw1', 'Branch Belton1_', 'Branch Belton1_', 'Branch Belton1_', 'Branch Belton1_', 'Branch Killtafd', 'Branch Killtafd', 'Branch Killtafd', 'Branch Nolanvil', 'Branch Killtaft', 'Branch Killtaft', 'Branch Kilclarr', 'Branch Kilclarr', 'Branch Kill1_8', 'Branch Killpark', 'Branch Killpark', 'Branch Teague1_', 'Branch Teague1_', 'Branch Kiln_Fth', 'Branch Kiln_Fth', 'Branch Killfh_T', 'Branch Kilncc_8', 'Branch Coppercv', 'Branch Coppercv', 'Branch Mexia1_1', 'Branch Mexia2_1', 'Branch Harkhts_', 'Branch Elgin_Ss', 'Branch Elgin_Ss', 'Branch Elgin_Ss', 'Branch Elgin_Ss', 'Branch Rndrckse', 'Branch Rndrckse', 'Branch Taylor1_', 'Branch Taylor1_', 'Branch Taylor1_', 'Branch Coppcve_', 'Branch Rndrckwh', 'Branch Rndrckwh', 'Branch Rndrckwh', 'Branch Pflgrvil', 'Branch Pflgrvil', 'Branch Huttoss1', 'Branch Huttoss1', 'Branch Huttoss1', 'Branch Rndrckne', 'Branch Rndrock1', 'Branch Rndrock1', 'Branch Rndrock1', 'Branch Rndrock1', 'Branch Rndrckwh', 'Branch Rndrck_S', 'Branch Elgin_Et', 'Branch Elgin_Et', 'Branch Elgin_Et', 'Branch Rogers1a', 'Branch Rockdale', 'Branch Jarrell_', 'Branch Wacommp2', 'Branch Wacommp2', 'Branch Alamotp', 'Branch Alamotp', 'Branch Alamotp', 'Branch Amd_Sa', 'Branch Amd_Sa', 'Branch Anderson', 'Branch Anderson', 'Branch Anderson', 'Branch Austin1', 'Branch Austin1', 'Branch Austin1', 'Branch Austin1', 'Branch Austin1', 'Branch Alamo1_8', 'Branch Alamo1_8', 'Branch Alamo1_8', 'Branch Ball_Prk', 'Branch Ball_Prk', 'Branch Bandera', 'Branch Bandera', 'Branch Bandera', 'Branch Bandera', 'Branch Braunig_', 'Branch Braunig_', 'Branch Braunig_', 'Branch Braunig_', 'Branch Braunig_', 'Branch Braunig_', 'Branch Braunig_', 'Branch Braunig_', 'Branch Beck_Rd', 'Branch Beck_Rd', 'Branch Broadvew', 'Branch Broadvew', 'Branch Brooks', 'Branch Buckeye', 'Branch Buckeye', 'Branch Buckeye', 'Branch Cagnon3_', 'Branch Cagnon3_', 'Branch Cagnon3_', 'Branch Cagnon2_', 'Branch Cagnon2_', 'Branch Cagnon2_', 'Branch Cagnon1_', 'Branch Cagnon1_', 'Branch Cagnon1_', 'Branch Capitol', 'Branch Castle', 'Branch Castle', 'Branch Castle', 'Branch Castrvll', 'Branch Castrvll', 'Branch Chavanea', 'Branch Chulie', 'Branch Chulie', 'Branch Cibolocr', 'Branch Cibolocr', 'Branch Coliseum', 'Branch Coliseum', 'Branch Coliseum', 'Branch Jt_Deely', 'Branch Jt_Deely', 'Branch Jt_Deely', 'Branch Jt_Deely', 'Branch Jt_Deely', 'Branch Jt_Deely', 'Branch Jt_Deely', 'Branch Dezavala', 'Branch Dezavala', 'Branch Dresden', 'Branch Dresden', 'Branch Eaglecrk', 'Branch Eaglecrk', 'Branch Encino', 'Branch Encino', 'Branch Fallscty', 'Branch Fallscty', 'Branch Fern', 'Branch Fern', 'Branch Fern', 'Branch Five_Pts', 'Branch Five_Pts', 'Branch Floresvi', 'Branch Fort_Sam', 'Branch Fort_Sam', 'Branch Fort_Sam', 'Branch Fratt', 'Branch Fratt', 'Branch Fred_Rd', 'Branch Grandvew', 'Branch Grandvew', 'Branch Grandvew', 'Branch Green_Mt', 'Branch Grissom', 'Branch Grissom', 'Branch Hamwolf', 'Branch Harlanda', 'Branch Harlanda', 'Branch Harmony', 'Branch Helotes', 'Branch Helotes', 'Branch Hillcty4', 'Branch Hillcty4', 'Branch Hillcty4', 'Branch Hillcty3', 'Branch Hillcty3', 'Branch Hillcty1', 'Branch Hillcty1', 'Branch Hillcty1', 'Branch Holbrook', 'Branch Holbrook', 'Branch Hollywd', 'Branch Hondo', 'Branch Hondo', 'Branch Howard', 'Branch Howard', 'Branch Howard', 'Branch Hunt_Ln', 'Branch Kirby', 'Branch Kirby', 'Branch Kirby', 'Branch Lasierra', 'Branch Leon_Crk', 'Branch Leon_Crk', 'Branch Leon_Crk', 'Branch Lytle', 'Branch Lytle', 'Branch Lytle', 'Branch Mauerman', 'Branch Med_Ctr', 'Branch Med_Ctr', 'Branch Medinabs', 'Branch Medinabs', 'Branch Medinabs', 'Branch Merida', 'Branch Merida', 'Branch Merida', 'Branch Nacdches', 'Branch Nacdches', 'Branch Panther', 'Branch Pinn_Rd', 'Branch Quintana', 'Branch Randolph', 'Branch Randolph', 'Branch Skylin1_', 'Branch Skylin3_', 'Branch Skylin4_', 'Branch Skylin4_', 'Branch Somerset', 'Branch Sommers', 'Branch Sommers', 'Branch Stckdale', 'Branch Suthrlnd', 'Branch Swri', 'Branch Swri', 'Branch Tally_Rd', 'Branch Tally_Rd', 'Branch Tri_Cnty', 'Branch Tri_Cnty', 'Branch Usaa_Atp', 'Branch Usaa_A', 'Branch Usaa_Btp', 'Branch Usaa2tp', 'Branch Utsa', 'Branch Utsa', 'Branch Vlsi', 'Branch Fairra', 'Branch Fairra', 'Branch Rayburn8', 'Branch Rayburn8', 'Branch Rayburn8', 'Branch Rayburn8', 'Branch Etpsub8', 'Branch Etpsub8', 'Branch Danevang', 'Branch Danevang', 'Branch Franklnc', 'Branch Wrbrtn8', 'Branch Wrbrtn8', 'Branch Loyolasu', 'Branch Loyolasu', 'Branch Orangegr', 'Branch Orangegr', 'Branch Loop463s', 'Branch Georgews', 'Branch Georgews', 'Branch Georgews', 'Branch Aepchkcn', 'Branch Aepchkcn', 'Branch Snmiguel', 'Branch Crosssub', 'Branch Oakssw8', 'Branch Tordillo', 'Branch Pawneesu', 'Branch Pawneesu', 'Branch Choatesu', 'Branch Yturrias', 'Branch Yturrias', 'Branch Lasarasu', 'Branch Eraymndv', 'Branch Rngrvill', 'Branch Rngrvill', 'Branch Merettsu', 'Branch Merettsu', 'Branch Doedynsu', 'Branch Doedynsu', 'Branch Aderhold', 'Branch Aderhold', 'Branch Gandysub', 'Branch Gandysub', 'Branch Laureles', 'Branch Albertar', 'Branch Albertar', 'Branch Pharrsub', 'Branch Pharrsub', 'Branch Burnssub', 'Branch Burnssub', 'Branch Eriohond', 'Branch Heidlbrg', 'Branch Cntrlave', 'Branch Hiway511', 'Branch Hiway511', 'Branch Weslacos', 'Branch Valverde', 'Branch Wedinbur', 'Branch Wedinbur', 'Branch Altonsub', 'Branch Palmhurs', 'Branch Hilinesu', 'Branch Hilinesu', 'Branch Southmos', 'Branch Southmos', 'Branch Raymondv', 'Branch Raymondv', 'Branch Siouxsub', 'Branch Amistad8', 'Branch Falcon8', 'Branch Falcon8', 'Branch Botiness', 'Branch Randados', 'Branch Hondocre', 'Branch Mooresw8', 'Branch Mooresw8', 'Branch Mooresw8', 'Branch Batesvil', 'Branch Batesvil', 'Branch Dileysws', 'Branch Paloduro', 'Branch Paloduro', 'Branch Downiesw', 'Branch Brunisw8', 'Branch Pearsall', 'Branch Lomaalta', 'Branch Lomaalta', 'Branch Lomaalta', 'Branch Lomaalta', 'Branch Titan', 'Branch Titan', 'Branch Milhwy', 'Branch Milhwy', 'Branch Milhwy', 'Branch Milhwy', 'Branch Milhwy', 'Branch Paloalto', 'Branch Enrwp4', 'Branch Chld4a', 'Branch Bobwhite', 'Branch Bobwhite', 'Branch Bobwhite', 'Branch Lkpauls4', 'Branch Vern4a', 'Branch Vers4a', 'Branch Okla4a', 'Branch Eastmund', 'Branch Eastmund', 'Branch Eastmund', 'Branch Eastmund', 'Branch Spur4a', 'Branch Spur4a', 'Branch Aspm4a', 'Branch Paintcre', 'Branch Paintcre', 'Branch Calcrktp', 'Branch Blf_Crk4', 'Branch Blf_Crk4', 'Branch Blf_Crk4', 'Branch Blf_Crk4', 'Branch Blf_Crk4', 'Branch Ftpp4a', 'Branch Ftpp4a', 'Branch Abnthwst', 'Branch Abnthwst', 'Branch Callahan', 'Branch Callahan', 'Branch Mulberry', 'Branch Mulberry', 'Branch Mulberry', 'Branch Mulberry', 'Branch Abec4a', 'Branch Abec4a', 'Branch Twilight', 'Branch Abrl4a', 'Branch Southabi', 'Branch Southabi', 'Branch Southabi', 'Branch Southabi', 'Branch Southabi', 'Branch Southabi', 'Branch Wyle4a', 'Branch Abeast4a', 'Branch Abeast4a', 'Branch Abeast4a', 'Branch Mulberry', 'Branch Mulberry', 'Branch Countryc', 'Branch Countryc', 'Branch Putn4a', 'Branch Putn4b', 'Branch Potosi_T', 'Branch Potosi_T', 'Branch Potosi_T', 'Branch Sharptap', 'Branch Cisc4a', 'Branch Ft_Chadb', 'Branch Chad4a', 'Branch Oakc4a', 'Branch Balg4a', 'Branch Coletap4', 'Branch Coletap4', 'Branch Coletap4', 'Branch Nicole4a', 'Branch Nicole4a', 'Branch Nicole4a', 'Branch Sana4a', 'Branch Firerock', 'Branch Cole_Ivi', 'Branch Cole_Ivi', 'Branch Yelwjckt', 'Branch Yelwjckt', 'Branch Yelwjckt', 'Branch Ornt4a', 'Branch Redcreek', 'Branch Redcreek', 'Branch Redcreek', 'Branch Paulann4', 'Branch Highland', 'Branch Sast4a', 'Branch Sast4a', 'Branch Sanorth4', 'Branch Sach4a', 'Branch Sach4a', 'Branch Benfickl', 'Branch Sapower4', 'Branch Sapower4', 'Branch Sapower4', 'Branch Lakedriv', 'Branch Santiago', 'Branch Santiago', 'Branch Lvok4a', 'Branch Sonr4a', 'Branch Sonr4a', 'Branch Bglk4a', 'Branch Jerry4a', 'Branch Fdran4a', 'Branch Illn4a', 'Branch Mccamy4', 'Branch Riopecos', 'Branch Riopecos', 'Branch Riopecos', 'Branch Riopecos', 'Branch Riopecos', 'Branch Riopecos', 'Branch Riopecos', 'Branch Wtucran4', 'Branch Ftst4a', 'Branch Ftst4a', 'Branch Wdwrdtp4', 'Branch Wdwrdtp4', 'Branch Mcan4a', 'Branch Castlgap', 'Branch Hargrove', 'Branch Hargrove', 'Branch Hackbtap', 'Branch Hackbtap', 'Branch Cr101tap', 'Branch Tombstne', 'Branch Musquiz4', 'Branch Keystn39', 'Branch Byulocs', 'Branch Ness', 'Branch Tplntsp', 'Branch Patn_Rc', 'Branch Patn_Rc', 'Branch Shrwd_Rc', 'Branch Shmw_Rc', 'Branch I20_Rc', 'Branch I20_Rc', 'Branch Ablsprrc', 'Branch Ablsprrc', 'Branch Enloe_Sw', 'Branch Enloe_Sw', 'Branch Combntrc', 'Branch Wield_Rc', 'Branch Wield_Rc', 'Branch Bldsw_Rc', 'Branch Epco_Rc', 'Branch Oakgv_Rc', 'Branch Oakgv_Rc', 'Branch Tawkssrc', 'Branch Lkvew_Rc', 'Branch L_Ebabsm', 'Branch L_Ebabsm', 'Branch L_Naruna', 'Branch L_Lampas', 'Branch L_Lampas', 'Branch L_Dobyvi', 'Branch L_Adamsv', 'Branch L_Evant_', 'Branch L_Goldth', 'Branch L_Grapmi', 'Branch L_Corona', 'Branch L_Corona', 'Branch L_Burnet', 'Branch L_Shersh', 'Branch L_Shersh', 'Branch L_Wirtz_', 'Branch L_Wirtz_', 'Branch L_Wirtz_', 'Branch L_Wirtz_', 'Branch L_Flatro', 'Branch L_Castel', 'Branch L_Castel', 'Branch L_Pitsbu', 'Branch L_Fergus', 'Branch L_Fergus', 'Branch L_Fergus', 'Branch L_Fergus', 'Branch L_Fergus', 'Branch L_Fergus', 'Branch L_Fergus', 'Branch L_Horsba', 'Branch L_Gilles', 'Branch L_Gilles', 'Branch L_Gilles', 'Branch L_Gilles', 'Branch L_Wolfcr', 'Branch L_Kerrst', 'Branch L_Kerrst', 'Branch L_Kerrst', 'Branch L_Kerrst', 'Branch L_Harpro', 'Branch L_Jackfu', 'Branch L_Jackfu', 'Branch L_Ingram', 'Branch L_Rimroc', 'Branch L_Hunt__', 'Branch L_Hollmi', 'Branch L_Hollmi', 'Branch L_Verdcr', 'Branch L_Verdcr', 'Branch L_Verdcr', 'Branch L_Kendct', 'Branch L_Kendct', 'Branch L_Mounto', 'Branch L_Kendal', 'Branch L_Kendal', 'Branch L_Cico__', 'Branch L_Cico__', 'Branch L_Cico__', 'Branch L_Kendal', 'Branch L_Kendal', 'Branch L_Welfar', 'Branch L_Comfor', 'Branch L_Comfor', 'Branch L_Cyprcr', 'Branch L_Raymba', 'Branch L_Kerrle', 'Branch L_Fairoa', 'Branch L_Berghe', 'Branch L_Berghe', 'Branch L_Antler', 'Branch L_Henne_', 'Branch L_Henne_', 'Branch L_Henne_', 'Branch L_Henne_', 'Branch L_Henne_', 'Branch L_Riveoa', 'Branch L_Henne_', 'Branch L_Henne_', 'Branch L_Henne_', 'Branch L_Horton', 'Branch L_Horton', 'Branch L_Comal_', 'Branch L_Marion', 'Branch L_Marion', 'Branch L_Marion', 'Branch L_Zorn__', 'Branch L_Zorn__', 'Branch L_Zorn__', 'Branch L_Zorn__', 'Branch L_Zorn__', 'Branch L_Mccala', 'Branch L_Mccala', 'Branch L_Mccala', 'Branch L_Mccala', 'Branch L_Raro12', 'Branch L_Redwoo', 'Branch L_Hillto', 'Branch L_Sanmar', 'Branch L_Sanmar', 'Branch L_Sanmar', 'Branch L_Lehigh', 'Branch L_Lehigh', 'Branch L_Canyon', 'Branch L_Canyon', 'Branch L_Hicros', 'Branch L_Hicros', 'Branch L_Hicros', 'Branch L_Colton', 'Branch L_Colton', 'Branch L_Elroy_', 'Branch L_Elroy_', 'Branch L_Wyldwo', 'Branch L_Wyldwo', 'Branch L_Lockha', 'Branch L_Lockha', 'Branch L_Lockha', 'Branch L_High12', 'Branch L_High12', 'Branch L_High12', 'Branch L_Poolro', 'Branch L_Luling', 'Branch L_Hickfo', 'Branch L_Cushma', 'Branch L_Yorkcr', 'Branch L_Seguin', 'Branch L_Seguin', 'Branch L_Seguin', 'Branch L_Seguwe', 'Branch L_Pilogr', 'Branch L_Pilogr', 'Branch L_Sweeho', 'Branch L_Moulto', 'Branch L_Shiner', 'Branch L_Yoakum', 'Branch L_Cheaps', 'Branch L_Cheaps', 'Branch L_Cuero_', 'Branch L_Hallet', 'Branch L_Hallet', 'Branch L_Flaton', 'Branch L_Flaton', 'Branch L_Engle_', 'Branch L_Schule', 'Branch L_Weimar', 'Branch L_Glidde', 'Branch L_Glidde', 'Branch L_Frelsb', 'Branch L_Frelsb', 'Branch L_Bellso', 'Branch L_Bellso', 'Branch L_Bellso', 'Branch L_Bellso', 'Branch L_Newbre', 'Branch L_Waller', 'Branch L_Waller', 'Branch L_Willsp', 'Branch L_Plum__', 'Branch L_Plum__', 'Branch L_Rivers', 'Branch L_Lagran', 'Branch L_Fayepl', 'Branch L_Fayepl', 'Branch L_Fayett', 'Branch L_Fayett', 'Branch L_Fayett', 'Branch L_Fayett', 'Branch L_Bellno', 'Branch L_Wellbr', 'Branch L_Wellbr', 'Branch L_Wellbr', 'Branch L_Wellbr', 'Branch L_Salem_', 'Branch L_Salem_', 'Branch L_Salem_', 'Branch L_Salem_', 'Branch L_Salem_', 'Branch L_High36', 'Branch L_High36', 'Branch L_Brenno', 'Branch L_Brenno', 'Branch L_Pisek_', 'Branch L_Rotota', 'Branch L_Rotota', 'Branch L_Rounto', 'Branch L_Giddin', 'Branch L_Giddin', 'Branch L_Wipopa', 'Branch L_Winche', 'Branch L_Winche', 'Branch L_Winche', 'Branch L_Winche', 'Branch L_Winche', 'Branch L_Pinecr', 'Branch L_Paige_', 'Branch L_Simgid', 'Branch L_Simgid', 'Branch L_Simgid', 'Branch L_Simgid', 'Branch L_Simgid', 'Branch L_Simgid', 'Branch L_Simgid', 'Branch L_Smithv', 'Branch L_Bastci', 'Branch L_Bastci', 'Branch L_Bastci', 'Branch L_Shadgl', 'Branch L_Shadgl', 'Branch L_Mendoz', 'Branch L_Webber', 'Branch L_Manor_', 'Branch L_Harrbr', 'Branch L_Mcneil', 'Branch L_Mcneil', 'Branch L_Mcneil', 'Branch L_Mcneil', 'Branch L_Mcneil', 'Branch L_Holata', 'Branch L_George', 'Branch L_George', 'Branch L_Gabrie', 'Branch L_Gabrie', 'Branch L_Gabrie', 'Branch L_Marbfa', 'Branch L_Marbfa', 'Branch L_Marbfa', 'Branch L_Lakeae', 'Branch L_Lakeae', 'Branch L_Lakeae', 'Branch L_Lakeae', 'Branch L_Mormmi', 'Branch L_Mormmi', 'Branch L_Starck', 'Branch L_Lagovi', 'Branch L_Lagovi', 'Branch L_Marsfo', 'Branch L_Marsfo', 'Branch L_Marsfo', 'Branch L_Marsfo', 'Branch L_Marsfo', 'Branch L_Odlasw', 'Branch L_Odlasw', 'Branch L_Medila', 'Branch L_Pipecr', 'Branch L_Bander', 'Branch L_Lop337', 'Branch L_Gpi___', 'Branch L_Gpi___', 'Branch L_Gpi___', 'Branch L_Gpiswi', 'Branch L_Sherpo', 'Branch L_Freihe', 'Branch L_Ecmorn', 'Branch L_Palefa', 'Branch L_Palefa', 'Branch L_Phjoci', 'Branch L_Miller', 'Branch L_Canyhy', 'Branch L_Canyhy', 'Branch L_Sattle', 'Branch L_Cranmi', 'Branch L_Fische', 'Branch L_Buda__', 'Branch L_Buda__', 'Branch L_Buda__', 'Branch L_Turner', 'Branch L_Turner', 'Branch L_Gofort', 'Branch L_Mancha', 'Branch L_Trpota', 'Branch L_Trpota', 'Branch L_Trpota', 'Branch L_Trpota', 'Branch L_Cedava', 'Branch L_Friend', 'Branch L_Friend', 'Branch L_Ruther', 'Branch L_Dripsp', 'Branch L_Andice', 'Branch L_Andice', 'Branch L_Sewaju', 'Branch L_Leande', 'Branch L_Leande', 'Branch L_Blockh', 'Branch L_Georea', 'Branch L_Whites', 'Branch L_Kentst', 'Branch L_Kentst', 'Branch L_Butter', 'Branch L_Balcon', 'Branch L_Averra', 'Branch L_Bullho', 'Branch L_Bullho', 'Branch L_Bastwe', 'Branch L_Redroc', 'Branch L_Guybur', 'Branch L_Maxzue', 'Branch L_Lylewo', 'Branch L_Lylewo', 'Branch L_Sandhi', 'Branch L_Gayhil', 'Branch L_Tahivi', 'Branch L_Caterp', 'Branch L_Stmein', 'Branch L_Stmein', 'Branch L_Stmein', 'Branch L_Geroni', 'Branch L_Mcquee', 'Branch L_Mcquee', 'Branch L_Mcquee', 'Branch L_Cibolo', 'Branch L_Cibolo', 'Branch L_Schert', 'Branch L_Schert', 'Branch L_Newber', 'Branch L_Olmosw', 'Branch L_Colora', 'Branch L_Colora', 'Branch L_Sherid', 'Branch L_Praivi', 'Branch L_Seaway', 'Branch L_Macedo', 'Branch El_Campo', 'Branch El_Campo', 'Branch El_Campo', 'Branch Lanctypm', 'Branch Bay_City', 'Branch Conoco4a', 'Branch Wadswort', 'Branch Celanebc', 'Branch Ganado4a', 'Branch Edna4a', 'Branch Blessing', 'Branch Blessing', 'Branch Blessing', 'Branch Lolita4a', 'Branch Lolita4a', 'Branch Formosa4', 'Branch Formosa4', 'Branch Lan_Cty4', 'Branch Lan_Cty4', 'Branch Lan_Cty4', 'Branch Joslin4a', 'Branch Joslin4a', 'Branch Joslin4a', 'Branch Joslin4a', 'Branch Gohlke4a', 'Branch V_Dupsw4', 'Branch V_Dupsw4', 'Branch V_Dupsw4', 'Branch V_Dupsw4', 'Branch Airco44a', 'Branch Vistron4', 'Branch Vistron4', 'Branch Bigtre4a', 'Branch Coleto4a', 'Branch Coleto4a', 'Branch Coleto4a', 'Branch Coleto4a', 'Branch Victoria', 'Branch Thomastn', 'Branch Thomastn', 'Branch Kenedysw', 'Branch Kenedysw', 'Branch Kenedysw', 'Branch Lyssy4a', 'Branch Lyssy4a', 'Branch Pleasant', 'Branch Dilleysw', 'Branch Dilleysw', 'Branch Uvalde4a', 'Branch Uvalde4a', 'Branch W_Batesv', 'Branch Brackett', 'Branch Hamltn4a', 'Branch Hamltn4a', 'Branch Hamltn4a', 'Branch Hamltn4a', 'Branch Hamltn4a', 'Branch Hamltn4b', 'Branch Escondid', 'Branch Escondid', 'Branch Escondid', 'Branch Escondid', 'Branch Eagle_Hy', 'Branch Eaglhytp', 'Branch Eagle_Ps', 'Branch Pueblo4a', 'Branch Pueblo4a', 'Branch W_Conoco', 'Branch W_Conoco', 'Branch Asherton', 'Branch Asherton', 'Branch Laredo4a', 'Branch Laredo4a', 'Branch Laredo4a', 'Branch Laredo4a', 'Branch Laredo4a', 'Branch Laredo4a', 'Branch Laredo4a', 'Branch Wormser4', 'Branch Wormser4', 'Branch Wormser4', 'Branch Bruni44a', 'Branch Bruni44a', 'Branch Zapata4a', 'Branch Zapata4a', 'Branch Zapata4a', 'Branch Raymnd24', 'Branch La_Palma', 'Branch La_Palma', 'Branch La_Palma', 'Branch La_Palma', 'Branch Riohondo', 'Branch Riohondo', 'Branch Riohondo', 'Branch Haine_Dr', 'Branch Harlinsw', 'Branch Harlinsw', 'Branch Harlinsw', 'Branch S_Padre4', 'Branch S_Padre4', 'Branch Scarbide', 'Branch P_Isabel', 'Branch Military', 'Branch Military', 'Branch Military', 'Branch Military', 'Branch Military', 'Branch Wesmer4a', 'Branch Weslacou', 'Branch Weslaco4', 'Branch Weslaco4', 'Branch Weslaco4', 'Branch Goodwin4', 'Branch Goodwin4', 'Branch Nweslaco', 'Branch W_Mcalln', 'Branch W_Mcalln', 'Branch N_Mcalln', 'Branch N_Mcalln', 'Branch N_Mcalln', 'Branch N_Mcalln', 'Branch S_Mcalln', 'Branch S_Mcalln', 'Branch S_Mcalln', 'Branch S_Mcalln', 'Branch S_Mcalln', 'Branch Pharr4a', 'Branch Pharr4a', 'Branch Pharr4a', 'Branch Polk_Ave', 'Branch Se_Edinb', 'Branch Nedin4a', 'Branch Nedin4a', 'Branch Nedin4a', 'Branch Nedin4a', 'Branch Nedin4a', 'Branch Nedin4a', 'Branch Nedin4a', 'Branch Palmview', 'Branch Palmview', 'Branch Shlnd_4a', 'Branch Bates4a', 'Branch Garza4a', 'Branch Three_Ri', 'Branch Portland', 'Branch Portland', 'Branch Portland', 'Branch Rincon4a', 'Branch Rincon4a', 'Branch I_Dupsw4', 'Branch I_Dupsw4', 'Branch I_Dupsw4', 'Branch I_Dupsw4', 'Branch I_Dupsw4', 'Branch I_Dupsw4', 'Branch I_Dupsw4', 'Branch I_Dupsw4', 'Branch I_Dupsw4', 'Branch Inglesid', 'Branch Inglesid', 'Branch Citgo_No', 'Branch Citgo_No', 'Branch Citgo_No', 'Branch Citgo_No', 'Branch Citgo_No', 'Branch Aransasp', 'Branch Nueces_B', 'Branch Nueces_B', 'Branch Nueces_B', 'Branch Nueces_B', 'Branch Lon_Hill', 'Branch Lon_Hill', 'Branch Lon_Hill', 'Branch Lon_Hill', 'Branch Lon_Hill', 'Branch Lon_Hill', 'Branch B_Davis4', 'Branch B_Davis4', 'Branch B_Davis4', 'Branch B_Davis4', 'Branch B_Davis4', 'Branch B_Davis4', 'Branch B_Davis4', 'Branch B_Davis4', 'Branch B_Davis4', 'Branch Cantwell', 'Branch Koch_Up4', 'Branch Hiway_94', 'Branch Hiway_94', 'Branch Hiway_94', 'Branch Hiway_94', 'Branch Morris4a', 'Branch Morris4a', 'Branch Champlin', 'Branch Champlin', 'Branch Equistar', 'Branch Weil_Trc', 'Branch South_Si', 'Branch South_Si', 'Branch West_Oso', 'Branch Westside', 'Branch Westside', 'Branch Westside', 'Branch Westside', 'Branch Airline4', 'Branch Airline4', 'Branch Airline4', 'Branch Alice4a', 'Branch Falfur4a', 'Branch Falfur4a', 'Branch Falfur4a', 'Branch Stratton', 'Branch Alazan4a', 'Branch Celanebi', 'Branch Celanebi', 'Branch Kingsvil', 'Branch Stpsw4a', 'Branch Stpfacil', 'Branch Magn4a', 'Branch Cotulla4', 'Branch Reveille', 'Branch Zacate4a', 'Branch Mines_Rd', 'Branch Mines_Rd', 'Branch Del_Mar4', 'Branch Rio_Brav', 'Branch Unvrsty4', 'Branch Gatewye4', 'Branch Gatewye4', 'Branch Gtwyetp4', 'Branch Gtwywtp4', 'Branch Gtwywtp4', 'Branch Roughcan', 'Branch Picacho4', 'Branch Picacho4', 'Branch Buena_Vi', 'Branch Del_Rio4', 'Branch Azteca4', 'Branch Causeway', 'Branch L_Milpas', 'Branch Key_Sw4a', 'Branch Rio_Gran', 'Branch Rio_Gran', 'Branch Roma_Sw4', 'Branch Roma_Sw4', 'Branch Roma4a', 'Branch I_Dupp14', 'Branch Oxy_Ingl', 'Branch Oxy_Ingl', 'Branch Oxy_Ingl', 'Branch I_Dupp14', 'Branch Oxy_Ingl', 'Branch Bentsen', 'Branch Railroad', 'Branch Railroad', 'Branch Railroad', 'Branch Nlarsw4a', 'Branch Sunchse4', 'Branch Milo4a', 'Branch Lopeno4a', 'Branch Whitept4', 'Branch Whitept4', 'Branch Whitept4', 'Branch Whitept4', 'Branch Whitept4', 'Branch Hec4a', 'Branch Hec4a', 'Branch Catarina', 'Branch Air_Liqs', 'Branch Frontera', 'Branch Frontera', 'Branch Frontera', 'Branch Frontera', 'Branch Frontera', 'Branch Dunlap8', 'Branch Dunlap8', 'Branch Dunlap8', 'Branch Garfield', 'Branch Garfield', 'Branch Lytton13', 'Branch Lytton13', 'Branch Mcneilw', 'Branch Mcneilw', 'Branch Mcneilw', 'Branch Mcneils', 'Branch Mcneils', 'Branch Mcneils', 'Branch Mcneiln', 'Branch Mcneiln', 'Branch Mcneiln', 'Branch Mcneiln', 'Branch Mcneiln', 'Branch Pe_Mb2', 'Branch Pe_Mb2', 'Branch Pe_Mb2', 'Branch Burl_Db1', 'Branch Burl_Db1', 'Branch Burl_Mb2', 'Branch Burl_Mb2', 'Branch Kingsmb1', 'Branch Kingsmb1', 'Branch Kingsmb1', 'Branch Kingsmb1', 'Branch Kingsdb', 'Branch Kingsdb', 'Branch Northl13', 'Branch Northl13', 'Branch Northl13', 'Branch Northl13', 'Branch Seahm8', 'Branch Seahm8', 'Branch Seahm8', 'Branch Austndam', 'Branch Hicrsmb2', 'Branch Hicrsmb2', 'Branch Hicrsmb1', 'Branch Hicrsmb1', 'Branch Hicrsmb1', 'Branch Amd', 'Branch Angusval', 'Branch Angusval', 'Branch Barton', 'Branch Barton', 'Branch Barton', 'Branch Beecreek', 'Branch Bergstrm', 'Branch Bergstrm', 'Branch Metcentr', 'Branch Brodie', 'Branch Brodie', 'Branch Cameron', 'Branch Cameron', 'Branch Carson', 'Branch Commonfd', 'Branch Daffin_G', 'Branch Daffin_G', 'Branch Deck_Mb1', 'Branch Deck_Mb1', 'Branch Deck_Mb1', 'Branch Deck_Mb1', 'Branch Deck_Mb1', 'Branch Deck_Mb1', 'Branch Techridg', 'Branch Dessau', 'Branch Dessau', 'Branch Hamilmb2', 'Branch Hamilmb2', 'Branch Hamilmb2', 'Branch Hamilmb2', 'Branch Hamilmb1', 'Branch Hiddenvl', 'Branch Sandhsyd', 'Branch Sandhsyd', 'Branch Howardln', 'Branch Jett', 'Branch Jollyvil', 'Branch Stoney_R', 'Branch Magplant', 'Branch Northwes', 'Branch Oakhill', 'Branch Onion_Ck', 'Branch Pattonln', 'Branch Steck', 'Branch Summitn', 'Branch Summitn', 'Branch Webber_S', 'Branch Wheless', 'Branch Patricia', 'Branch Jpayne_C', 'Branch Jpayne_C', 'Branch Haynes_8', 'Branch Prstmdw', 'Branch Faskenc', 'Branch Goldsou', 'Branch Scurcnt', 'Branch Polecat', 'Branch Eaglemn', 'Branch Eaglemn', 'Branch Eaglemn', 'Branch Eaglemn', 'Branch Eaglemn', 'Branch Eaglemn', 'Branch Benbrks', 'Branch Mayfldw', 'Branch Ligswsr', 'Branch Ligswsr', 'Branch Ligswsr', 'Branch Gv_360_', 'Branch Gv_360_', 'Branch Gv_360_', 'Branch Clyvil1', 'Branch Hrtag2_', 'Branch Bd_Wdsn', 'Branch Eglmtla', 'Branch Rnrtpl_', 'Branch Rnrtpl_', 'Branch Rnrtpl_', 'Branch Rnrtpl_', 'Branch Rnrtpl_', 'Branch Rnrtpl_', 'Branch Irvrvsd', 'Branch Cnvlsw_', 'Branch Parkd_1', 'Branch Parkd_1', 'Branch Parkd_2', 'Branch Parkd_T', 'Branch Parkd_T', 'Branch Mdltm1_', 'Branch Mdltm2_', 'Branch Parkd_2', 'Branch Cnvlsw_', 'Branch Cnvlsw_', 'Branch Ablsprg', 'Branch Ablsprg', 'Branch Rvrfrnt', 'Branch Allensw', 'Branch Rowlett', 'Branch Temp_Ss', 'Branch Sand_Tx', 'Branch Sand_Tx', 'Branch Sand_Tx', 'Branch Sandow_', 'Branch Sandow_', 'Branch Clayhil', 'Branch Temple_', 'Branch Dfw_Ee1', 'Branch Dfw_Se1', 'Branch Dfw_Dw1', 'Branch Dfw_Dw2', 'Branch Dfw_Dw2', 'Branch Dfw_De1', 'Branch Dfw_De1', 'Branch Dfw_De1', 'Branch Dfw_Ae1', 'Branch Hurst_S', 'Branch Wndcrk1', 'Branch Pb5gen_', 'Branch Chinagr', 'Branch Chinagr', 'Branch Collins', 'Branch Collins', 'Branch Csst', 'Branch Csst', 'Branch Csst', 'Branch Csst', 'Branch Csst', 'Branch Cspt', 'Branch Cssv', 'Branch Csgp', 'Branch Csgp', 'Branch Csgp', 'Branch Dowlngr', 'Branch Dowlngr', 'Branch Bryn_Ta', 'Branch Bryn_Ta', 'Branch Bryn_Ta', 'Branch Bryn_Sn', 'Branch Bryn_Sn', 'Branch Bryn_Jk', 'Branch Bryn_Jk', 'Branch Bryn_Ko', 'Branch Bryn_At', 'Branch Bryn_Th', 'Branch Bryn_Gr', 'Branch Bryn_Gr', 'Branch Bryn_St', 'Branch Bryn_So', 'Branch Tnlakep', 'Branch Tnhighl', 'Branch Tnwest_', 'Branch Tnti___', 'Branch Tnclima', 'Branch Tnhill_', 'Branch Tnbrdrf', 'Branch Tnwolfb', 'Branch Tn16th_', 'Branch Tn16th_', 'Branch Tnwdwrd', 'Branch Tnwhite', 'Branch Tnwhite', 'Branch Tncentr', 'Branch Tncentr', 'Branch Tnisp__', 'Branch Tnisp__', 'Branch Tntejas', 'Branch Tntejas', 'Branch Tncoman', 'Branch Tncoman', 'Branch Tngrenb', 'Branch Tngrenb', 'Branch Tngrenb', 'Branch Tnamoco', 'Branch Tnamoco', 'Branch Tncaddo', 'Branch Tncaddo', 'Branch Tncaddo', 'Branch Tncaddo', 'Branch Tncaddo', 'Branch Tnapach', 'Branch Tnapach', 'Branch Tnheigh', 'Branch Tnheigh', 'Branch Tnfrwyp', 'Branch Tnfrwyp', 'Branch Tnfrwyp', 'Branch Tndickn', 'Branch Tnsoush', 'Branch Tnsoush', 'Branch Tnmagno', 'Branch Tnfrdsw', 'Branch Tnfrdsw', 'Branch Tnhasti', 'Branch Tnnalvi', 'Branch Tnnalvi', 'Branch Tnnalvi', 'Branch Tnchero', 'Branch Tnchero', 'Branch Tnwcolm', 'Branch Tnwcolm', 'Branch Tnwcolm', 'Branch Tnwcolm', 'Branch Tnwcolm', 'Branch Tnwcolm', 'Branch Tnwcoll', 'Branch Tnangle', 'Branch Tnbrazo', 'Branch Cedarp_', 'Branch Cedarp_', 'Branch Cedarp_', 'Branch Cedarp_', 'Branch Cedar__', 'Branch Cedar__', 'Branch Cedar__', 'Branch Cedar_8', 'Branch Cedar_8', 'Branch Cedar_8', 'Branch Cedarp_', 'Branch Cedarp_', 'Branch Cedarp_', 'Branch Airpro_', 'Branch Airpro_', 'Branch Airpro_', 'Branch Anbush_', 'Branch Anbush_', 'Branch Aritek_', 'Branch Atasco_', 'Branch Atasco_', 'Branch Barhil_', 'Branch Barhil_', 'Branch Bender_', 'Branch Baytwn_', 'Branch Baytwn_', 'Branch Baytwn_', 'Branch Baytwn_', 'Branch Baytwn_', 'Branch Baytwn6', 'Branch Bertwd_', 'Branch Bertwd_', 'Branch Bigvue_', 'Branch Bimont_', 'Branch Borden_', 'Branch Borden_', 'Branch Brine__', 'Branch Brine__', 'Branch Chanlv_', 'Branch Chanlv_', 'Branch Chanlv_', 'Branch Chanlv_', 'Branch Crsbay_', 'Branch Chev___', 'Branch Chorin_', 'Branch Citfil_', 'Branch Citfil_', 'Branch Cities_', 'Branch Duncan_', 'Branch Conial_', 'Branch Conial_', 'Branch Crosby_', 'Branch Crosby_', 'Branch Crosby_', 'Branch Crosby_', 'Branch Crosby_', 'Branch Crosby_', 'Branch Crown__', 'Branch Crown__', 'Branch Depot__', 'Branch Davson_', 'Branch Davson_', 'Branch Opnday_', 'Branch Decker_', 'Branch Deerpk2', 'Branch Deerpk2', 'Branch Deerpk2', 'Branch Deerpk9', 'Branch Deerpk9', 'Branch Deerpk9', 'Branch Deusen_', 'Branch Deusen_', 'Branch Diabox_', 'Branch Diabox_', 'Branch Dowlap_', 'Branch Eagle__', 'Branch Enprod_', 'Branch Epoth__', 'Branch Esbelt_', 'Branch Esbelt_', 'Branch Esfork_', 'Branch Esfork_', 'Branch Explor_', 'Branch Explor_', 'Branch Explor_', 'Branch Exxon__', 'Branch Exxon__', 'Branch Fdlity_', 'Branch Fdlity_', 'Branch Galena_', 'Branch Galena_', 'Branch Galena9', 'Branch Galena9', 'Branch Glenwd_', 'Branch Gdyear_', 'Branch Grnbyu_', 'Branch Grnbyu_', 'Branch Grnbyu_', 'Branch Grnbyu_', 'Branch Grnbyu_', 'Branch Grnbyu_', 'Branch Grnbyu_', 'Branch Grnbyu_', 'Branch Grnbyu_', 'Branch Grnbyu_', 'Branch Norton_', 'Branch Norton_', 'Branch Ralynd_', 'Branch Lngstn_', 'Branch Haden__', 'Branch Haney__', 'Branch Hiland0', 'Branch Hiland0', 'Branch Hiland6', 'Branch Humble_', 'Branch Humble_', 'Branch Humble_', 'Branch Humble_', 'Branch Indust_', 'Branch Kenny__', 'Branch Kenny__', 'Branch King__9', 'Branch King__9', 'Branch King__9', 'Branch Laport9', 'Branch Laport7', 'Branch Laport7', 'Branch Laport7', 'Branch Librty0', 'Branch Librty0', 'Branch Librty2', 'Branch Librty2', 'Branch Lubzol_', 'Branch Lubzol_', 'Branch Lubzol_', 'Branch Lychem_', 'Branch Lychem_', 'Branch Lydell_', 'Branch Lydell_', 'Branch Lyondl0', 'Branch Lyondl0', 'Branch Lyondl0', 'Branch Metals_', 'Branch Metals_', 'Branch Moment_', 'Branch Morgpt_', 'Branch Morgpt_', 'Branch Mt_Bel_', 'Branch Mt_Bel_', 'Branch Newprt_', 'Branch Ninth__', 'Branch Nobel__', 'Branch Nobel__', 'Branch Normdy7', 'Branch Normdy9', 'Branch Orion__', 'Branch Orion__', 'Branch Pair___', 'Branch Parkwy9', 'Branch Parkwy9', 'Branch Jeffer_', 'Branch Jeffer_', 'Branch Jeffer_', 'Branch Jeffer_', 'Branch Jeffer_', 'Branch Jeffer_', 'Branch Philip_', 'Branch Philip_', 'Branch Port___', 'Branch Psarco_', 'Branch Psarco_', 'Branch Quanab_', 'Branch Quanab_', 'Branch Quanum_', 'Branch Rohmas_', 'Branch Barnes_', 'Branch Rollen_', 'Branch S_Chan_', 'Branch S_Chan_', 'Branch S_Chan_', 'Branch S_R_B__', 'Branch S_R_B__', 'Branch S_R_B__', 'Branch S_R_B__', 'Branch Taylor_', 'Branch Tidal__', 'Branch Undrwd0', 'Branch Undrwd0', 'Branch Undrwd2', 'Branch Uvalde0', 'Branch Uvalde0', 'Branch Witter9', 'Branch Witter9', 'Branch Witter9', 'Branch Witter2', 'Branch P_H_R__', 'Branch P_H_R__', 'Branch P_H_R__', 'Branch P_H_R__', 'Branch P_H_R__', 'Branch P_H_R__', 'Branch P_H_R_7', 'Branch P_H_R_7', 'Branch P_H_R_9', 'Branch P_H_R_9', 'Branch P_H_R__', 'Branch P_H_R__', 'Branch P_H_R__', 'Branch P_H_R__', 'Branch Cc_Am__', 'Branch Cc_Am__', 'Branch Cc_Am__', 'Branch Cc_Am__', 'Branch Cc_Am__', 'Branch Alta_L_', 'Branch Amoco__', 'Branch Amoco__', 'Branch Amoco__', 'Branch Angltn_', 'Branch Angltn_', 'Branch Angltn_', 'Branch Angltn_', 'Branch Armand_', 'Branch Armand_', 'Branch Basf___', 'Branch Basf___', 'Branch Bayou__', 'Branch Bayway_', 'Branch Bayway_', 'Branch Bayway_', 'Branch Bayway_', 'Branch Bigbay_', 'Branch Biport_', 'Branch Biport_', 'Branch Boostr_', 'Branch Boostr_', 'Branch Bypark_', 'Branch Bypark_', 'Branch Captol_', 'Branch Cardif_', 'Branch Celnec_', 'Branch Choc_B2', 'Branch Choc_B0', 'Branch Gno_Ck_', 'Branch Gno_Ck_', 'Branch Gno_Ck_', 'Branch Gno_Ck_', 'Branch Gno_Ck_', 'Branch Gno_Ck_', 'Branch Colege9', 'Branch Colege9', 'Branch Colege0', 'Branch Colege0', 'Branch Dow____', 'Branch Dow____', 'Branch Dow____', 'Branch Dow____', 'Branch Drouet_', 'Branch Drouet_', 'Branch Drouet9', 'Branch Eldora9', 'Branch Eldora9', 'Branch Eldora9', 'Branch Eldora9', 'Branch Eldora9', 'Branch Elling0', 'Branch Elling9', 'Branch Elling9', 'Branch Elling9', 'Branch Fairmt_', 'Branch Fairmt9', 'Branch Fairmt9', 'Branch Friend0', 'Branch Friend0', 'Branch Friend0', 'Branch Friend0', 'Branch Friend0', 'Branch Friend0', 'Branch Galves_', 'Branch Galves_', 'Branch Galves_', 'Branch Galves_', 'Branch Garden_', 'Branch Garden_', 'Branch Genoa95', 'Branch Genoa35', 'Branch Gulfgt9', 'Branch Gulfgt9', 'Branch Gulfgt9', 'Branch Gulfgt_', 'Branch Gulfgt_', 'Branch Gulfgt_', 'Branch My_Ha__', 'Branch My_Ha__', 'Branch My_Ha__', 'Branch My_Ha__', 'Branch Hanna__', 'Branch Himont_', 'Branch Hofman_', 'Branch Hunter_', 'Branch Kemah_9', 'Branch Kemah_9', 'Branch Kemah_9', 'Branch Kemah_9', 'Branch Livrpl_', 'Branch Maryck0', 'Branch Maryck9', 'Branch Monsan_', 'Branch Moody__', 'Branch Moody__', 'Branch Term_A_', 'Branch Term_A_', 'Branch Opn_T_A', 'Branch Term_B_', 'Branch Nasa___', 'Branch Nash__0', 'Branch Nash__0', 'Branch Nash__0', 'Branch Dyann__', 'Branch Dyann__', 'Branch Dyann__', 'Branch Newglf0', 'Branch Newglf0', 'Branch Newglf0', 'Branch Newglf6', 'Branch Newglf6', 'Branch Newglf6', 'Branch Pearld0', 'Branch Pearld0', 'Branch Pearld9', 'Branch Pearld9', 'Branch Pilgrm0', 'Branch Pilgrm0', 'Branch Pilgrm0', 'Branch Plaris_', 'Branch Plaris3', 'Branch Plaris3', 'Branch Pledgr0', 'Branch Pledgr0', 'Branch Powell_', 'Branch Riwood_', 'Branch Seawal_', 'Branch Seaway_', 'Branch Seaway_', 'Branch Septon_', 'Branch Sintek_', 'Branch Sowyck_', 'Branch Spencr0', 'Branch Spencr_', 'Branch Stewrt_', 'Branch Stewrt_', 'Branch Stewrt_', 'Branch Telphn_', 'Branch Telphn9', 'Branch Telphn9', 'Branch Tikis_0', 'Branch Vlasco_', 'Branch S_Hous9', 'Branch S_Hous_', 'Branch S_Hous_', 'Branch W_Galv_', 'Branch Webstr_', 'Branch Webstr_', 'Branch Webstr9', 'Branch Webstr9', 'Branch Webstr3', 'Branch Webstr_', 'Branch Whartn_', 'Branch Whartn_', 'Branch W_A_P__', 'Branch W_A_P__', 'Branch W_A_P__', 'Branch W_A_P__', 'Branch W_A_P__', 'Branch W_A_P__', 'Branch W_A_P__', 'Branch W_A_P__', 'Branch W_A_P__', 'Branch Alief__', 'Branch Alief__', 'Branch Barker7', 'Branch Barker7', 'Branch Barker7', 'Branch Blurig_', 'Branch Blurig_', 'Branch Blurig_', 'Branch Blurig0', 'Branch Blurig0', 'Branch Blurig0', 'Branch Brazos_', 'Branch Brazos_', 'Branch Britmr_', 'Branch Britmr_', 'Branch Britmr_', 'Branch Britmr_', 'Branch Britmr_', 'Branch Britmr_', 'Branch Britmr_', 'Branch Britmr_', 'Branch Caney_X', 'Branch Caney_X', 'Branch Caney_X', 'Branch Clodin_', 'Branch Crabb__', 'Branch Crabb__', 'Branch Crabb_8', 'Branch Dewalt_', 'Branch Dewalt_', 'Branch E_Bern_', 'Branch Echo___', 'Branch Echo___', 'Branch Echo__7', 'Branch Echo__7', 'Branch Echo__8', 'Branch Echo__8', 'Branch Echo__8', 'Branch Echo__8', 'Branch Flewln_', 'Branch Flewln_', 'Branch Flewln_', 'Branch Flewln_', 'Branch Flewln_', 'Branch Ftbend_', 'Branch Ftbend_', 'Branch Hayes__', 'Branch Hayes_2', 'Branch Hayes_2', 'Branch Imperl0', 'Branch Imperl0', 'Branch Interm0', 'Branch Interm0', 'Branch Interm2', 'Branch Interm2', 'Branch Karstn_', 'Branch Karstn_', 'Branch Karstn_', 'Branch Karstn_', 'Branch Katy__0', 'Branch Katy___', 'Branch Katy___', 'Branch Mason__', 'Branch Memorl_', 'Branch Memorl_', 'Branch Memorl_', 'Branch Memorl_', 'Branch Mocity0', 'Branch Mocity0', 'Branch Mocity0', 'Branch Mocity0', 'Branch Obrien_', 'Branch Obrien_', 'Branch Obrien2', 'Branch Obrien7', 'Branch Tv_Qv__', 'Branch Tv_Qv__', 'Branch Tv_Qv__', 'Branch Sauer__', 'Branch Sauer__', 'Branch Sauer_8', 'Branch Sauer_8', 'Branch Sealy__', 'Branch Sealy__', 'Branch Sienna0', 'Branch Sienna0', 'Branch Stafrd_', 'Branch Stafrd_', 'Branch Stafrd_', 'Branch Telvew0', 'Branch Telvew2', 'Branch Thomsn8', 'Branch Thomsn8', 'Branch Wchase_', 'Branch Wchase_', 'Branch Wchase2', 'Branch Wchase2', 'Branch Wirt___', 'Branch Wirt___', 'Branch Wirt__8', 'Branch Wirt__8', 'Branch Wirt__8', 'Branch Woodck8', 'Branch Woodck7', 'Branch T_H_W__', 'Branch T_H_W__', 'Branch T_H_W__', 'Branch T_H_W__', 'Branch T_H_W_8', 'Branch T_H_W_8', 'Branch T_H_W_8', 'Branch T_H_W__', 'Branch T_H_W__', 'Branch T_H_W__', 'Branch T_H_W__', 'Branch Adicks_', 'Branch Adicks_', 'Branch Adicks2', 'Branch Adicks_', 'Branch Airlin_', 'Branch Airlin_', 'Branch Aldine_', 'Branch Aldine_', 'Branch Bammel_', 'Branch Bammel_', 'Branch Berry__', 'Branch Berry__', 'Branch Betka__', 'Branch Betka__', 'Branch Cambel0', 'Branch Cambel0', 'Branch Cambel_', 'Branch Cambel_', 'Branch Camron_', 'Branch Cyfair_', 'Branch Cyfair_', 'Branch Cyfair_', 'Branch Cyfair2', 'Branch Cyfair2', 'Branch Deihl__', 'Branch Deihl__', 'Branch Drilco_', 'Branch Drilco_', 'Branch Eureka_', 'Branch Eureka_', 'Branch Gears__', 'Branch Gears__', 'Branch Gears__', 'Branch Gears_9', 'Branch Gears_9', 'Branch Gertie0', 'Branch Gertie_', 'Branch Gertie_', 'Branch Greens8', 'Branch Greens8', 'Branch Greens9', 'Branch Greens9', 'Branch Greens9', 'Branch Hardy__', 'Branch Hardy__', 'Branch Hardy__', 'Branch Hidden6', 'Branch Hidden6', 'Branch Hidden9', 'Branch Hidden9', 'Branch Hockly_', 'Branch Hockly_', 'Branch Hockly_', 'Branch Hockly_', 'Branch Inteq__', 'Branch Inter__', 'Branch Jester_', 'Branch Jester_', 'Branch Klein__', 'Branch Klein__', 'Branch Kluge__', 'Branch Kluge__', 'Branch Lauder9', 'Branch Lauder9', 'Branch Lauder9', 'Branch Lauder9', 'Branch Lauder9', 'Branch Lauder9', 'Branch Lockwd_', 'Branch Lockwd8', 'Branch Loueta_', 'Branch Loueta_', 'Branch Loueta_', 'Branch Loueta_', 'Branch Loueta_', 'Branch Loueta_', 'Branch N_Belt_', 'Branch N_Belt_', 'Branch Pinhur_', 'Branch Rayfrd_', 'Branch Rayfrd_', 'Branch Sprgwd_', 'Branch Ritten8', 'Branch Ritten9', 'Branch Satsum_', 'Branch Satsum_', 'Branch Scenic8', 'Branch Todd___', 'Branch Todd___', 'Branch Todd__0', 'Branch Todd__0', 'Branch Tombal_', 'Branch Tombal_', 'Branch Tombal_', 'Branch Trswig_', 'Branch Vetran_', 'Branch Vetran_', 'Branch Whitok_', 'Branch Whitok7', 'Branch Belair_', 'Branch Belair_', 'Branch Belair_', 'Branch Belair_', 'Branch Belair_', 'Branch Belair_', 'Branch Belair2', 'Branch Belair_', 'Branch Belair_', 'Branch Belair_', 'Branch Belair_', 'Branch Brays__', 'Branch Dunval0', 'Branch Dunval0', 'Branch Dunval0', 'Branch Dunval_', 'Branch Dunval_', 'Branch Fannin_', 'Branch Fannin_', 'Branch Fondrn_', 'Branch Fondrn_', 'Branch Grant__', 'Branch Grant__', 'Branch H_O_C__', 'Branch H_O_C__', 'Branch H_O_C__', 'Branch H_O_C__', 'Branch Hilcrf2', 'Branch Hilcrf2', 'Branch Hilcrf_', 'Branch Hilcrf_', 'Branch Holmes_', 'Branch Jeneta_', 'Branch Jeneta_', 'Branch Kirby__', 'Branch Kirby__', 'Branch Kirby__', 'Branch Kirby__', 'Branch Knight0', 'Branch Knight0', 'Branch Knight0', 'Branch Knight0', 'Branch Sanflp_', 'Branch Sharps_', 'Branch Sharps_', 'Branch Teco___', 'Branch Ulrich_', 'Branch Westwd_', 'Branch Westwd2', 'Branch Dwntwn_', 'Branch Dwntwn_', 'Branch Bloget3', 'Branch Bloget3', 'Branch Cougar_', 'Branch Crcket_', 'Branch Crcket_', 'Branch Crcket_', 'Branch E_Side_', 'Branch E_Side_', 'Branch E_Side_', 'Branch Frakln_', 'Branch Gable__', 'Branch Garrot_', 'Branch Garrot_', 'Branch Mag_Pk_', 'Branch Mag_Pk_', 'Branch Midtwn_', 'Branch Midtwn_', 'Branch Midtwn_', 'Branch Midtwn_', 'Branch N_Side9', 'Branch N_Side2', 'Branch Univer_', 'Branch Univer7', 'Branch Almeda2', 'Branch Almeda0', 'Branch Colege0', 'Branch Clerlk9', 'Branch Clerlk3', 'Branch Jester6', 'Branch Jester8', 'Branch Scenic8', 'Branch Qualvy0', 'Branch Telvew0', 'Branch Telvew0', 'Branch Telvew2', 'Branch Pwrplan', 'Branch Pwrplan', 'Branch Fm_802', 'Branch Fm_802', 'Branch Price_R', 'Branch Filter_', 'Branch Airport', 'Branch Sixth_S', 'Branch Kingtap', 'Branch Kingtap', 'Branch Kingtap', 'Branch Spud4a', 'Branch Walkert', 'Branch Blf_Crk', 'Branch Blf_Crk', 'Branch Blf_Crk', 'Branch L_Skywe', 'Branch L_Skywe', 'Branch L_Tippe', 'Branch L_Twinb', 'Branch L_Nortm', 'Branch L_Nortm', 'Branch L_Masoc', 'Branch L_Fortl', 'Branch L_Nortm', 'Branch L_Nortm', 'Branch L_Nortm', 'Branch L_Lcran', 'Branch L_Kingm', 'Branch L_Kingm', 'Branch L_Nada8', 'Branch L_Lostc', 'Branch L_Fm237', 'Branch L_Runge', 'Branch L_Nordh', 'Branch L_Nordh', 'Branch L_Magnt', 'Branch L_Magnt', 'Branch Buffalo', 'Branch Su_Grad', 'Branch Su_Brow', 'Branch Su_Koch', 'Branch Kochtap', 'Branch Coyote', 'Branch Bulldog', 'Branch Bulldog', 'Branch Su_Elbo', 'Branch Hdcl_Cn', 'Branch Hdcl_Cn', 'Branch Canal_R', 'Branch Su_S_Mi', 'Branch Su_Stla', 'Branch Lardvnt', 'Branch Lardvnt', 'Branch Lardvnt', 'Branch Lardvnt', 'Branch Lardvnt', 'Branch Plmhstt', 'Branch Plmhstt', 'Branch Plmhstt', 'Branch Moore_F', 'Branch Palmhur', 'Branch White_P', 'Branch Lardvft', 'Branch Lobo4a', 'Branch Mayo4a', 'Branch Pelican', 'Branch Pelican', 'Branch Gila4a', 'Branch Gila4a', 'Branch Laspulg', 'Branch Laquint', 'Branch Laquint', 'Branch Tpco_Ta', 'Branch Pilonci', 'Branch N_Sharp', 'Branch Lar_Bl', 'Branch Lar_Bl', 'Branch Lar_Bl', 'Branch Bl__Bl', 'Branch Bl__Bl', 'Branch Dow_G3', 'Branch Dow_G3', 'Branch Dow_G3', 'Branch Dowgen', 'Branch Dowgen', 'Branch Dowgen', 'Branch Dowgen', 'Branch Dowgen', 'Branch Dowgen', 'Branch Dowgen', 'Branch Dow_84', 'Branch Dow_84', 'Branch Dow_84', 'Branch Dow_84', 'Branch Dow_84', 'Branch Dow_84', 'Branch Dowgen', 'Branch Dowgen', 'Branch Dowgen', 'Branch Dow_G9', 'Branch Dow_G9', 'Branch Dowgen', 'Branch Dowgen', 'Branch Dowgen', 'Branch _Ak_1_', 'Branch Amocoo', 'Branch Amocoo', 'Branch Amocoo', 'Branch Amocoo', 'Branch Amocoo', 'Branch Amocoo', 'Branch Amocoo', 'Branch Amocoo', 'Branch Alcoa_', 'Branch Exn_1_', 'Branch Forfpc', 'Branch Forfpc', 'Branch Forfpc', 'Branch Forcfb', 'Branch Forcfb', 'Branch Forcfb', 'Branch Forcfb', 'Branch Sclpco', 'Branch Sclpco', 'Branch Woodwr', 'Branch King_S', 'Branch Keo_1_', 'Branch Keo_2_', 'Branch Nwf_1_', 'Branch Bullcr', 'Branch Bullcr', 'Branch Lncrk2', 'Branch Dc_R_B', 'Branch Reyshe', 'Branch Lv1_Ab', 'Branch Lv1_Ab', 'Branch Sdses_', 'Branch Hhgt_1', 'Branch Hhgt_2', 'Branch Hhgt_3', 'Branch Hhgt_4', 'Branch Hhgt_5', 'Branch Hhgt_X', 'Branch Hhgt_X', 'Branch Hhgt_X', 'Branch Pony_3', 'Branch Pony_4', 'Branch Sweetw', 'Branch Sweetw', 'Branch Braz_W', 'Branch Braz_W', 'Branch Buff_G', 'Branch Caprid', 'Branch Divide', 'Branch Caprid', 'Branch Cnvlsw', '69KV', 'Branch Hearnecity', 'Branch Hearnecity', 'Branch Hearne9', 'Branch Hearne9', 'Branch Sutton', 'Branch Hiltplkssw', 'Branch Hiltplkssw', 'Branch Hiltplkssw', 'Branch Elliott', 'Branch Branchvile', 'Branch Silvercity', 'Branch Silvercity', 'Branch Silvercity', 'Branch Barclay', 'Branch Calvertsw', 'Branch Calvertsw', 'Branch Plesntgrov', 'Branch Kosseswch', 'Branch Kosseswch', 'Branch Kosseswch', 'Branch Perry9', 'Branch Perry9', 'Branch Benhur', 'Branch Benhur', 'Branch Prairiehi', 'Branch Bartletts', 'Branch Bartletts', 'Branch Bartletts', 'Branch Bartlett', 'Branch Schwertne', 'Branch Poage', 'Branch Poage', 'Branch Poage', 'Branch Bellcnty9', 'Branch Tugtsvils', 'Branch Tugtsvils', 'Branch Tugtsvils', 'Branch Lorena', 'Branch Lorena', 'Branch Santafesw', 'Branch Santafesw', 'Branch Gatesvill', 'Branch Gatesvill', 'Branch Pancake', 'Branch Pancake', 'Branch Navaromil', 'Branch Navaromil', 'Branch Dawson', 'Branch Barry', 'Branch Barry', 'Branch Purdon', 'Branch Freestone', 'Branch Sardis9', 'Branch Bethel', 'Branch Reagorspr', 'Branch Rockettsw', 'Branch Rockettsw', 'Branch Rockett', 'Branch Itasca', 'Branch Itasca', 'Branch Peoria', 'Branch Dwussww', 'Branch Dwussww', 'Branch Whitneydm', 'Branch Whitneydm', 'Branch Frtgatess', 'Branch Hamilton', 'Branch Indiangap', 'Branch Energysw', 'Branch Energysw', 'Branch Waring', 'Branch Waylnd', 'Branch Waylnd', 'Branch Gustine', 'Branch Hasse', 'Branch Downing', 'Branch Downing', 'Branch Risingsta', 'Branch Risingsta', 'Branch Deleon', 'Branch Mountary', 'Branch Carltonsw', 'Branch Carltonsw', 'Branch Granbury9', 'Branch Granbury9', 'Branch Hillcity', 'Branch Glenrose', 'Branch Meridian', 'Branch Meridian', 'Branch Mrsshprd', 'Branch Mrsshprd', 'Branch Spunky9', 'Branch Spunky9', 'Branch Spunky9', 'Branch Georgescr', 'Branch Newhope', 'Branch Fox9', 'Branch Sodasprng', 'Branch Hilltop9', 'Branch Hilltop9', 'Branch Shadygrov', 'Branch Shadygrov', 'Branch Advance', 'Branch Whitt', 'Branch Bowie9', 'Branch Johnsonsw', 'Branch Johnsonsw', 'Branch Hawkins9', 'Branch Hawkins9', 'Branch Woodbine', 'Branch Smssw', 'Branch Smssw', 'Branch Smssw', 'Branch Sivlsbnds', 'Branch Sivlsbnds', 'Branch Sivlsbnds', 'Branch Gainesvil', 'Branch Gainesvil', 'Branch Paducah', 'Branch Copperbrk', 'Branch Copperbrk', 'Branch Sinclairs', 'Branch Sinclairs', 'Branch Henry', 'Branch Henry', 'Branch King', 'Branch King', 'Branch Jayton', 'Branch Stjo9', 'Branch Stjo9', 'Branch Stjo9', 'Branch Stjo9', 'Branch Espuela', 'Branch Clairmont', 'Branch Bissett', 'Branch Capscorne', 'Branch Aspermont', 'Branch Nocona', 'Branch Rochester', 'Branch Knox', 'Branch Knox', 'Branch Joy', 'Branch Joy', 'Branch Postoaksw', 'Branch Postoaksw', 'Branch Shannon', 'Branch Lanham', 'Branch Seymour', 'Branch Seymour', 'Branch Elbert', 'Branch Elbertsw', 'Branch Elbertsw', 'Branch Lakekemps', 'Branch Lakekemps', 'Branch Oran', 'Branch Olney9', 'Branch Olney9', 'Branch Olney9', 'Branch Jean', 'Branch Sthbendsw', 'Branch Apollo_9', 'Branch Apollo_9', 'Branch College9', 'Branch Raytheon', 'Branch Raytheon', 'Branch Jupiter', 'Branch Praxair', 'Branch Oakland', 'Branch Oakland', 'Branch Newman9', 'Branch Lawlert', 'Branch Praxairt', 'Branch Naaman', 'Branch Shilohtp', 'Branch Poes31569', 'Branch Poes31569', 'Branch Pole_Sp16', 'Branch Pole_Sp16', 'Branch Pole_Sp16', 'Branch Pole_Sp16', 'Branch Polespl26', 'Branch Polespl26', 'Branch Polespl26', 'Branch Bonbrae69', 'Branch Bonbrae69', 'Branch Spncr_Sw6', 'Branch Hickory69', 'Branch Hickory69', 'Branch Rdwells69', 'Branch Diesel_D', 'Branch Diesel_D', 'Branch Diesel_D', 'Branch Steam_D', 'Branch Steam_D', 'Branch Steam_D', 'Branch Ltv_D', 'Branch Ltv_D', 'Branch Terrel_D', 'Branch Terrel_D', 'Branch Ind_Pk_D', 'Branch Oneal_D', 'Branch Permianb', 'Branch Permianb', 'Branch Permianb', 'Branch Permianb', 'Branch Mrgncrk_', 'Branch Mrgncrk_', 'Branch Winkss_9', 'Branch Winkss_9', 'Branch Winkss_9', 'Branch Winkss_9', 'Branch Winkss_9', 'Branch Odessano', 'Branch Odessano', 'Branch Odessano', 'Branch Holtss_9', 'Branch Holtss_9', 'Branch Holtss_9', 'Branch Noandrew', 'Branch Noandrew', 'Branch Lamesa_9', 'Branch Lamesa_9', 'Branch Cranenor', 'Branch Cranenor', 'Branch Crane_9', 'Branch Crane_9', 'Branch Crane_9', 'Branch Wardss_9', 'Branch Wardss_9', 'Branch Barnsley', 'Branch Barnsley', 'Branch Exnjctap', 'Branch Exnjctap', 'Branch Crnatlta', 'Branch Midkiff_', 'Branch Pembrkta', 'Branch Pembrkta', 'Branch Reagnshe', 'Branch Glascock', 'Branch Glascock', 'Branch Gardcity', 'Branch Gardcity', 'Branch Texharvy', 'Branch Pecktap_', 'Branch Pecktap_', 'Branch Midlgulf', 'Branch Midbasin', 'Branch Midbasin', 'Branch Stanton_', 'Branch Stanton_', 'Branch Cranehum', 'Branch Royalty_', 'Branch Coyanosa', 'Branch Coyanosa', 'Branch Wfcampta', 'Branch Wfcampta', 'Branch Winkbaet', 'Branch Winkbaet', 'Branch Winkbawt', 'Branch Winkbawt', 'Branch Notrees_', 'Branch Notrees_', 'Branch Vest_9', 'Branch Odbasss_', 'Branch Odbasss_', 'Branch Odesbasn', 'Branch Goldsmit', 'Branch Ectrshlt', 'Branch Ectrshlt', 'Branch Emmatap_', 'Branch Emmatap_', 'Branch Emma_9', 'Branch Sanadtap', 'Branch Andrews_', 'Branch Philands', 'Branch Fulerton', 'Branch Fulerton', 'Branch Means_9', 'Branch Obrien_9', 'Branch Wickett_', 'Branch Northwrd', 'Branch Wicketap', 'Branch Snyder_9', 'Branch Snyder_9', 'Branch Snyder_9', 'Branch Snyder_9', 'Branch Chinagrv', 'Branch Chinagrv', 'Branch Chinagrv', 'Branch Chinagrv', 'Branch Carbonsw', 'Branch Carbonsw', 'Branch Bigsprig', 'Branch Bigsprig', 'Branch Eskota_9', 'Branch Eskota_9', 'Branch Eskota_9', 'Branch Eskota_9', 'Branch Eskota_9', 'Branch Eskota_9', 'Branch Coahoma_', 'Branch Iathowta', 'Branch Iathowta', 'Branch Iatnhow_', 'Branch Bspggulf', 'Branch Chalk_9', 'Branch Chalk_9', 'Branch Buzzdraw', 'Branch Buzzdraw', 'Branch Bigcrmwd', 'Branch Bigcrmwd', 'Branch Knott_9', 'Branch Ackchev_', 'Branch Ackerly_', 'Branch Ackrlntc', 'Branch Sparnbrg', 'Branch Ira_9', 'Branch Scurry_9', 'Branch Scurry_9', 'Branch Santafe_', 'Branch Colbasin', 'Branch Colbasin', 'Branch Amoco_9', 'Branch Amoco_9', 'Branch Flinttap', 'Branch Flinttap', 'Branch Colocity', 'Branch Loraine_', 'Branch Roscoe_9', 'Branch Sweetwtr', 'Branch Usgypsta', 'Branch Usgypsta', 'Branch Usgyptwo', 'Branch Usgypone', 'Branch Flintkot', 'Branch Welchtap', 'Branch Welchtap', 'Branch Welch_9', 'Branch Txcocogd', 'Branch Cogdelta', 'Branch Cogdelta', 'Branch Cogdelta', 'Branch Oakcreek', 'Branch Lonestar', 'Branch Nolanwty', 'Branch Nolanwty', 'Branch Plainvta', 'Branch Plainvta', 'Branch Lkwichit', 'Branch Lkwichit', 'Branch Wchtflls', 'Branch Wchtflls', 'Branch Wchtflls', 'Branch Pleasval', 'Branch Pleasval', 'Branch Pleasval', 'Branch Pleasval', 'Branch Lanham_T', 'Branch Lanham_T', 'Branch Navykss1', 'Branch Navykss1', 'Branch Navykss1', 'Branch Wfalls_N', 'Branch Wfalls_N', 'Branch Wfalls_N', 'Branch Wfalls_N', 'Branch Shpfield', 'Branch Shpfield', 'Branch Wfllsbsn', 'Branch Petrolia', 'Branch Petrolia', 'Branch Wfbasin_', 'Branch Shpfield', 'Branch Shpfield', 'Branch Shpfield', 'Branch Iowapark', 'Branch Iowapark', 'Branch Burkburn', 'Branch Iowapark', 'Branch Cryovace', 'Branch Cryovace', 'Branch Archcity', 'Branch Blackwel', 'Branch Blackwel', 'Branch Holliday', 'Branch Holliday', 'Branch Baylr_9', 'Branch Baylr_9', 'Branch Seymour_', 'Branch Seymour_', 'Branch Bomarton', 'Branch Bomarton', 'Branch Baylor_T', 'Branch Kma_T9', 'Branch Kma_T9', 'Branch Bowiesvc', 'Branch Bowiesvc', 'Branch Bowiesvc', 'Branch Jackrea_', 'Branch Jackrea_', 'Branch Henrieta', 'Branch Bellevue', 'Branch Bowie1_9', 'Branch Chcowest', 'Branch Chcowest', 'Branch Chcocser', 'Branch Jackamco', 'Branch Jacksbor', 'Branch Jacksbor', 'Branch Jacksinc', 'Branch Oran1_9', 'Branch Wthfordw', 'Branch Wthford_', 'Branch Grahamsw', 'Branch Grahamsw', 'Branch Graham_9', 'Branch Graham_9', 'Branch Olney_P9', 'Branch Olney_P9', 'Branch Olney_P9', 'Branch Anarene1', 'Branch Sth_Bend', 'Branch Ivan_9', 'Branch Eastland', 'Branch Eastlnd_', 'Branch Eastlnd_', 'Branch Mortnval', 'Branch Leon2_9', 'Branch Leon2_9', 'Branch Leon2_9', 'Branch Leon2_9', 'Branch Leon5_9', 'Branch Leon5_9', 'Branch Leon5_9', 'Branch Leon5_9', 'Branch Rangulf_', 'Branch Rangulf_', 'Branch Rangulf_', 'Branch Gorman_9', 'Branch Gorman_9', 'Branch Delnmag_', 'Branch Delnmag_', 'Branch Deleon_9', 'Branch Deleon_9', 'Branch Cmynhm_T', 'Branch Cmynhm_T', 'Branch Dublin1_', 'Branch Walsptnp', 'Branch Brnwd1_9', 'Branch Brnwd1_9', 'Branch Proctor_', 'Branch Lkbrnwd_', 'Branch Lkbrnwd_', 'Branch Bangs_9', 'Branch Gainvldx', 'Branch Gainvldx', 'Branch Muenster', 'Branch St_Jo_P9', 'Branch St_Jo_P9', 'Branch St_Jo_P9', 'Branch Gainvl_E', 'Branch Gainvl_E', 'Branch Gainvl_T', 'Branch Gainvl_T', 'Branch Gainvlch', 'Branch Payne1_9', 'Branch Bonhmss_', 'Branch Bonhmss_', 'Branch Bells1_9', 'Branch Bells1_9', 'Branch Bells1_9', 'Branch Lamarbm1', 'Branch Paris_9', 'Branch Paris_9', 'Branch Rivercst', 'Branch Sherry_P', 'Branch Sherry_P', 'Branch Sherry_P', 'Branch Rivercst', 'Branch Clarkvl_', 'Branch Bagwell1', 'Branch Brkston1', 'Branch Honey_Gr', 'Branch Honey_Gr', 'Branch Windmspa', 'Branch Pars_Pmp', 'Branch Cooper_9', 'Branch Cooper_9', 'Branch Enloe_T9', 'Branch Cumby_9', 'Branch Cumby_9', 'Branch Commerce', 'Branch Neylndvl', 'Branch Cadml_9', 'Branch Cadmlx_T', 'Branch Cadmlx_T', 'Branch Burrow_T', 'Branch Burrow_T', 'Branch Burrow_T', 'Branch Roysegn_', 'Branch Handley_', 'Branch Handley_', 'Branch Calmont1', 'Branch Saginaw1', 'Branch Saginaw1', 'Branch Nmain1_9', 'Branch Nmain1_9', 'Branch Frsthill', 'Branch Frsthill', 'Branch Frsthill', 'Branch Whtstlmn', 'Branch Whtstlmn', 'Branch Hertg1_9', 'Branch Duval1_9', 'Branch Duval1_9', 'Branch Bryn_Av_', 'Branch Bryn_Av_', 'Branch Cresson1', 'Branch Crowley1', 'Branch Alvarado', 'Branch Sterrett', 'Branch Wax_9', 'Branch Foreston', 'Branch Italy_9', 'Branch Milfrdex', 'Branch Milfrdex', 'Branch Ferrissw', 'Branch Ferrissw', 'Branch Palmer_9', 'Branch Enns_9', 'Branch Almas_9', 'Branch Ricetpl_', 'Branch Mtck1_9', 'Branch Royse2_9', 'Branch Ccrst_9', 'Branch Ccrst_9', 'Branch Dendr1_9', 'Branch Dendr1_9', 'Branch Fshcrk1_', 'Branch Terrlsw_', 'Branch Terrlsw_', 'Branch Munson1_', 'Branch Maple2_9', 'Branch Cmpton2_', 'Branch Ltv1_9', 'Branch Trinidad', 'Branch Trinidad', 'Branch Trinidad', 'Branch Tylerwes', 'Branch Tylernw_', 'Branch Jaxvlnta', 'Branch Jaxvlnta', 'Branch Jaxvlnta', 'Branch Jaxvlnor', 'Branch Jaxvlnor', 'Branch Troupss_', 'Branch Troupss_', 'Branch Troupmtr', 'Branch Troupmtr', 'Branch Troup_9', 'Branch Arpchipr', 'Branch Arpchipr', 'Branch Arp_9', 'Branch Dialvill', 'Branch Dialvill', 'Branch Dialvill', 'Branch Rusk_9', 'Branch Edgewood', 'Branch Ironbrg_', 'Branch Irnbrgta', 'Branch Irnbrgta', 'Branch Willspnt', 'Branch Btstarta', 'Branch Duckcvta', 'Branch Duckcvta', 'Branch Duckcove', 'Branch Brnsboro', 'Branch Athens_9', 'Branch Athens_9', 'Branch Murchisn', 'Branch Jaxvlsta', 'Branch Jaxvlsta', 'Branch Jaxvlwta', 'Branch Jaxvlwta', 'Branch Jaxwest_', 'Branch Jaxvl_9', 'Branch Jaxvl_9', 'Branch Reynldst', 'Branch Beaumnta', 'Branch Beaumnta', 'Branch Beaumnta', 'Branch Jaxvl1ss', 'Branch Jaxvl2ss', 'Branch Frankstn', 'Branch Frankstn', 'Branch Wilowsp_', 'Branch Carolspg', 'Branch Carolspg', 'Branch Palestne', 'Branch Montalba', 'Branch Elkhart_', 'Branch Grapelnd', 'Branch Grapelnd', 'Branch Elkgufta', 'Branch Slocumta', 'Branch Jewett1_', 'Branch Jewett1_', 'Branch Jewett1_', 'Branch Elm_Mott', 'Branch Elm_Mott', 'Branch Elm_Mott', 'Branch Lake_Crk', 'Branch Waco_W1_', 'Branch Waco_W1_', 'Branch Waco_E1_', 'Branch Mcgregph', 'Branch Mcgregph', 'Branch Equipipe', 'Branch Equipipe', 'Branch Kerens_9', 'Branch Powell1_', 'Branch Cors__9', 'Branch Cors__9', 'Branch Cors__9', 'Branch Bloomgrv', 'Branch Navarro1', 'Branch Navarro1', 'Branch Navarro1', 'Branch Richland', 'Branch Wrthmpod', 'Branch Wrthmpod', 'Branch Wtxgfpod', 'Branch Wtxgfpod', 'Branch Simsmag1', 'Branch Simsmag1', 'Branch Hillboro', 'Branch Hillboro', 'Branch Hillboro', 'Branch Hillboro', 'Branch Abbott1_', 'Branch Abbott1_', 'Branch West1_9', 'Branch Rosssin_', 'Branch Rosssin_', 'Branch Rosssin_', 'Branch Rosssin_', 'Branch Rosssin_', 'Branch Tours_T_', 'Branch Itasca_9', 'Branch File_Sin', 'Branch File_Sin', 'Branch Grandvgf', 'Branch File_Sin', 'Branch Maypearl', 'Branch Mertens1', 'Branch Wacokaty', 'Branch Eddy1_9', 'Branch Troy1_9', 'Branch Gatesvil', 'Branch Gatesvil', 'Branch Wacoatco', 'Branch Wacoatco', 'Branch Groesbec', 'Branch Wortham1', 'Branch Mexia2_T', 'Branch Mexia2_T', 'Branch Coolg_Se', 'Branch Otto_Se1', 'Branch Marl_Se1', 'Branch Marl_Se1', 'Branch Marlin_S', 'Branch Lott_Se1', 'Branch Temp_Ss_', 'Branch Temp_Ss_', 'Branch Temple1_', 'Branch Litriver', 'Branch Holland_', 'Branch Bartlett', 'Branch Bartlett', 'Branch Granger1', 'Branch Taylor1_', 'Branch Elgin_Ss', 'Branch Elgin_Ss', 'Branch Lott_Tse', 'Branch Minerva1', 'Branch Minerva1', 'Branch Cameron1', 'Branch Marak1_9', 'Branch Rayburn9', 'Branch Rayburn9', 'Branch Rayburn9', 'Branch Rayburn9', 'Branch Rayburn9', 'Branch Nurserys', 'Branch Fordtran', 'Branch Fordtran', 'Branch Inezsub9', 'Branch Eltorosw', 'Branch Eltorosw', 'Branch Eltorosw', 'Branch Eltorosw', 'Branch Ednasub9', 'Branch Cordeles', 'Branch Ganadosw', 'Branch Ganadosw', 'Branch Louisesu', 'Branch Roundmot', 'Branch Roundmot', 'Branch Roundmot', 'Branch Ricebird', 'Branch Nadasub9', 'Branch Nadasub9', 'Branch Pioneers', 'Branch Elcampos', 'Branch Plainvie', 'Branch Plainvie', 'Branch Danevang', 'Branch Danevang', 'Branch Clemvill', 'Branch Nclemvil', 'Branch Saltdome', 'Branch Saltdome', 'Branch Markhamt', 'Branch Markhamt', 'Branch Vanvleck', 'Branch Vanvleck', 'Branch Baycitys', 'Branch Baycitys', 'Branch Sargents', 'Branch Tintopsu', 'Branch Palacios', 'Branch Palactie', 'Branch Palactie', 'Branch Carncahu', 'Branch Oliviasw', 'Branch Oliviasw', 'Branch Vanhumbl', 'Branch Vanderbl', 'Branch Vanderbl', 'Branch Placedos', 'Branch Placedos', 'Branch Kameysub', 'Branch Prtlavac', 'Branch Prtlavac', 'Branch Ptoconno', 'Branch Seadrift', 'Branch Lonetree', 'Branch Twinpine', 'Branch Twinpine', 'Branch Warburto', 'Branch Warburto', 'Branch Mcfaddin', 'Branch Refugios', 'Branch Bonnevie', 'Branch Taftsub9', 'Branch Sodville', 'Branch Wsintons', 'Branch Wsintons', 'Branch Calallen', 'Branch Calallen', 'Branch Calallen', 'Branch Calallen', 'Branch Ctyofrbs', 'Branch Ctyofrbs', 'Branch Robstown', 'Branch Corpschr', 'Branch Corpschr', 'Branch Driscoll', 'Branch Driscoll', 'Branch Ricardos', 'Branch Rivieras', 'Branch Centrals', 'Branch Benbolts', 'Branch Sandiego', 'Branch Sandiego', 'Branch Orangegr', 'Branch Orangegr', 'Branch Sandiasu', 'Branch Sandiasu', 'Branch Mathissu', 'Branch Mathissu', 'Branch Mathissu', 'Branch Olmossub', 'Branch Beepriso', 'Branch Beeville', 'Branch Bigoaksu', 'Branch Georgews', 'Branch Wgorgews', 'Branch Georgews', 'Branch Wgrgewst', 'Branch Snmiguel', 'Branch Snmiguel', 'Branch Snmiguel', 'Branch Snmiguel', 'Branch Snmiguel', 'Branch Snmiguel', 'Branch Simmonss', 'Branch Calliham', 'Branch Calliham', 'Branch Scalliha', 'Branch Charlott', 'Branch Poteetsu', 'Branch Poteetsu', 'Branch Poteetsu', 'Branch Pleasant', 'Branch Tordillo', 'Branch Tordillo', 'Branch Coycitys', 'Branch Kenedysu', 'Branch Choatesu', 'Branch Charcosu', 'Branch Mdfeldws', 'Branch Fanninsu', 'Branch Fanninsu', 'Branch Mvfaysw9', 'Branch Mvfaysw9', 'Branch Mvfaysw9', 'Branch Mccookno', 'Branch Cstrovil', 'Branch Cstrovil', 'Branch Cstrovil', 'Branch Badersub', 'Branch Pearsons', 'Branch Sabinals', 'Branch Sabinals', 'Branch Sabinals', 'Branch Dhanissu', 'Branch Hondosub', 'Branch Ferrissw', 'Branch Ferrissw', 'Branch Uvaldesu', 'Branch Uvaldesu', 'Branch Hondocre', 'Branch Leonasub', 'Branch Leonasub', 'Branch Uvaldesw', 'Branch Devinesu', 'Branch Devinesu', 'Branch Mooresub', 'Branch Mooresub', 'Branch Friotown', 'Branch Friotown', 'Branch Nbatesvi', 'Branch Derbysub', 'Branch Sbatesvi', 'Branch Batesvil', 'Branch Bigfoots', 'Branch Crystlct', 'Branch Crystlct', 'Branch Devinesw', 'Branch Devinesw', 'Branch Turtlecr', 'Branch Turtlecr', 'Branch Dilleysu', 'Branch Dlyswste', 'Branch Dlyswste', 'Branch Wcrstlct', 'Branch Bigwells', 'Branch Bigwells', 'Branch Brundage', 'Branch Bevosw9', 'Branch Cotullas', 'Branch Hollands', 'Branch Freersub', 'Branch Loma_69', 'Branch Laredo_R', 'Branch Jacksntp', 'Branch Jacksntp', 'Branch Jacksntp', 'Branch Brnphilt', 'Branch Brnphilt', 'Branch Brnphilt', 'Branch Stamfpmp', 'Branch Stamfpmp', 'Branch Bradytp2', 'Branch Bradytp2', 'Branch Bradytp2', 'Branch Bradytp2', 'Branch Estellin', 'Branch Turk2a', 'Branch Chld2a', 'Branch Ch202a', 'Branch Chil2a', 'Branch Chil2a', 'Branch Yucca2a', 'Branch Muleta2a', 'Branch Muleta2a', 'Branch Muleta2a', 'Branch Flomttap', 'Branch Flomttap', 'Branch Paul2a', 'Branch Paul2a', 'Branch Quan2a', 'Branch Acme2a', 'Branch Chlc_Ver', 'Branch Chlc_Ver', 'Branch Chlc_Ver', 'Branch Vern2a', 'Branch Vern2a', 'Branch Vern2a', 'Branch Vrcp2a', 'Branch Sandroad', 'Branch Sandroad', 'Branch Grayback', 'Branch Graybckt', 'Branch Harr2a', 'Branch Sandston', 'Branch Sandston', 'Branch Trushumb', 'Branch Crwl2a', 'Branch Trscthmt', 'Branch Trus2a', 'Branch Benjtap2', 'Branch Benjtap2', 'Branch Mundayst', 'Branch Mundayst', 'Branch Mundayst', 'Branch Knxc2a', 'Branch Roch2a', 'Branch Roch2a', 'Branch Rule2a', 'Branch Rule2a', 'Branch Hskl2a', 'Branch Hskl2a', 'Branch Joss2a', 'Branch Hastxtp2', 'Branch Hastxtp2', 'Branch Padr2a', 'Branch Padr2a', 'Branch Padc2a', 'Branch Mata2a', 'Branch Mata2a', 'Branch Roarings', 'Branch Afto2a', 'Branch Espu2a', 'Branch Gira2a', 'Branch Spur2a', 'Branch Gira_Tap', 'Branch Dkec2a', 'Branch Jatn2a', 'Branch Jatn2a', 'Branch Peac2a', 'Branch Peac2a', 'Branch Aspm2a', 'Branch Aspm2a', 'Branch Paintcre', 'Branch Wolfgang', 'Branch Wolfgang', 'Branch Wolfgang', 'Branch Hasr2a', 'Branch Hasr2a', 'Branch Haskltp1', 'Branch Stam2a', 'Branch Corn2a', 'Branch Hskltap2', 'Branch Ansn2a', 'Branch Ansn2a', 'Branch Anso2a', 'Branch Ninemile', 'Branch Ninemile', 'Branch Radium2a', 'Branch Hamtxco2', 'Branch Hamr2a', 'Branch Hamtxtp2', 'Branch Hamtxtp2', 'Branch Hamlin2a', 'Branch Shha2a', 'Branch Rondtop2', 'Branch Plst2a', 'Branch Rondtpt2', 'Branch Roby2a', 'Branch Roby2a', 'Branch Clrm2a', 'Branch Albny_Fd', 'Branch Albny_Fd', 'Branch Wood2a', 'Branch Thrm2a', 'Branch Bushknob', 'Branch Albany2a', 'Branch Albany2a', 'Branch Wctmwdt2', 'Branch Wctmwdt2', 'Branch Wctmwdt2', 'Branch Mran2a', 'Branch Hub22a', 'Branch Spillwa2', 'Branch Spillwa2', 'Branch Robrstap', 'Branch Robrstap', 'Branch Robrstap', 'Branch Ftphpump', 'Branch Nugent2a', 'Branch Nuge2a', 'Branch Raineycr', 'Branch Raineycr', 'Branch Abnthwst', 'Branch Abnthwst', 'Branch Abnthwst', 'Branch Abnthwst', 'Branch Abnthwst', 'Branch Onyxrea2', 'Branch Onys2a', 'Branch Onys2a', 'Branch Exha2a', 'Branch Exha2a', 'Branch Vogeltap', 'Branch Vogeltap', 'Branch Merk2a', 'Branch Clfk2a', 'Branch Abwt2a', 'Branch Mklt2a', 'Branch Mklt2a', 'Branch Delt2a', 'Branch Abec2a', 'Branch Abec2a', 'Branch Southabi', 'Branch Southabi', 'Branch Dyess2ab', 'Branch Dyess2ab', 'Branch Arnt2a', 'Branch Hartford', 'Branch Hartfrdt', 'Branch Dyess1ab', 'Branch Sheltons', 'Branch Sheltons', 'Branch Mcmurry2', 'Branch Overstre', 'Branch Abdy1tap', 'Branch Dyess3ab', 'Branch Abeast2a', 'Branch Abeast2a', 'Branch Abeast2b', 'Branch Abplttp2', 'Branch Abwalnut', 'Branch Abpowers', 'Branch Abpowers', 'Branch Abpowers', 'Branch Abom2a', 'Branch Abom2a', 'Branch Abwtgut2', 'Branch Wtu_Dntv', 'Branch Elmdale2', 'Branch Clydmgt2', 'Branch Clydmgt2', 'Branch Dentont2', 'Branch Clyd2a', 'Branch Bair2a', 'Branch Putn2a', 'Branch Putm2a', 'Branch Robt2a', 'Branch Robt2a', 'Branch Tuscola2', 'Branch Gouldbsk', 'Branch Hapval2', 'Branch Clim2a', 'Branch Wint2a', 'Branch Wint2a', 'Branch Hatc2a', 'Branch Humbleba', 'Branch Balg2a', 'Branch Balg2a', 'Branch Balg2a', 'Branch Balextp2', 'Branch Novc2a', 'Branch Novc2a', 'Branch Talpatl2', 'Branch Vale2a', 'Branch Gldbskr2', 'Branch Colj2a', 'Branch Dressy2a', 'Branch Sana_Tap', 'Branch Sana_Tap', 'Branch Sana_Tap', 'Branch Drsy2a', 'Branch Crosspla', 'Branch Yelwjckt', 'Branch Yelwjckt', 'Branch Yelwjckt', 'Branch Hext2a', 'Branch Ptrk2a', 'Branch Eolatp2a', 'Branch Eolatp2a', 'Branch Eden2a', 'Branch Eden2a', 'Branch Crm1tp2a', 'Branch Crmwd12a', 'Branch Southbra', 'Branch Brds2a', 'Branch Brds2a', 'Branch Melv2a', 'Branch Bradyre2', 'Branch Mclc2a', 'Branch Csansab2', 'Branch Fredphil', 'Branch Frphillt', 'Branch Frphillt', 'Branch Masn2a', 'Branch Masn2a', 'Branch Masn2a', 'Branch Phma2a', 'Branch Phma2a', 'Branch Masonphi', 'Branch Masw2a', 'Branch Streter2', 'Branch Shlo2a', 'Branch Shlo2a', 'Branch Kmjc2a', 'Branch Junction', 'Branch Junction', 'Branch Menphtp2', 'Branch Menardph', 'Branch Firerock', 'Branch Vrbs2a', 'Branch Vrbs2a', 'Branch Vrbs2a', 'Branch Miles2a', 'Branch Miles2a', 'Branch Miles2a', 'Branch Bronte2a', 'Branch Bronte2a', 'Branch Sagt2a', 'Branch Sagt2a', 'Branch Sagt2a', 'Branch Sterling', 'Branch Ambr2a', 'Branch Robl2a', 'Branch Espenct2', 'Branch Espenct2', 'Branch Edit2a', 'Branch Cedrhill', 'Branch Cedrhill', 'Branch Silver', 'Branch Silr2a', 'Branch Silr2a', 'Branch Spaderan', 'Branch Silv2a', 'Branch Silvrtp2', 'Branch Expe2a', 'Branch Sprh2a', 'Branch Pana2a', 'Branch Ster2a', 'Branch Ster2a', 'Branch Ster2a', 'Branch Carlbdtp', 'Branch Carlsbad', 'Branch Amco2a', 'Branch Amco2a', 'Branch Crmw5tp2', 'Branch Concho2a', 'Branch Concho2a', 'Branch Concho2a', 'Branch Concho2a', 'Branch Sasouth2', 'Branch Jacksons', 'Branch Saem2a', 'Branch Crm32a', 'Branch Crm42a', 'Branch Sanorth2', 'Branch Sagc2a', 'Branch Sawt2a', 'Branch Sawt2a', 'Branch Sawa2a', 'Branch Sach2a', 'Branch Saan2a', 'Branch Samathis', 'Branch Angora2a', 'Branch Paw22a', 'Branch Pavepaw2', 'Branch Pavepaw2', 'Branch Cris2a', 'Branch Cris2a', 'Branch Arot2a', 'Branch Lvok2a', 'Branch Shba2a', 'Branch Eldo2a', 'Branch Eldo2a', 'Branch Page2a', 'Branch Midv2a', 'Branch Shbt2a', 'Branch Sono2a', 'Branch Atso2a', 'Branch Atso2a', 'Branch Sonr2a', 'Branch Sonr2a', 'Branch Mertzon2', 'Branch Merr2a', 'Branch Sanw2a', 'Branch Tank2a', 'Branch Barnhrt2', 'Branch Barnhrt2', 'Branch Barnhcv2', 'Branch Bglk2a', 'Branch Bglk2a', 'Branch Bglk2b', 'Branch Text2a', 'Branch Text2a', 'Branch Atlt2a', 'Branch Kempertp', 'Branch Kempertp', 'Branch Powellfi', 'Branch Powellfi', 'Branch Phbl_Tap', 'Branch Phbl_Tap', 'Branch Strs2a', 'Branch Powfjunc', 'Branch Midw2a', 'Branch Fdran2a', 'Branch Fdran2a', 'Branch Oznr2a', 'Branch Oznr2a', 'Branch Illn2a', 'Branch Illn2a', 'Branch Bondroad', 'Branch Iran2a', 'Branch Iran2a', 'Branch Sheffiel', 'Branch Sheffiel', 'Branch Cactus2a', 'Branch Sthcross', 'Branch Shellmes', 'Branch Rankin2a', 'Branch Rankin2a', 'Branch Shlmsat2', 'Branch Shlmsat2', 'Branch Rankin42', 'Branch Scrosstp', 'Branch Scrosstp', 'Branch Bobcat2a', 'Branch Riopecos', 'Branch Crnairtp', 'Branch Crnairtp', 'Branch Crnairtp', 'Branch Crantp1', 'Branch Crantp1', 'Branch Crantp2', 'Branch Crantp2', 'Branch Crantp2', 'Branch Tnmp2a', 'Branch Mcelroy2', 'Branch Txnmtp2a', 'Branch Txnmtp2a', 'Branch Gucb2a', 'Branch Gucb2a', 'Branch Dunefiel', 'Branch Cran2a', 'Branch Cran2a', 'Branch Ftst2a', 'Branch Ftst2a', 'Branch Sunv2a', 'Branch Mast2a', 'Branch Pecv2a', 'Branch Ftsw2a', 'Branch Ftsw2a', 'Branch Ftsw2a', 'Branch Verh2a', 'Branch Ccrt2a', 'Branch Ccrt2a', 'Branch Sgsa2a', 'Branch Sgsa2a', 'Branch Barl2a', 'Branch Mecplnvw', 'Branch Mecplnvw', 'Branch Sntxtap2', 'Branch Cocs2a', 'Branch Alpr2a', 'Branch Alpine2a', 'Branch Alpine2a', 'Branch Pais2a', 'Branch Almc2b', 'Branch Almc2b', 'Branch Gonzales', 'Branch Gonzales', 'Branch Gonzales', 'Branch Fortdavi', 'Branch Valt2a', 'Branch Valt2a', 'Branch Almc2a', 'Branch Cien2a', 'Branch Cien2a', 'Branch Shaf2a', 'Branch Espy2a', 'Branch Segovtp2', 'Branch Segovtp2', 'Branch Kiowa_Rc', 'Branch Cumby_Rc', 'Branch Snypt_Rc', 'Branch Lnok_Rc', 'Branch L_Sasasw', 'Branch L_Terry_', 'Branch L_Lometa', 'Branch L_Buchan', 'Branch L_Buchan', 'Branch L_Buchan', 'Branch L_Buchan', 'Branch L_Burnet', 'Branch L_Ctecbu', 'Branch L_Ctecbu', 'Branch L_Ctecbu', 'Branch L_Wirtz_', 'Branch L_Sandmo', 'Branch L_Sandmo', 'Branch L_Sandcr', 'Branch L_Eckert', 'Branch L_Eckert', 'Branch L_Eckert', 'Branch L_Gilles', 'Branch L_Sanmar', 'Branch L_Robrjr', 'Branch L_Robrjr', 'Branch L_Cleafo', 'Branch L_Lehigh', 'Branch L_Dale__', 'Branch L_Lockha', 'Branch L_Magnme', 'Branch L_Lulima', 'Branch L_Luling', 'Branch L_Luling', 'Branch L_Luling', 'Branch L_Harwoo', 'Branch L_Thomps', 'Branch L_Waelde', 'Branch L_Glidde', 'Branch L_Bellso', 'Branch L_Bellso', 'Branch L_Smithv', 'Branch L_Marsfo', 'Branch L_Sunrbe', 'Branch L_Kings2', 'Branch L_Doss__', 'Branch L_Harper', 'Branch L_Liveoa', 'Branch L_Goehta', 'Branch L_Goehta', 'Branch L_Leakey', 'Branch L_Leakey', 'Branch L_Utopia', 'Branch L_Medici', 'Branch L_Bander', 'Branch L_Mounto', 'Branch L_Mounto', 'Branch L_Blanco', 'Branch L_Wimber', 'Branch L_Buda__', 'Branch L_Centex', 'Branch L_Blanta', 'Branch L_Bertra', 'Branch L_Hallet', 'Branch L_Hallgv', 'Branch L_Moulgv', 'Branch L_Shingv', 'Branch L_Kokern', 'Branch L_Gonzgv', 'Branch L_Gonzgv', 'Branch L_Ottine', 'Branch L_Ottine', 'Branch L_Lavern', 'Branch L_Lavern', 'Branch L_Nixogv', 'Branch L_Nixon1', 'Branch L_Smilgo', 'Branch L_Smilgo', 'Branch L_Smilgo', 'Branch L_Cost__', 'Branch L_Lakewo', 'Branch L_Laketa', 'Branch L_Gonzal', 'Branch L_Quansw', 'Branch L_Quansw', 'Branch L_Sunnys', 'Branch L_Sunnys', 'Branch Nueces_B', 'Branch Nueces_B', 'Branch Nueces_B', 'Branch Nueces_B', 'Branch El_Campo', 'Branch El_Campo', 'Branch Blessing', 'Branch Blessing', 'Branch Blessing', 'Branch Palacios', 'Branch Pcomfort', 'Branch Pcomfort', 'Branch Brookhol', 'Branch P_Lavaca', 'Branch P_Lavaca', 'Branch Placedo2', 'Branch Ncarbide', 'Branch Ncarbide', 'Branch Ncarbide', 'Branch Greenlk2', 'Branch Victoria', 'Branch Victoria', 'Branch Victoria', 'Branch Victoria', 'Branch Victoria', 'Branch Magruder', 'Branch Magruder', 'Branch Foster2a', 'Branch Leary_Ln', 'Branch Kenedysw', 'Branch Kenedy2a', 'Branch Beevlle2', 'Branch Beevlle2', 'Branch Beevlle2', 'Branch Beevlle2', 'Branch Pleasant', 'Branch Pleasant', 'Branch Charlott', 'Branch Charlott', 'Branch Dilley22', 'Branch Dilley22', 'Branch Pearsal1', 'Branch Big_Foot', 'Branch Devine2a', 'Branch Kimble2b', 'Branch Kimble2b', 'Branch Montell2', 'Branch Montell2', 'Branch Uvalde2a', 'Branch Uvalde2a', 'Branch Rock_Atl', 'Branch Kimble2a', 'Branch Rcksprs2', 'Branch Rcksprs2', 'Branch Crystal2', 'Branch Crystal2', 'Branch Turtleck', 'Branch Carrizo2', 'Branch Laredo2a', 'Branch Laredo2a', 'Branch Raymnd22', 'Branch Lapalma2', 'Branch Lapalma2', 'Branch Lapalma2', 'Branch W_Harlin', 'Branch W_Harlin', 'Branch Harlin_1', 'Branch Harlin_1', 'Branch Harlinsw', 'Branch Brownsvl', 'Branch Brown_Sw', 'Branch Brksdle2', 'Branch Garza2a', 'Branch Garza2a', 'Branch Thrrvrs2', 'Branch Skidmore', 'Branch Skidmore', 'Branch Sunnilan', 'Branch Edroy2a', 'Branch Greta2a', 'Branch Greta2a', 'Branch Refugio2', 'Branch Refugio2', 'Branch Sinton2a', 'Branch Sinton2a', 'Branch Rincon2a', 'Branch Rincon2a', 'Branch Rincon2a', 'Branch Gregory2', 'Branch Aransasp', 'Branch Live_Oak', 'Branch Live_Oak', 'Branch Rockport', 'Branch Port_A2a', 'Branch Lon_Hill', 'Branch Lon_Hill', 'Branch Lon_Hill', 'Branch Lon_Hill', 'Branch Hiway_92', 'Branch Koch_Up2', 'Branch Valero2a', 'Branch Laguna2a', 'Branch Bishop2a', 'Branch Alice2a', 'Branch Alice2a', 'Branch Alice2a', 'Branch Freer2a', 'Branch Freer2a', 'Branch Freer2a', 'Branch Falfur2a', 'Branch Prairpmp', 'Branch River_Sd', 'Branch Parker2a', 'Branch Garwdpmp', 'Branch Garwdrlf', 'Branch Pv_Tap2a', 'Branch Ideal_2a', 'Branch Lone_Str', 'Branch Bcpmptp2', 'Branch Bcpmptp2', 'Branch Bcpmptp2', 'Branch Markham2', 'Branch Mdfldtp2', 'Branch Carancua', 'Branch Clmvltp2', 'Branch Hochhe2a', 'Branch Chasetap', 'Branch Chasetap', 'Branch Chasefld', 'Branch Chasefld', 'Branch Berclair', 'Branch Normanna', 'Branch Fashing2', 'Branch Knippa2a', 'Branch Raymond1', 'Branch Rangervl', 'Branch Rio_Rico', 'Branch Heardtap', 'Branch Heardtap', 'Branch Woodsbor', 'Branch Odem2a', 'Branch Taft2a', 'Branch Mid_Wayt', 'Branch Mid_Wayt', 'Branch Fultoncp', 'Branch Mustang2', 'Branch Valero_E', 'Branch Stevens2', 'Branch Stevens2', 'Branch Stevens2', 'Branch Wworktp2', 'Branch N_Ella2a', 'Branch Robstp2a', 'Branch Banquete', 'Branch San_Dieg', 'Branch Mcneil', 'Branch Pe_Mb1', 'Branch Pe_Mb1', 'Branch Kingsbry', 'Branch Northl69', 'Branch Brack', 'Branch Harris', 'Branch Hollymb2', 'Branch Hollymb2', 'Branch Hollymb2', 'Branch Justinln', 'Branch Koenig', 'Branch Fiesta', 'Branch Slamesa_', 'Branch Bryn_Br', 'Branch Bryn_Br', 'Branch Bryn_Ra', 'Branch Bryn_Ra', 'Branch Bryn_At', 'Branch Bryn_At', 'Branch Bryn_St', 'Branch Bryn_No', 'Branch Bryn_No', 'Branch Bryn_No', 'Branch Bryn_Ta', 'Branch Bryn_Bu', 'Branch Bryn_Na', 'Branch Bryn_Na', 'Branch Bryn_Sh', 'Branch Tnbells', 'Branch Tnwhite', 'Branch Tnfrntr', 'Branch Tnfrntr', 'Branch Tntrent', 'Branch Tnleona', 'Branch Tnleona', 'Branch Tnbluer', 'Branch Tnclima', 'Branch Tnclima', 'Branch Tnlone_', 'Branch Tnsaint', 'Branch Tnlkwhi', 'Branch Tnlkwhi', 'Branch Tnolsen', 'Branch Tnolsen', 'Branch Tnolsen', 'Branch Tnolsen', 'Branch Tnhndly', 'Branch Tnhndly', 'Branch Tnsycam', 'Branch Tncorye', 'Branch Tncorye', 'Branch Tncorye', 'Branch Tnpanca', 'Branch Tnjnesb', 'Branch Tnclift', 'Branch Tnclftn', 'Branch Tnclftn', 'Branch Tnmerdn', 'Branch Tnmerdn', 'Branch Tnwalnt', 'Branch Tnwalnt', 'Branch Tnhicot', 'Branch Tnhicot', 'Branch Tnhamlt', 'Branch Tngraha', 'Branch Tnwink_', 'Branch Tnwink_', 'Branch Tnwink_', 'Branch Tncalif', 'Branch Tnwnklr', 'Branch Tnwicke', 'Branch Tnpyote', 'Branch Tnih20_', 'Branch Tnih20_', 'Branch Tnih20_', 'Branch Tncolie', 'Branch Tnpecos', 'Branch Tnpecos', 'Branch Tnpecos', 'Branch Tncochi', 'Branch Tnbnspr', 'Branch Tnlones', 'Branch Tnlones', 'Branch Tnkermi', 'Branch Tnkermi', 'Branch Tnkermi', 'Branch Tn16th_', 'Branch Tnftstc', 'Branch Tnarmdl', 'Branch Tnarmdl', 'Branch Tnnmmit', 'Branch Tnccmit', 'Branch Tndowni', 'Branch Tnwhite', 'Branch Tnnrthn', 'Branch Tngomez', 'Branch Tnamoco', 'Branch Tnamoco', 'Branch Tnbayvi', 'Branch Tnbayvi', 'Branch Tnheigh', 'Branch Tnheigh', 'Branch Tnheigh', 'Branch Tnheigh', 'Branch Tnshell', 'Branch Tntermi', 'Branch Tnmarth', 'Branch Tnchoct', 'Branch Tnchoct', 'Branch Tntxcit', 'Branch Tntxcit', 'Branch Tntxcit', 'Branch Tnnthsd', 'Branch Tntxcit', 'Branch Tnintrc', 'Branch Tnlamar', 'Branch Tnlamar', 'Branch Tnprxai', 'Branch Tnprxai', 'Branch Tncarbi', 'Branch Tngrant', 'Branch Tnliqdc', 'Branch Tnmrthn', 'Branch Tnmrthn', 'Branch Tnteppc', 'Branch Tnbrazo', 'Branch Tnbrazo', 'Branch Tnclmns', 'Branch Tnp662_', 'Branch Tnp662_', 'Branch Tnp664_', 'Branch Tnp663_', 'Branch Tnoldoc', 'Branch Tnoldoc', 'Branch Tnoldoc', 'Branch Tnhilco', 'Branch Tnphill', 'Branch Tnphill', 'Branch Tnphill', 'Branch Tnphill', 'Branch Tnphllp', 'Branch Casten_', 'Branch Casten_', 'Branch Casten_', 'Branch Chanel_', 'Branch Chanel_', 'Branch Clintn_', 'Branch Clintn_', 'Branch Clintn_', 'Branch Depwtr_', 'Branch Depwtr_', 'Branch Depwtr_', 'Branch Galena_', 'Branch Galena_', 'Branch Grnbyu_', 'Branch Grnbyu_', 'Branch Grnbyu_', 'Branch Gypsum_', 'Branch Gypsum_', 'Branch Harris_', 'Branch Harris_', 'Branch Mcdono_', 'Branch Mcdono_', 'Branch Mining_', 'Branch S_Chan_', 'Branch S_Chan_', 'Branch S_R_B__', 'Branch Txpet__', 'Branch Texwal_', 'Branch Texwal_', 'Branch Walsvl_', 'Branch Alvin__', 'Branch Alvin__', 'Branch Damon__', 'Branch Damon__', 'Branch Exter__', 'Branch Exter__', 'Branch Garden_', 'Branch Garden_', 'Branch Garden_', 'Branch Nash__4', 'Branch Nash__4', 'Branch Needvl_', 'Branch Texwes_', 'Branch Bg_Crk_', 'Branch Bg_Crk_', 'Branch Karstn_', 'Branch Karstn_', 'Branch T_H_W__', 'Branch L_York_', 'Branch Whitok_', 'Branch H_O_C__', 'Branch H_O_C__', 'Branch Dwntwn_', 'Branch Bloget_', 'Branch Bring__', 'Branch Bring__', 'Branch Brown__', 'Branch Brown__', 'Branch Dunlvy_', 'Branch Dunlvy_', 'Branch Genral_', 'Branch Benton1', 'Branch Wknbr', 'Branch L_Eagll', 'Branch L_Eagll', 'Branch L_Altai', 'Branch L_Altai', 'Branch L_Altai', 'Branch L_Glidd', 'Branch L_Colum', 'Branch L_Cuero', 'Branch L_Darsc', 'Branch L_Prput', 'Branch L_Prput', 'Branch L_Garwt', 'Branch L_Garwt', 'Branch L_Idcet', 'Branch L_Garwo', 'Branch L_Galot', 'Branch L_Matth', 'Branch Csdbus2', 'Branch Bl__Bl', 'Branch Bl__Bl', 'Branch Exn_1_', 'Branch Exn_1_', 'Branch Exn_1_', 'Branch Exn_2_', 'Branch Exn_2_', 'Branch Formos', 'Branch Formos', 'Branch Formos', 'Branch Formos', 'Branch Formos', 'Branch Formos', 'Branch Formos', 'Branch Formos', 'Branch Formos', 'Branch Formos', 'Branch Formos', 'Branch Formos', 'Branch Formos', 'Branch Formos', 'Branch Formos', 'Branch Formos', 'Branch Formos', 'Branch Formos', 'Branch Formos', 'Branch Formos', 'Branch Formos', 'Branch Formos', 'Branch Formos', 'Branch Formos', 'Branch Devine', '345KV', 'Branch Whitney5', 'Branch Bosquesw5', 'Branch Concord', 'Branch Jckcnty5', 'Branch Jckcnty5', 'Branch Lewisvlsw', 'Branch Lewisvlsw', 'Branch Gibn_Crek', 'Branch Gibn_Crek', 'Branch Gibn_Crek', 'Branch Gibn_Crek', 'Branch Bendavis_', 'Branch Bendavis_', 'Branch Mccree_5', 'Branch Jkcreek1', 'Branch W_Dent_5', 'Branch W_Dent_5', 'Branch Odehv3t_', 'Branch Odehv3t_', 'Branch Moss_5', 'Branch Odehv1t_', 'Branch Odehv1t_', 'Branch Odehv1t_', 'Branch Midlet_5', 'Branch Midlet_5', 'Branch Fscogen_', 'Branch Odehv2t_', 'Branch Odehv2t_', 'Branch Odehv2t_', 'Branch Odehvc_5', 'Branch Odehvd_5', 'Branch Mrgncrk_', 'Branch Mrgncrk_', 'Branch Mrgncrk_', 'Branch Mrgncrk_', 'Branch Mrgncrk_', 'Branch Mrgncrk_', 'Branch Tonkawa_', 'Branch Tonkawa_', 'Branch Tonkawa_', 'Branch Tonkawa_', 'Branch Tonkawa_', 'Branch Tonkawa_', 'Branch Tonkawa_', 'Branch Longshor', 'Branch Longshor', 'Branch Longshor', 'Branch Willowva', 'Branch Champncr', 'Branch Champncr', 'Branch Willowck', 'Branch Willowck', 'Branch Willowck', 'Branch Willowck', 'Branch Willowck', 'Branch Willowck', 'Branch Willowck', 'Branch Willowck', 'Branch Willowck', 'Branch Willowck', 'Branch Bowman_5', 'Branch Bowman_5', 'Branch Bowman_5', 'Branch Bowman_5', 'Branch Fishrdss', 'Branch Jacksbro', 'Branch Jacksbro', 'Branch Jacksbro', 'Branch Grhamses', 'Branch Grhamses', 'Branch Grhamses', 'Branch Grhamses', 'Branch Grhamses', 'Branch Grhamses', 'Branch Longcrek', 'Branch Longcrek', 'Branch Longcrek', 'Branch Longcrek', 'Branch Longcrek', 'Branch Parker_5', 'Branch Parker_5', 'Branch Parker_5', 'Branch Parker_5', 'Branch Parker_5', 'Branch Parker_5', 'Branch Comchess', 'Branch Comchess', 'Branch Cokfield', 'Branch Brown_5', 'Branch Brown_5', 'Branch Brown_5', 'Branch Brown_5', 'Branch Brown_5', 'Branch Brown_5', 'Branch Burwick_', 'Branch Farmvlsw', 'Branch Farmvlsw', 'Branch Farmvlsw', 'Branch Farmvlsw', 'Branch Farmvlsw', 'Branch Farmvlsw', 'Branch Vallyses', 'Branch Vallyses', 'Branch Vallyses', 'Branch Vallyses', 'Branch Paris_Sw', 'Branch Paris_Sw', 'Branch Paris_Sw', 'Branch Paris_Sw', 'Branch Moses_5', 'Branch Moses_5', 'Branch Moses_5', 'Branch Moses1_T', 'Branch Sulsp_Ss', 'Branch Val_Sth_', 'Branch W_Krum_5', 'Branch W_Krum_5', 'Branch W_Krum_5', 'Branch W_Krum_5', 'Branch W_Krum_5', 'Branch Roanoke3', 'Branch Roanoke3', 'Branch Roanoke3', 'Branch Roanoke1', 'Branch Roanoke2', 'Branch Roanoke2', 'Branch Roanoke1', 'Branch Alliance', 'Branch Eaglemnt', 'Branch Eaglemnt', 'Branch Wlfhmdpt', 'Branch Benbrk_A', 'Branch Benbrk_B', 'Branch Benbrk_B', 'Branch Benbrk_5', 'Branch Wlfholw_', 'Branch Wlfholw_', 'Branch Rockycrk', 'Branch Evrman_W', 'Branch Evrman_W', 'Branch Evrman_W', 'Branch Evrman_W', 'Branch Evrmntie', 'Branch Evrmntie', 'Branch Evrman_E', 'Branch Evrman_E', 'Branch Evrman_E', 'Branch Evrman_E', 'Branch Evrman_E', 'Branch Evrmntie', 'Branch Decrdova', 'Branch Comchpkw', 'Branch Comchpkw', 'Branch Jhnsonsw', 'Branch Webb3_5', 'Branch Webb3_5', 'Branch Venus_S5', 'Branch Venus_S5', 'Branch Venus_S5', 'Branch Venus_S5', 'Branch Venus_S5', 'Branch Venus_N5', 'Branch Venus_N5', 'Branch Venus_N5', 'Branch Venus_N5', 'Branch Venus_N5', 'Branch Venus_N5', 'Branch Webb1_5', 'Branch Liggetta', 'Branch Liggetta', 'Branch Shryauto', 'Branch Shryauto', 'Branch Liggetta', 'Branch Liggetta', 'Branch Liggett_', 'Branch Liggett_', 'Branch Century1', 'Branch Century3', 'Branch Century3', 'Branch Courtlnd', 'Branch Mdlthelp', 'Branch Mdlthelp', 'Branch Mdlthelp', 'Branch Rnrtpl1_', 'Branch Rnrtpl1_', 'Branch Rnrdpl1_', 'Branch Crltn_Nw', 'Branch Crltn_Nw', 'Branch Crltn_Nw', 'Branch Crltn_Nw', 'Branch Collinss', 'Branch Hackbry1', 'Branch Irv_Vr1_', 'Branch Wlevee1_', 'Branch Wlevee1_', 'Branch Wlevee1_', 'Branch Norwd1_5', 'Branch Norwd1_5', 'Branch Norwd_1t', 'Branch Chilsw1_', 'Branch Chilsw1_', 'Branch Watmll_W', 'Branch Watmll_W', 'Branch Watmll_W', 'Branch Watmll_W', 'Branch Watmll_W', 'Branch Watmll_E', 'Branch Watmll_E', 'Branch Watmll_E', 'Branch Watmll_E', 'Branch Tricrn1_', 'Branch Tricrn1_', 'Branch Tricrn1_', 'Branch Sgvlsw1_', 'Branch Watmll_1', 'Branch Frny1_5', 'Branch Frny1_5', 'Branch Frny1_5', 'Branch Frny1_5', 'Branch Frny1_5', 'Branch Frny1_5', 'Branch Royse_N5', 'Branch Royse_N5', 'Branch Royse_N5', 'Branch Royse_S5', 'Branch Royse_S5', 'Branch Allensw2', 'Branch Martinlk', 'Branch Martinlk', 'Branch Martinlk', 'Branch Martinlk', 'Branch Martinlk', 'Branch Stryker_', 'Branch Stryker_', 'Branch Mtentrpr', 'Branch Mtentrpr', 'Branch Mtentrpr', 'Branch Trindad1', 'Branch Trindad2', 'Branch Trindad2', 'Branch Richlnd2', 'Branch Richlnd2', 'Branch Richlnd1', 'Branch Richlnd1', 'Branch Bigbrn__', 'Branch Bigbrn__', 'Branch Bigbrn__', 'Branch Bigbrn__', 'Branch Jewett_S', 'Branch Jewett_S', 'Branch Jewett_S', 'Branch Jewett_N', 'Branch Jewett_N', 'Branch Jewett_N', 'Branch Jewett_N', 'Branch Sandycrk', 'Branch Rat_Snak', 'Branch Twin_Oak', 'Branch Twin_Oak', 'Branch Twin_Oak', 'Branch Twin_Oak', 'Branch Twin_Oak', 'Branch Twin_Oak', 'Branch Lake_Crk', 'Branch Lake_Crk', 'Branch Thouse__', 'Branch Thouse__', 'Branch Thouse__', 'Branch Lake_Crk', 'Branch Lake_Crk', 'Branch Temp_Pec', 'Branch Knobcrks', 'Branch Knobcrks', 'Branch Knobcrks', 'Branch Temp_Ss_', 'Branch Temp_Ss_', 'Branch Kill_Ss_', 'Branch Kill_Ss_', 'Branch Bell_E_5', 'Branch Bell_E_5', 'Branch Bell_E_5', 'Branch Bell_E_5', 'Branch Huttoss_', 'Branch Huttoss_', 'Branch Huttoss_', 'Branch Huttoss_', 'Branch Cagnon_5', 'Branch Cagnon_5', 'Branch Cagnon_5', 'Branch Cagnon_5', 'Branch Elmcreek', 'Branch Elmcreek', 'Branch Elmcreek', 'Branch Elmcreek', 'Branch Elmcreek', 'Branch Elmcreek', 'Branch Elmcreek', 'Branch Elmcreek', 'Branch Hillcty_', 'Branch Hillcty_', 'Branch Hillcty_', 'Branch Hillcty_', 'Branch Rionog_1', 'Branch Rionog_1', 'Branch Skyline_', 'Branch Skyline_', 'Branch Spruce', 'Branch Spruce', 'Branch Pawneesw', 'Branch Pawneesw', 'Branch Pawneesw', 'Branch Miguel5', 'Branch So_Tex__', 'Branch So_Tex__', 'Branch So_Tex__', 'Branch So_Tex__', 'Branch So_Tex__', 'Branch So_Tex__', 'Branch Okla7a', 'Branch Okla7a', 'Branch Okla7a', 'Branch Okla7a', 'Branch Riley7a', 'Branch Riley7a', 'Branch Riley7a', 'Branch Riley7a', 'Branch Abmulce7', 'Branch Abmulce7', 'Branch Abmulcw7', 'Branch Redcreek', 'Branch Redcreek', 'Branch L_Austro', 'Branch L_Austro', 'Branch L_Austro', 'Branch L_Austro', 'Branch L_Austro', 'Branch L_Austro', 'Branch L_Zorn__', 'Branch L_Zorn__', 'Branch L_Zorn__', 'Branch L_Zorn__', 'Branch L_Zorn__', 'Branch L_Haysen', 'Branch L_Marion', 'Branch L_Marion', 'Branch L_Marion', 'Branch L_Kendal', 'Branch L_Kendal', 'Branch L_Kendal', 'Branch L_Garfie', 'Branch L_Garfie', 'Branch L_Garfie', 'Branch L_Garfie', 'Branch L_Cleasp', 'Branch L_Fppyd2', 'Branch L_Fppyd2', 'Branch L_Fppyd2', 'Branch L_Fppyd1', 'Branch L_Fppyd1', 'Branch L_Fppyd1', 'Branch L_Fppyd1', 'Branch Coleto7a', 'Branch La_Palma', 'Branch Riohondo', 'Branch Riohondo', 'Branch Riohondo', 'Branch Riohondo', 'Branch Nedin7a', 'Branch Lonhill7', 'Branch Lonhill7', 'Branch Lonhill7', 'Branch Nedin7b', 'Branch Nedin7b', 'Branch Nedin7b', 'Branch Riohondo', 'Branch Lostpn34', 'Branch Holman', 'Branch Holman', 'Branch Quailsw', 'Branch Quailsw', 'Branch Quailsw', 'Branch Odesehv', 'Branch Odesehv', 'Branch Tonkawa', 'Branch Tonkawa', 'Branch Tonkawa', 'Branch Tonkawa', 'Branch Tonkawa', 'Branch Dermott', 'Branch Dermott', 'Branch Dermott', 'Branch Dermott', 'Branch Dermott', 'Branch Dermott', 'Branch Scurcnt', 'Branch Scurcnt', 'Branch Centblu', 'Branch Centblu', 'Branch Centblu', 'Branch Sweetea', 'Branch Thouse_', 'Branch Garveyr', 'Branch Cedarp_', 'Branch Cedarp_', 'Branch Cedarp_', 'Branch Cedarp_', 'Branch Center_', 'Branch Center_', 'Branch Center_', 'Branch Center_', 'Branch Center_', 'Branch Center_', 'Branch Center_', 'Branch Chambr_', 'Branch Chambr_', 'Branch Chambr_', 'Branch Depwtr_', 'Branch Depwtr_', 'Branch Depwtr_', 'Branch Roans__', 'Branch Roans__', 'Branch Roans__', 'Branch Grnbyu_', 'Branch Grnbyu_', 'Branch Grnbyu_', 'Branch Grnbyu_', 'Branch Jordan_', 'Branch King___', 'Branch King___', 'Branch King___', 'Branch Sheldn_', 'Branch Sheldn_', 'Branch Sheldn_', 'Branch P_H_R__', 'Branch Dow____', 'Branch Meadow_', 'Branch Oasis__', 'Branch Oasis__', 'Branch Oasis__', 'Branch Oasis__', 'Branch W_A_P__', 'Branch W_A_P__', 'Branch W_A_P__', 'Branch W_A_P__', 'Branch W_A_P__', 'Branch W_A_P__', 'Branch W_A_P__', 'Branch W_A_P__', 'Branch Obrien_', 'Branch Obrien_', 'Branch Obrien_', 'Branch Sngltn_', 'Branch Sngltn_', 'Branch Sngltn_', 'Branch Smthrs_', 'Branch Smthrs_', 'Branch Smthrs_', 'Branch Smthrs_', 'Branch Zenith_', 'Branch Zenith_', 'Branch T_H_W__', 'Branch T_H_W__', 'Branch Adicks_', 'Branch Kuydal7', 'Branch Kuydal7', 'Branch Kuydal7', 'Branch Kuydal7', 'Branch Kuydal7', 'Branch Limest_', 'Branch Limest_', 'Branch Whitok_', 'Branch Belair_', 'Branch Long_Dr', 'Branch Long_Dr', 'Branch Long_Dr', 'Branch Sand_Bl', 'Branch Sand_Bl', 'Branch Cottonw', 'Branch Cottonw', 'Branch Cottonw', 'Branch Edithcl', 'Branch Edithcl', 'Branch Edithcl', 'Branch Edithcl', 'Branch Tesla7a', 'Branch Tesla7a', 'Branch Tesla7a', 'Branch Tesla7a', 'Branch Tesla7a', 'Branch Clearcr', 'Branch Clearcr', 'Branch Clearcr', 'Branch Clearcr', 'Branch Clearcr', 'Branch Edison7', 'Branch Edison7', 'Branch Edison7', 'Branch Edison7', 'Branch Edison7', 'Branch Edison7', 'Branch Gauss7a', 'Branch Gauss7a', 'Branch Gauss7a', 'Branch Gauss7c', 'Branch Gauss7c', 'Branch Gauss7c', 'Branch Kirchho', 'Branch Kirchho', 'Branch Kirchho', 'Branch Kirchho', 'Branch Kirchho', 'Branch Kirchho', 'Branch Oersted', 'Branch Oersted', 'Branch Oersted', 'Branch Oersted', 'Branch Oersted', 'Branch Oersted', 'Branch Oersted', 'Branch Oersted', 'Branch Jimtree', 'Branch Wshack', 'Branch Wshack', 'Branch Romney1', 'Branch Romney1', 'Branch Romney1', 'Branch Romney1', 'Branch Kopprl1', 'Branch Kopprl1', 'Branch Kopprl1', 'Branch Romney2', 'Branch Romney2', 'Branch Romney2', 'Branch Romney2', 'Branch Kopprl2', 'Branch Kopprl2', 'Branch Kopprl2', 'Branch Kopprl2', 'Branch L_Bittc', 'Branch L_Bittc', 'Branch L_Bittc', 'Branch L_Bittc', 'Branch L_Nortm', 'Branch L_Bighi', 'Branch L_Twinb', 'Branch L_Twinb', 'Branch L_Gascc', 'Branch L_Gascc', 'Branch L_Divid', 'Branch L_Divid', 'Branch Gray', 'Branch Gray', 'Branch Gray', 'Branch Gray', 'Branch Cross_W', 'Branch Cross_W', 'Branch Cross_W', 'Branch Cross_W', 'Branch Cross_W', 'Branch Cross_W', 'Branch Cross_W', 'Branch Cross_W', 'Branch Railhea', 'Branch Alibate', 'Branch Alibate', 'Branch Alibate', 'Branch Alibate', 'Branch Ogallal', 'Branch Ogallal', 'Branch Windmil', 'Branch Windmil', 'Branch Tulecny', 'Branch Aj_Swop', 'Branch Aj_Swop', 'Branch Zorillo', 'Branch Zorillo', 'Branch Zorillo', 'Branch Ajo7a', 'Branch Che_1_', 'Branch Oakgro', 'Branch Oakgro', 'Branch Pc_Sou', 'Branch Pc_Sou', 'Branch Kmchi_', 'Branch Kmchi_', 'Branch Wcpp_1', 'Branch Wcpp_2', 'Branch Wcpp_3', 'Branch Pena_1', 'Branch Hhgt_1', 'Branch Hhgt_1', 'Branch Hhgt_2', 'Branch Sweetw', 'Branch Champi', 'Branch Tkwsw_', 'Branch Indl_1', 'Branch Pyron_', 'OtherKV', 'Branch Diesela', 'Branch Carbon_S', 'Branch Lake_Crk', 'Branch Ld1tert', 'Branch Parker1', 'Branch Parker2', 'Branch Parker2', 'Branch Parker2', 'Branch Brnsvc1', 'Branch Brnsvc2', 'Branch Bryn_Ta', 'Branch Bryn_Ta', 'Branch T_H_W__', 'Branch Bluf_Sv', 'Branch Bluf_Sv', 'Branch Blftert', 'Branch Tesla1a', 'Branch L_Salem', 'Branch Hamilto', 'Branch Hamilto', 'Branch Ray_Ra', 'Branch Ray_Ra', 'Branch Ray_Ra', 'Branch Dowg_D', 'Branch Dowg_D', 'Branch Dowg_D', 'Branch Dowg_D', 'Branch Dow_Do', 'Branch Dow_Do', 'Branch Dow_Do', 'Branch Dow_61', 'Branch Dowgen', 'Branch Dowg_D', 'Branch Dowg_D', 'Branch Dowg_D', 'Branch Dow_Do', 'Branch Byu_By', 'Branch For_Fo', 'Branch For_Fo', 'Branch Msn_11', 'Branch Msn_11', 'Branch Vistro', 'Branch Sl_Sl_', 'Branch Sl_Sl_', 'Branch Sl_Sl_', 'Branch Sl_1', 'Branch Sl_1', 'Branch Sl_2', 'Branch Sl_3', 'Branch Sl_5', 'Branch Sl_6', 'Branch Sl_9', 'Branch Sl_9', 'Branch Sl_9', 'Branch Atk_At', 'Branch Mcdld_', 'Branch Keo_Sh', 'Branch Keo_Sh', 'Branch Bullcr', 'Branch Blsmt_', 'Branch Wnd_Wh', 'Branch Wnd_Wh', 'Branch Frnypp', 'Branch Frnypp', 'Branch Frnypp', 'Branch Frnypp', 'Branch Frnypp', 'Branch Lncrk2', 'Branch Tri_Th', 'Branch Tri_Th', 'Branch Fal_Fa', 'Branch Pearsa', 'Branch Pearsa', 'Branch Pena_U', 'Branch Cotton', 'Branch Tgw_T1', 'Branch Redfis', 'Branch Wir_Wi', 'Branch Decke_', 'Branch Decke_', 'Branch Sandhs', 'Branch Sandhs', 'Branch Sandhs', 'Branch Sandhs', 'Branch Hhgt_1', 'Branch Buc_Bu', 'Branch Buc_Bu', 'Branch Buc_Bu', 'Branch Buc_Bu', 'Branch Sweetw', 'Branch Buffg_', 'Branch Lonewo', 'Branch Goa_Go', 'Branch Goa_Go', 'Branch Anacac', 'Branch Frnypp']"
     ]
    },
    {
     "name": "stdout",
     "output_type": "stream",
     "text": [
      "\n",
      "['138KV', '69KV', '345KV', 'OtherKV']\n"
     ]
    },
    {
     "data": {
      "text/html": [
       "<div>\n",
       "<style>\n",
       "    .dataframe thead tr:only-child th {\n",
       "        text-align: right;\n",
       "    }\n",
       "\n",
       "    .dataframe thead th {\n",
       "        text-align: left;\n",
       "    }\n",
       "\n",
       "    .dataframe tbody tr th {\n",
       "        vertical-align: top;\n",
       "    }\n",
       "</style>\n",
       "<table border=\"1\" class=\"dataframe\">\n",
       "  <thead>\n",
       "    <tr style=\"text-align: right;\">\n",
       "      <th></th>\n",
       "      <th>node</th>\n",
       "      <th>latitude</th>\n",
       "      <th>longitude</th>\n",
       "    </tr>\n",
       "  </thead>\n",
       "  <tbody>\n",
       "    <tr>\n",
       "      <th>0</th>\n",
       "      <td>Roansprare</td>\n",
       "      <td>30.561080</td>\n",
       "      <td>-95.933990</td>\n",
       "    </tr>\n",
       "    <tr>\n",
       "      <th>1</th>\n",
       "      <td>Keithsw</td>\n",
       "      <td>30.675715</td>\n",
       "      <td>-96.082305</td>\n",
       "    </tr>\n",
       "    <tr>\n",
       "      <th>2</th>\n",
       "      <td>Iola</td>\n",
       "      <td>30.826780</td>\n",
       "      <td>-95.990295</td>\n",
       "    </tr>\n",
       "    <tr>\n",
       "      <th>3</th>\n",
       "      <td>Crtchfld</td>\n",
       "      <td>30.693430</td>\n",
       "      <td>-95.962830</td>\n",
       "    </tr>\n",
       "    <tr>\n",
       "      <th>4</th>\n",
       "      <td>Bedias</td>\n",
       "      <td>30.843290</td>\n",
       "      <td>-95.847475</td>\n",
       "    </tr>\n",
       "    <tr>\n",
       "      <th>5</th>\n",
       "      <td>Keith</td>\n",
       "      <td>30.675715</td>\n",
       "      <td>-96.093295</td>\n",
       "    </tr>\n",
       "    <tr>\n",
       "      <th>6</th>\n",
       "      <td>Carlossw</td>\n",
       "      <td>30.640275</td>\n",
       "      <td>-96.094665</td>\n",
       "    </tr>\n",
       "    <tr>\n",
       "      <th>7</th>\n",
       "      <td>Carlos</td>\n",
       "      <td>30.632005</td>\n",
       "      <td>-96.087800</td>\n",
       "    </tr>\n",
       "    <tr>\n",
       "      <th>8</th>\n",
       "      <td>Northzulch</td>\n",
       "      <td>31.036465</td>\n",
       "      <td>-95.953215</td>\n",
       "    </tr>\n",
       "    <tr>\n",
       "      <th>9</th>\n",
       "      <td>Hamndsw</td>\n",
       "      <td>31.076465</td>\n",
       "      <td>-96.643985</td>\n",
       "    </tr>\n",
       "    <tr>\n",
       "      <th>10</th>\n",
       "      <td>Hammond</td>\n",
       "      <td>31.090575</td>\n",
       "      <td>-96.591795</td>\n",
       "    </tr>\n",
       "    <tr>\n",
       "      <th>11</th>\n",
       "      <td>Robertson</td>\n",
       "      <td>31.025870</td>\n",
       "      <td>-96.604155</td>\n",
       "    </tr>\n",
       "    <tr>\n",
       "      <th>12</th>\n",
       "      <td>Calvertmin</td>\n",
       "      <td>31.049405</td>\n",
       "      <td>-96.652220</td>\n",
       "    </tr>\n",
       "    <tr>\n",
       "      <th>13</th>\n",
       "      <td>Hearne8</td>\n",
       "      <td>30.936390</td>\n",
       "      <td>-96.560210</td>\n",
       "    </tr>\n",
       "    <tr>\n",
       "      <th>14</th>\n",
       "      <td>Ridge</td>\n",
       "      <td>31.067055</td>\n",
       "      <td>-96.314395</td>\n",
       "    </tr>\n",
       "    <tr>\n",
       "      <th>15</th>\n",
       "      <td>Farrar</td>\n",
       "      <td>31.347770</td>\n",
       "      <td>-96.214145</td>\n",
       "    </tr>\n",
       "    <tr>\n",
       "      <th>16</th>\n",
       "      <td>Hiltoplks8</td>\n",
       "      <td>31.116445</td>\n",
       "      <td>-96.091920</td>\n",
       "    </tr>\n",
       "    <tr>\n",
       "      <th>17</th>\n",
       "      <td>Beargrass</td>\n",
       "      <td>31.394675</td>\n",
       "      <td>-96.174315</td>\n",
       "    </tr>\n",
       "    <tr>\n",
       "      <th>18</th>\n",
       "      <td>Butler</td>\n",
       "      <td>31.690785</td>\n",
       "      <td>-95.879060</td>\n",
       "    </tr>\n",
       "    <tr>\n",
       "      <th>19</th>\n",
       "      <td>Fairfield</td>\n",
       "      <td>31.815730</td>\n",
       "      <td>-96.270445</td>\n",
       "    </tr>\n",
       "    <tr>\n",
       "      <th>20</th>\n",
       "      <td>Winkler</td>\n",
       "      <td>31.998760</td>\n",
       "      <td>-96.074065</td>\n",
       "    </tr>\n",
       "    <tr>\n",
       "      <th>21</th>\n",
       "      <td>Bryan_E_8</td>\n",
       "      <td>30.649725</td>\n",
       "      <td>-96.166075</td>\n",
       "    </tr>\n",
       "    <tr>\n",
       "      <th>22</th>\n",
       "      <td>Gibn_Crek_8</td>\n",
       "      <td>30.660355</td>\n",
       "      <td>-96.028745</td>\n",
       "    </tr>\n",
       "    <tr>\n",
       "      <th>23</th>\n",
       "      <td>Sulsp_Ss1_8</td>\n",
       "      <td>33.068525</td>\n",
       "      <td>-95.576935</td>\n",
       "    </tr>\n",
       "    <tr>\n",
       "      <th>24</th>\n",
       "      <td>Liberty_8</td>\n",
       "      <td>32.932620</td>\n",
       "      <td>-95.616760</td>\n",
       "    </tr>\n",
       "    <tr>\n",
       "      <th>25</th>\n",
       "      <td>Mosesmin_8</td>\n",
       "      <td>33.198475</td>\n",
       "      <td>-95.089415</td>\n",
       "    </tr>\n",
       "    <tr>\n",
       "      <th>26</th>\n",
       "      <td>Talco_W_P8</td>\n",
       "      <td>33.343150</td>\n",
       "      <td>-95.188295</td>\n",
       "    </tr>\n",
       "    <tr>\n",
       "      <th>27</th>\n",
       "      <td>Moses_T8</td>\n",
       "      <td>33.337410</td>\n",
       "      <td>-95.195160</td>\n",
       "    </tr>\n",
       "    <tr>\n",
       "      <th>28</th>\n",
       "      <td>Moses1_8</td>\n",
       "      <td>33.137550</td>\n",
       "      <td>-95.012515</td>\n",
       "    </tr>\n",
       "    <tr>\n",
       "      <th>29</th>\n",
       "      <td>Sulblf1_8</td>\n",
       "      <td>33.278880</td>\n",
       "      <td>-95.331115</td>\n",
       "    </tr>\n",
       "    <tr>\n",
       "      <th>...</th>\n",
       "      <td>...</td>\n",
       "      <td>...</td>\n",
       "      <td>...</td>\n",
       "    </tr>\n",
       "    <tr>\n",
       "      <th>6794</th>\n",
       "      <td>Lge_Lge_Stg</td>\n",
       "      <td>27.892495</td>\n",
       "      <td>-97.249605</td>\n",
       "    </tr>\n",
       "    <tr>\n",
       "      <th>6795</th>\n",
       "      <td>Oxy_Oxy_Ccg1</td>\n",
       "      <td>27.813570</td>\n",
       "      <td>-97.587435</td>\n",
       "    </tr>\n",
       "    <tr>\n",
       "      <th>6796</th>\n",
       "      <td>Cel_Celaneg1</td>\n",
       "      <td>27.560635</td>\n",
       "      <td>-97.830505</td>\n",
       "    </tr>\n",
       "    <tr>\n",
       "      <th>6797</th>\n",
       "      <td>Ned_Nedin_G1</td>\n",
       "      <td>26.343885</td>\n",
       "      <td>-98.190305</td>\n",
       "    </tr>\n",
       "    <tr>\n",
       "      <th>6798</th>\n",
       "      <td>Ned_Nedin_G2</td>\n",
       "      <td>26.343885</td>\n",
       "      <td>-98.190305</td>\n",
       "    </tr>\n",
       "    <tr>\n",
       "      <th>6799</th>\n",
       "      <td>Ned_Nedin_G3</td>\n",
       "      <td>26.343885</td>\n",
       "      <td>-98.190305</td>\n",
       "    </tr>\n",
       "    <tr>\n",
       "      <th>6800</th>\n",
       "      <td>Ccec_Gt1</td>\n",
       "      <td>27.954380</td>\n",
       "      <td>-97.444610</td>\n",
       "    </tr>\n",
       "    <tr>\n",
       "      <th>6801</th>\n",
       "      <td>Ccec_Gt2</td>\n",
       "      <td>27.954380</td>\n",
       "      <td>-97.444610</td>\n",
       "    </tr>\n",
       "    <tr>\n",
       "      <th>6802</th>\n",
       "      <td>Ccec_St1</td>\n",
       "      <td>27.954380</td>\n",
       "      <td>-97.444610</td>\n",
       "    </tr>\n",
       "    <tr>\n",
       "      <th>6803</th>\n",
       "      <td>Sila_Silas_6</td>\n",
       "      <td>26.086390</td>\n",
       "      <td>-97.503665</td>\n",
       "    </tr>\n",
       "    <tr>\n",
       "      <th>6804</th>\n",
       "      <td>Sila_Silas_9</td>\n",
       "      <td>26.086390</td>\n",
       "      <td>-97.503665</td>\n",
       "    </tr>\n",
       "    <tr>\n",
       "      <th>6805</th>\n",
       "      <td>Sil_Silas_10</td>\n",
       "      <td>26.086390</td>\n",
       "      <td>-97.503665</td>\n",
       "    </tr>\n",
       "    <tr>\n",
       "      <th>6806</th>\n",
       "      <td>Pena_Unit1</td>\n",
       "      <td>27.104370</td>\n",
       "      <td>-97.524260</td>\n",
       "    </tr>\n",
       "    <tr>\n",
       "      <th>6807</th>\n",
       "      <td>Pena_Unit2</td>\n",
       "      <td>27.104370</td>\n",
       "      <td>-97.524260</td>\n",
       "    </tr>\n",
       "    <tr>\n",
       "      <th>6808</th>\n",
       "      <td>Pena_Unit3</td>\n",
       "      <td>27.104370</td>\n",
       "      <td>-97.532500</td>\n",
       "    </tr>\n",
       "    <tr>\n",
       "      <th>6809</th>\n",
       "      <td>Pap1_Pap1</td>\n",
       "      <td>27.930115</td>\n",
       "      <td>-97.455595</td>\n",
       "    </tr>\n",
       "    <tr>\n",
       "      <th>6810</th>\n",
       "      <td>Cotton_Pap2</td>\n",
       "      <td>27.943460</td>\n",
       "      <td>-97.436370</td>\n",
       "    </tr>\n",
       "    <tr>\n",
       "      <th>6811</th>\n",
       "      <td>Tgw_T1</td>\n",
       "      <td>26.962470</td>\n",
       "      <td>-97.569580</td>\n",
       "    </tr>\n",
       "    <tr>\n",
       "      <th>6812</th>\n",
       "      <td>Tgw_T2</td>\n",
       "      <td>26.962470</td>\n",
       "      <td>-97.569580</td>\n",
       "    </tr>\n",
       "    <tr>\n",
       "      <th>6813</th>\n",
       "      <td>Cedrohi_Chw1</td>\n",
       "      <td>27.433945</td>\n",
       "      <td>-99.077455</td>\n",
       "    </tr>\n",
       "    <tr>\n",
       "      <th>6814</th>\n",
       "      <td>Redfish_G1</td>\n",
       "      <td>26.379570</td>\n",
       "      <td>-97.683565</td>\n",
       "    </tr>\n",
       "    <tr>\n",
       "      <th>6815</th>\n",
       "      <td>Redfish_G2</td>\n",
       "      <td>26.379570</td>\n",
       "      <td>-97.683565</td>\n",
       "    </tr>\n",
       "    <tr>\n",
       "      <th>6816</th>\n",
       "      <td>Lv1_Lv1a</td>\n",
       "      <td>26.278640</td>\n",
       "      <td>-97.612155</td>\n",
       "    </tr>\n",
       "    <tr>\n",
       "      <th>6817</th>\n",
       "      <td>Lv1_Lv1b</td>\n",
       "      <td>26.278640</td>\n",
       "      <td>-97.612155</td>\n",
       "    </tr>\n",
       "    <tr>\n",
       "      <th>6818</th>\n",
       "      <td>Exg_Wind_1</td>\n",
       "      <td>27.499745</td>\n",
       "      <td>-99.045865</td>\n",
       "    </tr>\n",
       "    <tr>\n",
       "      <th>6819</th>\n",
       "      <td>Lard_Vft_Gen</td>\n",
       "      <td>27.574025</td>\n",
       "      <td>-99.515535</td>\n",
       "    </tr>\n",
       "    <tr>\n",
       "      <th>6820</th>\n",
       "      <td>Dc__Bl_Eagle</td>\n",
       "      <td>28.677335</td>\n",
       "      <td>-100.570200</td>\n",
       "    </tr>\n",
       "    <tr>\n",
       "      <th>6821</th>\n",
       "      <td>Dc_R_Bl_Road</td>\n",
       "      <td>26.172690</td>\n",
       "      <td>-98.344115</td>\n",
       "    </tr>\n",
       "    <tr>\n",
       "      <th>6822</th>\n",
       "      <td>Dc_R_Bl_Road</td>\n",
       "      <td>26.172690</td>\n",
       "      <td>-98.344115</td>\n",
       "    </tr>\n",
       "    <tr>\n",
       "      <th>6823</th>\n",
       "      <td>Laredo4a</td>\n",
       "      <td>27.567940</td>\n",
       "      <td>-99.505920</td>\n",
       "    </tr>\n",
       "  </tbody>\n",
       "</table>\n",
       "<p>6824 rows × 3 columns</p>\n",
       "</div>"
      ],
      "text/plain": [
       "              node   latitude   longitude\n",
       "0       Roansprare  30.561080  -95.933990\n",
       "1          Keithsw  30.675715  -96.082305\n",
       "2             Iola  30.826780  -95.990295\n",
       "3         Crtchfld  30.693430  -95.962830\n",
       "4           Bedias  30.843290  -95.847475\n",
       "5            Keith  30.675715  -96.093295\n",
       "6         Carlossw  30.640275  -96.094665\n",
       "7           Carlos  30.632005  -96.087800\n",
       "8       Northzulch  31.036465  -95.953215\n",
       "9          Hamndsw  31.076465  -96.643985\n",
       "10         Hammond  31.090575  -96.591795\n",
       "11       Robertson  31.025870  -96.604155\n",
       "12      Calvertmin  31.049405  -96.652220\n",
       "13         Hearne8  30.936390  -96.560210\n",
       "14           Ridge  31.067055  -96.314395\n",
       "15          Farrar  31.347770  -96.214145\n",
       "16      Hiltoplks8  31.116445  -96.091920\n",
       "17       Beargrass  31.394675  -96.174315\n",
       "18          Butler  31.690785  -95.879060\n",
       "19       Fairfield  31.815730  -96.270445\n",
       "20         Winkler  31.998760  -96.074065\n",
       "21       Bryan_E_8  30.649725  -96.166075\n",
       "22     Gibn_Crek_8  30.660355  -96.028745\n",
       "23     Sulsp_Ss1_8  33.068525  -95.576935\n",
       "24       Liberty_8  32.932620  -95.616760\n",
       "25      Mosesmin_8  33.198475  -95.089415\n",
       "26      Talco_W_P8  33.343150  -95.188295\n",
       "27        Moses_T8  33.337410  -95.195160\n",
       "28        Moses1_8  33.137550  -95.012515\n",
       "29       Sulblf1_8  33.278880  -95.331115\n",
       "...            ...        ...         ...\n",
       "6794   Lge_Lge_Stg  27.892495  -97.249605\n",
       "6795  Oxy_Oxy_Ccg1  27.813570  -97.587435\n",
       "6796  Cel_Celaneg1  27.560635  -97.830505\n",
       "6797  Ned_Nedin_G1  26.343885  -98.190305\n",
       "6798  Ned_Nedin_G2  26.343885  -98.190305\n",
       "6799  Ned_Nedin_G3  26.343885  -98.190305\n",
       "6800      Ccec_Gt1  27.954380  -97.444610\n",
       "6801      Ccec_Gt2  27.954380  -97.444610\n",
       "6802      Ccec_St1  27.954380  -97.444610\n",
       "6803  Sila_Silas_6  26.086390  -97.503665\n",
       "6804  Sila_Silas_9  26.086390  -97.503665\n",
       "6805  Sil_Silas_10  26.086390  -97.503665\n",
       "6806    Pena_Unit1  27.104370  -97.524260\n",
       "6807    Pena_Unit2  27.104370  -97.524260\n",
       "6808    Pena_Unit3  27.104370  -97.532500\n",
       "6809     Pap1_Pap1  27.930115  -97.455595\n",
       "6810   Cotton_Pap2  27.943460  -97.436370\n",
       "6811        Tgw_T1  26.962470  -97.569580\n",
       "6812        Tgw_T2  26.962470  -97.569580\n",
       "6813  Cedrohi_Chw1  27.433945  -99.077455\n",
       "6814    Redfish_G1  26.379570  -97.683565\n",
       "6815    Redfish_G2  26.379570  -97.683565\n",
       "6816      Lv1_Lv1a  26.278640  -97.612155\n",
       "6817      Lv1_Lv1b  26.278640  -97.612155\n",
       "6818    Exg_Wind_1  27.499745  -99.045865\n",
       "6819  Lard_Vft_Gen  27.574025  -99.515535\n",
       "6820  Dc__Bl_Eagle  28.677335 -100.570200\n",
       "6821  Dc_R_Bl_Road  26.172690  -98.344115\n",
       "6822  Dc_R_Bl_Road  26.172690  -98.344115\n",
       "6823      Laredo4a  27.567940  -99.505920\n",
       "\n",
       "[6824 rows x 3 columns]"
      ]
     },
     "execution_count": 85,
     "metadata": {},
     "output_type": "execute_result"
    }
   ],
   "source": [
    "names = []\n",
    "for node in buses.iter(tag='{http://www.opengis.net/kml/2.2}name'):\n",
    "    if node.text.find(' ') == -1 and node.text != 'Buses':\n",
    "        names.append(node.text)\n",
    "\n",
    "branch_id = []\n",
    "voltage_levels = []\n",
    "for voltage_level in branches.iter(tag='{http://www.opengis.net/kml/2.2}name'):\n",
    "    if voltage_level.text.find(' ') == -1 and voltage_level.text != 'Branches':\n",
    "        voltage_levels.append(voltage_level.text)\n",
    "for branch in branches.iter(tag='{http://www.opengis.net/kml/2.2}name'):\n",
    "    branch_id.append(branch.text)\n",
    "        \n",
    "print(branch_id)\n",
    "print(voltage_levels)\n",
    "        \n",
    "coordinates = []\n",
    "for node in buses.iter(\n",
    "    tag='{http://www.opengis.net/kml/2.2}coordinates'):\n",
    "    coordinates.append(node.text)\n",
    "    \n",
    "if len(names) != len(coordinates):\n",
    "    raise Exception(\"len(names) and len(coordinates) don't match\")\n",
    "    \n",
    "latitudes, longitudes = [], []\n",
    "for node in coordinates:\n",
    "    latitudes.append(latlonify(node)[0])\n",
    "    longitudes.append(latlonify(node)[1])\n",
    "\n",
    "dfout = pd.DataFrame(columns=['node', 'latitude', 'longitude'])\n",
    "dfout.loc[:,'node'] = names\n",
    "dfout.loc[:,'latitude'] = latitudes\n",
    "dfout.loc[:,'longitude'] = longitudes\n",
    "dfout"
   ]
  },
  {
   "cell_type": "code",
   "execution_count": 9,
   "metadata": {
    "collapsed": true
   },
   "outputs": [],
   "source": [
    "descriptions = []\n",
    "for node in buses.iter(\n",
    "    tag='{http://www.opengis.net/kml/2.2}description'):\n",
    "    descriptions.append(node.text)"
   ]
  },
  {
   "cell_type": "code",
   "execution_count": 10,
   "metadata": {},
   "outputs": [
    {
     "name": "stdout",
     "output_type": "stream",
     "text": [
      "names: 6824\n",
      "coordinates: 6824\n",
      "descriptions: 6824\n"
     ]
    }
   ],
   "source": [
    "print('names: {}'.format(len(names)))\n",
    "print('coordinates: {}'.format(len(coordinates)))\n",
    "print('descriptions: {}'.format(len(descriptions)))"
   ]
  },
  {
   "cell_type": "code",
   "execution_count": 11,
   "metadata": {
    "collapsed": true
   },
   "outputs": [],
   "source": [
    "for i in range(len(descriptions)):\n",
    "    if descriptions[i].find(names[i]) == -1:\n",
    "        print('aaaaaaah')\n",
    "        print(names[i])\n",
    "        print(descriptions[i])"
   ]
  },
  {
   "cell_type": "code",
   "execution_count": 12,
   "metadata": {},
   "outputs": [
    {
     "data": {
      "text/plain": [
       "array(['Bepc_Tsp', 'Tmpa_Tsp', 'Oncor_Ed', 'Unassigned', 'Texlatsp',\n",
       "       'Temporary', 'Rybrntsp', 'Cs_Tsp', 'Bryn_Tsp', 'Tnmp_Tsp',\n",
       "       'E_Oncor_Ed', 'Cnp_Tsp', 'E_Cnp_Tsp', 'Dc_East', 'Aep_Tnc',\n",
       "       'Grlndtsp', 'Dentntsp', 'Lcra Tsc', 'E_Lcratsc', 'Grnvltsp', 'Lst',\n",
       "       'E_Grnvltsp', 'Stec_Tsp', 'Aep_Tcc', 'Aen_Tsp', 'Cps_Tsp',\n",
       "       'E_Cps_Tsp', 'Goldenspread', 'E_Aep_Tnc', 'E_Bepc_Tsp', 'Wett',\n",
       "       'Ctt', 'Shry_Tsp', 'E_Shry_Tsp', 'North_Dc', 'E_Tnmp_Tsp',\n",
       "       'E_Aep_Tcc', 'Stp', 'Bpub Tsp', 'Cfe'], dtype=object)"
      ]
     },
     "execution_count": 12,
     "metadata": {},
     "output_type": "execute_result"
    }
   ],
   "source": [
    "areas = []\n",
    "for i in range(len(descriptions)):\n",
    "    foo = descriptions[i]\n",
    "    bar = foo[(foo.find('Area')+14):]\n",
    "    out = bar[:bar.find('</td>')]\n",
    "    areas.append(out)\n",
    "\n",
    "pd.Series(areas).unique()"
   ]
  },
  {
   "cell_type": "code",
   "execution_count": 13,
   "metadata": {},
   "outputs": [
    {
     "data": {
      "text/plain": [
       "array(['Bepc', 'Tmpa', 'O_Hopkins', 'O_Titus', 'O_Rusk', 'O_Smith',\n",
       "       'O_Cherokee', 'O_Anderson', 'O_Angelina', 'O_Nacogdoche',\n",
       "       'O_Henderson', 'O_Vanzandt', 'O_Leon', 'O_Freestone', 'O_Houston',\n",
       "       'Unassigned', 'Tex-La', 'Temporary', 'Rayburn', 'Cocs', 'O_Taylor',\n",
       "       'Tnp_Ktrc', 'E_Robertson', 'E_Nacogdoche', 'O_Robertson', 'Tnp_Gen',\n",
       "       'Cnp_Dist', 'E_Grimes', 'E_Titus', 'Presidio', 'Garland', 'Denton',\n",
       "       'O_Jack', 'O_Comanche', 'O_Wise', 'O_Erath', 'O_Parker',\n",
       "       'O_Eastland', 'O_Bosque', 'O_Brown', 'O_Collin', 'O_Hunt',\n",
       "       'O_Denton', 'O_Tarrant', 'O_Hood', 'O_Dallas', 'O_Johnson',\n",
       "       'O_Ellis', 'O_Kaufman', 'O_Navarro', 'O_Mclennan', 'O_Bell',\n",
       "       'O_Hill', 'O_Limestone', 'O_Coryell', 'O_Williamson', 'Putnam',\n",
       "       'Mills', 'Brown', 'Tnp_Lew', 'Tnp_Clmx', 'Tnp_Clif', 'Tnp_Wlsp',\n",
       "       'Tnp_Vrog', 'Cnp_Tgn', 'E_Shackelfor', 'E_Mills', 'Kopperl',\n",
       "       'O_Falls', 'E Munday', 'Ballingr', 'Tnp_Hc-F', 'O_Shackelfor',\n",
       "       'Wshack', 'East_Land', 'Samswtc', 'Navarro', 'E_Kaufman', 'E_Wise',\n",
       "       'E_Young', 'E_Jack', 'E_Bell', 'E_Hunt', 'O_Milam', 'Wcec', 'Kec',\n",
       "       'Mec', 'Llano', 'Burnet', 'Hays', 'Caldwell', 'Gonzales', 'Fayette',\n",
       "       'Colorado', 'Austin', 'Bastrop', 'Williamson', 'Travis', 'Bandera',\n",
       "       'Blanco', 'Comal', 'Lavaca', 'E_Gonzales', 'Guadlupe', 'Wilson',\n",
       "       'N Region', 'W Region', 'Trav-Aeu', 'Dewitt', 'Cps', 'Cps_Gens',\n",
       "       'Stec', 'Gilespie', 'Kendall', 'Wshngton', 'Lee', 'Burleson',\n",
       "       'E_Colorado', 'Bast-Aeu', 'Cald-Aeu', 'Will-Aeu', 'E_Dewitt',\n",
       "       'E_Milam', 'E_Taylor', 'E_Bexar', 'Faye-Aeu', 'E_Guadalupe',\n",
       "       'E_Kendall', 'E_Travis', 'E_Bastrop', 'O_Mitchell', 'O_Scurry',\n",
       "       'O_Nolan', 'Sweetwtr', 'Abilene', 'Mason', 'Cedr Hil', 'San Ang',\n",
       "       'Sonora', 'Lampasas', 'San Saba', 'Kerr', 'E_Kerr', 'Triangle',\n",
       "       'Gs_Taylor', 'Tuscola', 'L_Mason', 'E_Llano', 'E_Nolan', 'E_Borden',\n",
       "       'E_Scurry', 'E_Coke', 'E_Schleicher', 'E_Kinney', 'Sterling',\n",
       "       'Glasscock', 'Tnc_Lcra', 'Oklunion', 'Nolan', 'E_Mitchell',\n",
       "       'O_Howard', 'Mccamey', 'Aspr Mnt', 'Trent', 'L_Kimble', 'Real',\n",
       "       'Kimble', 'O_Archer', 'O_Wichita', 'O_Clay', 'O_Fannin', 'O_Lamar',\n",
       "       'O_Grayson', 'O_Cooke', 'W Chldrs', 'Paducah', 'Tnp_Bels',\n",
       "       'E_Grayson', 'E_Dickens', 'E_Cooke', 'E_Archer', 'E_Motley',\n",
       "       'E_Kent', 'Dickens', 'Gray', 'E_Lamar', 'E_Pittsburg-', 'E_Fannin',\n",
       "       'E_Wilbarger', 'E_Oldham', 'O_Ward', 'O_Ector', 'O_Midland',\n",
       "       'O_Winkler', 'O_Andrews', 'Big Sprg', 'Pecos', 'Culbrson',\n",
       "       'Gs_Lyntegar', 'Tnp_Pmwk', 'Tnp_Fs', 'Midlan', 'Su_Caprock',\n",
       "       'E_Upton', 'E_Pecos', 'E_Crane', 'E_Martin', 'E_Glasscock',\n",
       "       'E_Winkler', 'Martin', 'Borden', 'E_Ector', 'E_Howard', 'Vec',\n",
       "       'Jec', 'Waller', 'North Li', 'Tnp_Tc', 'Tnp_Wc', 'Tnp_Cogn',\n",
       "       'Cnp_Inds', 'Cnp_Cogn', 'Cnp_Ss', 'Cnp_Dntn', 'Cnp_Innr',\n",
       "       'E_Tnmp_Pun', 'Cnp_Galv', 'Cnp_Lcap', 'E_Fort Bend', 'E_Cnp_Pun',\n",
       "       'E_Aeptcc_Pun', 'E_Harris', 'E_Galveston', 'E_Chambers',\n",
       "       'E_Wharton', 'Stp', 'Spec', 'Nec', 'Mvec_W', 'Bpub', 'Goliad',\n",
       "       'C Region', 'Load-Ex', 'Laredo', 'E Valley', 'W Valley', 'Cent Li',\n",
       "       'Mvec_E', 'Tcc_Mec', 'Shry', 'Tcc_Rgec', 'E_Webb', 'E_Sanpatrici',\n",
       "       'E_Willacy', 'E_Cameron', 'E_Kenedy', 'E_Matamoras', 'E_Maverick',\n",
       "       'E_Hidalgo'], dtype=object)"
      ]
     },
     "execution_count": 13,
     "metadata": {},
     "output_type": "execute_result"
    }
   ],
   "source": [
    "zones = []\n",
    "for i in range(len(descriptions)):\n",
    "    foo = descriptions[i]\n",
    "    bar = foo[(foo.find('Zone')+14):]\n",
    "    out = bar[:bar.find('</td>')]\n",
    "    zones.append(out)\n",
    "\n",
    "pd.Series(zones).unique()"
   ]
  },
  {
   "cell_type": "code",
   "execution_count": 14,
   "metadata": {},
   "outputs": [
    {
     "data": {
      "text/plain": [
       "array(['Unknown', 'Lz_Raybn', 'Lz_Lcra', 'Lz_Aen', 'Lz_Cps'], dtype=object)"
      ]
     },
     "execution_count": 14,
     "metadata": {},
     "output_type": "execute_result"
    }
   ],
   "source": [
    "settlementzones = []\n",
    "for i in range(len(descriptions)):\n",
    "    foo = descriptions[i]\n",
    "    bar = foo[(foo.find('Settlement Zone')+25):]\n",
    "    out = bar[:bar.find('</td>')]\n",
    "    settlementzones.append(out)\n",
    "\n",
    "pd.Series(settlementzones).unique()"
   ]
  },
  {
   "cell_type": "code",
   "execution_count": 15,
   "metadata": {},
   "outputs": [
    {
     "name": "stdout",
     "output_type": "stream",
     "text": [
      "Tnnthsdtap0\n",
      "<table style=\"width:800px;height:600px;padding:0px\"><tr><td><div style=\"width:200px; height:600px; overflow:scroll\"><table border=\"1\"><tr><th>&nbsp;</th>\n",
      "<th>Tnnthsdtap0</th></tr>\n",
      "<tr><th>ID</th>\n",
      "<td>39,220</td></tr>\n",
      "<tr><th>KV Level</th>\n",
      "<td>69</td></tr>\n",
      "<tr><th>Area</th>\n",
      "<td>Tnmp_Tsp</td></tr>\n",
      "<tr><th>Zone</th>\n",
      "<td>Tnp_Tc</td></tr>\n",
      "<tr><th>Settlement Zone</th>\n",
      "<td>Unknown</td></tr>\n",
      "<tr><th>Substation</th>\n",
      "<td>Nthsdtap</td></tr>\n",
      "<tr><th>Branches</th>\n",
      "<td><a href=\"2017_JUL_Monthly_PSSEv30_5-16-2017.kml#branch38770to39220;balloonFlyto\" alt=\"Tnheights_0 to Tnnthsdtap0\">Tnheigh</a><br /><a href=\"2017_JUL_Monthly_PSSEv30_5-16-2017.kml#branch39140to39220;balloonFlyto\" alt=\"Tntxcitymn0 to Tnnthsdtap0\">Tntxcit</a><br /><a href=\"2017_JUL_Monthly_PSSEv30_5-16-2017.kml#branch39220to39250;balloonFlyto\" alt=\"Tnnthsdtap0 to Tnnorthsde0\">Tnnthsd</a><br /></td>\n",
      "</tr>\n",
      "<tr><th>Loads</th>\n",
      "\t\t\t\t<td>\t\t\t\t</td>\n",
      "\t\t\t\t</tr>\n",
      "\t\t\t\t<tr><th>Switched shunts</th>\n",
      "\t\t\t\t<td>\t\t\t\t</td>\n",
      "\t\t\t\t</tr>\n",
      "\t\t\t\t<tr><th>Transformers</th>\n",
      "\t\t\t\t<td>\t\t\t\t</td>\n",
      "\t\t\t\t</tr>\n",
      "\t\t\t\t<tr><th>Units</th>\n",
      "\t\t\t\t<td>\t\t\t\t\t</td>\n",
      "</tr></table></div></td><td>\n",
      "<div style=\"width:600px;height:600px;overflow:scroll\"><img src=\"Nthsdtap.jpg\"/></div></td></tr></table>\n",
      "\n"
     ]
    }
   ],
   "source": [
    "i = 5000\n",
    "print(names[i])\n",
    "print(descriptions[i])"
   ]
  },
  {
   "cell_type": "markdown",
   "metadata": {},
   "source": [
    "### Idenify duplicate (lat,lon) tuples"
   ]
  },
  {
   "cell_type": "code",
   "execution_count": 16,
   "metadata": {},
   "outputs": [
    {
     "name": "stdout",
     "output_type": "stream",
     "text": [
      "6824\n",
      "4081\n"
     ]
    }
   ],
   "source": [
    "lats = dfout['latitude'].values.copy()\n",
    "lons = dfout['longitude'].values.copy()\n",
    "tups = []\n",
    "for i in range(len(lats)):\n",
    "    tups.append(tuple([list(lats)[i], list(lons)[i]]))\n",
    "\n",
    "latlons = pd.Series(tups)\n",
    "latlons_unique = latlons.unique()\n",
    "print(len(latlons))\n",
    "print(len(latlons_unique))"
   ]
  },
  {
   "cell_type": "code",
   "execution_count": 17,
   "metadata": {},
   "outputs": [
    {
     "data": {
      "text/html": [
       "<div>\n",
       "<style>\n",
       "    .dataframe thead tr:only-child th {\n",
       "        text-align: right;\n",
       "    }\n",
       "\n",
       "    .dataframe thead th {\n",
       "        text-align: left;\n",
       "    }\n",
       "\n",
       "    .dataframe tbody tr th {\n",
       "        vertical-align: top;\n",
       "    }\n",
       "</style>\n",
       "<table border=\"1\" class=\"dataframe\">\n",
       "  <thead>\n",
       "    <tr style=\"text-align: right;\">\n",
       "      <th></th>\n",
       "      <th>node</th>\n",
       "      <th>latitude</th>\n",
       "      <th>longitude</th>\n",
       "      <th>latlonindex</th>\n",
       "    </tr>\n",
       "  </thead>\n",
       "  <tbody>\n",
       "    <tr>\n",
       "      <th>6819</th>\n",
       "      <td>Lard_Vft_Gen</td>\n",
       "      <td>27.574025</td>\n",
       "      <td>-99.515535</td>\n",
       "      <td>4074</td>\n",
       "    </tr>\n",
       "    <tr>\n",
       "      <th>6820</th>\n",
       "      <td>Dc__Bl_Eagle</td>\n",
       "      <td>28.677335</td>\n",
       "      <td>-100.570200</td>\n",
       "      <td>4079</td>\n",
       "    </tr>\n",
       "    <tr>\n",
       "      <th>6821</th>\n",
       "      <td>Dc_R_Bl_Road</td>\n",
       "      <td>26.172690</td>\n",
       "      <td>-98.344115</td>\n",
       "      <td>4080</td>\n",
       "    </tr>\n",
       "    <tr>\n",
       "      <th>6822</th>\n",
       "      <td>Dc_R_Bl_Road</td>\n",
       "      <td>26.172690</td>\n",
       "      <td>-98.344115</td>\n",
       "      <td>4080</td>\n",
       "    </tr>\n",
       "    <tr>\n",
       "      <th>6823</th>\n",
       "      <td>Laredo4a</td>\n",
       "      <td>27.567940</td>\n",
       "      <td>-99.505920</td>\n",
       "      <td>3782</td>\n",
       "    </tr>\n",
       "  </tbody>\n",
       "</table>\n",
       "</div>"
      ],
      "text/plain": [
       "              node   latitude   longitude  latlonindex\n",
       "6819  Lard_Vft_Gen  27.574025  -99.515535         4074\n",
       "6820  Dc__Bl_Eagle  28.677335 -100.570200         4079\n",
       "6821  Dc_R_Bl_Road  26.172690  -98.344115         4080\n",
       "6822  Dc_R_Bl_Road  26.172690  -98.344115         4080\n",
       "6823      Laredo4a  27.567940  -99.505920         3782"
      ]
     },
     "execution_count": 17,
     "metadata": {},
     "output_type": "execute_result"
    }
   ],
   "source": [
    "dict_latlons_unique = dict(zip(latlons_unique, \n",
    "                               range(len(latlons_unique))))\n",
    "\n",
    "dfout['latlonindex'] = latlons\n",
    "dfout['latlonindex'] = dfout['latlonindex'].apply(lambda x: dict_latlons_unique[x])\n",
    "dfout.tail()"
   ]
  },
  {
   "cell_type": "code",
   "execution_count": 18,
   "metadata": {
    "collapsed": true
   },
   "outputs": [],
   "source": [
    "dfout.loc[:,'node'] = dfout.loc[:,'node'].apply(lambda x: str(x).upper())"
   ]
  },
  {
   "cell_type": "code",
   "execution_count": 21,
   "metadata": {
    "collapsed": true
   },
   "outputs": [],
   "source": [
    "dfout.to_csv('io/ercot-node-latlon.csv', index=False)"
   ]
  },
  {
   "cell_type": "markdown",
   "metadata": {},
   "source": [
    "### Save unique lat,lons for NSRDB"
   ]
  },
  {
   "cell_type": "code",
   "execution_count": 22,
   "metadata": {
    "scrolled": true
   },
   "outputs": [
    {
     "data": {
      "text/html": [
       "<div>\n",
       "<style>\n",
       "    .dataframe thead tr:only-child th {\n",
       "        text-align: right;\n",
       "    }\n",
       "\n",
       "    .dataframe thead th {\n",
       "        text-align: left;\n",
       "    }\n",
       "\n",
       "    .dataframe tbody tr th {\n",
       "        vertical-align: top;\n",
       "    }\n",
       "</style>\n",
       "<table border=\"1\" class=\"dataframe\">\n",
       "  <thead>\n",
       "    <tr style=\"text-align: right;\">\n",
       "      <th></th>\n",
       "      <th>latlonindex</th>\n",
       "      <th>latitude</th>\n",
       "      <th>longitude</th>\n",
       "    </tr>\n",
       "  </thead>\n",
       "  <tbody>\n",
       "    <tr>\n",
       "      <th>6747</th>\n",
       "      <td>4076</td>\n",
       "      <td>26.114750</td>\n",
       "      <td>-97.555845</td>\n",
       "    </tr>\n",
       "    <tr>\n",
       "      <th>6754</th>\n",
       "      <td>4077</td>\n",
       "      <td>27.791710</td>\n",
       "      <td>-97.451475</td>\n",
       "    </tr>\n",
       "    <tr>\n",
       "      <th>6755</th>\n",
       "      <td>4078</td>\n",
       "      <td>26.144340</td>\n",
       "      <td>-97.555845</td>\n",
       "    </tr>\n",
       "    <tr>\n",
       "      <th>6820</th>\n",
       "      <td>4079</td>\n",
       "      <td>28.677335</td>\n",
       "      <td>-100.570200</td>\n",
       "    </tr>\n",
       "    <tr>\n",
       "      <th>6821</th>\n",
       "      <td>4080</td>\n",
       "      <td>26.172690</td>\n",
       "      <td>-98.344115</td>\n",
       "    </tr>\n",
       "  </tbody>\n",
       "</table>\n",
       "</div>"
      ],
      "text/plain": [
       "      latlonindex   latitude   longitude\n",
       "6747         4076  26.114750  -97.555845\n",
       "6754         4077  27.791710  -97.451475\n",
       "6755         4078  26.144340  -97.555845\n",
       "6820         4079  28.677335 -100.570200\n",
       "6821         4080  26.172690  -98.344115"
      ]
     },
     "execution_count": 22,
     "metadata": {},
     "output_type": "execute_result"
    }
   ],
   "source": [
    "dfsunpoints = dfout[['latlonindex', 'latitude', 'longitude']].copy()\n",
    "dfsunpoints = dfsunpoints.drop_duplicates()\n",
    "dfsunpoints.tail()"
   ]
  },
  {
   "cell_type": "code",
   "execution_count": 23,
   "metadata": {
    "collapsed": true
   },
   "outputs": [],
   "source": [
    "dfsunpoints.to_csv('io/ercot-node-latlon-unique.csv', index=False)"
   ]
  },
  {
   "cell_type": "markdown",
   "metadata": {},
   "source": [
    "# Cruft"
   ]
  },
  {
   "cell_type": "markdown",
   "metadata": {},
   "source": [
    "## latlonify coordinates string"
   ]
  },
  {
   "cell_type": "code",
   "execution_count": 66,
   "metadata": {},
   "outputs": [
    {
     "data": {
      "text/plain": [
       "['-96.03424,30.66508,4500',\n",
       " '-96.02325,30.66508,4500',\n",
       " '-96.02325,30.65563,4500',\n",
       " '-96.03424,30.65563,4500',\n",
       " '-96.03424,30.66508,4500']"
      ]
     },
     "execution_count": 66,
     "metadata": {},
     "output_type": "execute_result"
    }
   ],
   "source": [
    "foo = coordinates[0].split(' ')\n",
    "foo"
   ]
  },
  {
   "cell_type": "code",
   "execution_count": 67,
   "metadata": {},
   "outputs": [
    {
     "data": {
      "text/plain": [
       "['-96.03424', '30.66508', '4500']"
      ]
     },
     "execution_count": 67,
     "metadata": {},
     "output_type": "execute_result"
    }
   ],
   "source": [
    "foo[0].split(',')"
   ]
  },
  {
   "cell_type": "code",
   "execution_count": 74,
   "metadata": {},
   "outputs": [
    {
     "data": {
      "text/plain": [
       "30.66508"
      ]
     },
     "execution_count": 74,
     "metadata": {},
     "output_type": "execute_result"
    }
   ],
   "source": [
    "foo[0].split(',')[0]\n",
    "float(foo[1].split(',')[1])"
   ]
  },
  {
   "cell_type": "code",
   "execution_count": 76,
   "metadata": {},
   "outputs": [
    {
     "name": "stdout",
     "output_type": "stream",
     "text": [
      "-96.028745\n",
      "30.660355\n"
     ]
    }
   ],
   "source": [
    "longitude = (float(foo[0].split(',')[0]) \n",
    "             + float(foo[1].split(',')[0]))/2\n",
    "latitude = (float(foo[1].split(',')[1]) \n",
    "             + float(foo[2].split(',')[1]))/2\n",
    "print(longitude)\n",
    "print(latitude)"
   ]
  },
  {
   "cell_type": "code",
   "execution_count": 77,
   "metadata": {
    "collapsed": true
   },
   "outputs": [],
   "source": [
    "bar = []\n",
    "for line in foo:\n",
    "    if line not in bar:\n",
    "        bar.append(line)"
   ]
  },
  {
   "cell_type": "code",
   "execution_count": 80,
   "metadata": {},
   "outputs": [
    {
     "name": "stdout",
     "output_type": "stream",
     "text": [
      "-96.028745\n",
      "30.660355\n"
     ]
    }
   ],
   "source": [
    "latitude = 0\n",
    "longitude = 0\n",
    "for line in bar:\n",
    "    longitude += float(line.split(',')[0])\n",
    "    latitude += float(line.split(',')[1])\n",
    "latitude = latitude / 4\n",
    "longitude = longitude / 4\n",
    "\n",
    "print(longitude)\n",
    "print(latitude)"
   ]
  },
  {
   "cell_type": "code",
   "execution_count": 84,
   "metadata": {},
   "outputs": [
    {
     "data": {
      "text/plain": [
       "(30.660355, -96.028745)"
      ]
     },
     "execution_count": 84,
     "metadata": {},
     "output_type": "execute_result"
    }
   ],
   "source": [
    "latlonify(coordinates[0])"
   ]
  },
  {
   "cell_type": "code",
   "execution_count": 119,
   "metadata": {
    "collapsed": true
   },
   "outputs": [],
   "source": [
    "filein = 'in/IMRE/rpt.00011205.0000000000000000.201705\\\n",
    "30.140432154.JUL2017MonthlyCRRNetworkModel/2017.JU\\\n",
    "L.Monthly.Auction.OneLineDiagram.kml'\n",
    "tree = ET.parse(filein)\n",
    "root = tree.getroot()"
   ]
  },
  {
   "cell_type": "code",
   "execution_count": 93,
   "metadata": {},
   "outputs": [
    {
     "name": "stdout",
     "output_type": "stream",
     "text": [
      "{http://www.opengis.net/kml/2.2}name Buses\n",
      "{http://www.opengis.net/kml/2.2}open 0\n",
      "{http://www.opengis.net/kml/2.2}Folder \n",
      "        \n",
      "{http://www.opengis.net/kml/2.2}Folder \n",
      "        \n",
      "{http://www.opengis.net/kml/2.2}Folder \n",
      "        \n",
      "{http://www.opengis.net/kml/2.2}Folder \n",
      "        \n",
      "{http://www.opengis.net/kml/2.2}Folder \n",
      "        \n",
      "{http://www.opengis.net/kml/2.2}Folder \n",
      "        \n",
      "{http://www.opengis.net/kml/2.2}Folder \n",
      "        \n",
      "{http://www.opengis.net/kml/2.2}Folder \n",
      "        \n"
     ]
    }
   ],
   "source": [
    "for child in root[0][6]:\n",
    "    print(child.tag, child.text)"
   ]
  },
  {
   "cell_type": "code",
   "execution_count": 98,
   "metadata": {
    "collapsed": true
   },
   "outputs": [],
   "source": [
    "buses = root[0][6]"
   ]
  },
  {
   "cell_type": "code",
   "execution_count": 19,
   "metadata": {},
   "outputs": [
    {
     "name": "stdout",
     "output_type": "stream",
     "text": [
      "{http://www.opengis.net/kml/2.2}name Zone Wz_East\n",
      "{http://www.opengis.net/kml/2.2}Folder \n",
      "          \n",
      "{http://www.opengis.net/kml/2.2}Folder \n",
      "          \n",
      "{http://www.opengis.net/kml/2.2}Folder \n",
      "          \n"
     ]
    }
   ],
   "source": [
    "for child in root[0][6][2]:\n",
    "    print(child.tag, child.text)"
   ]
  },
  {
   "cell_type": "code",
   "execution_count": 29,
   "metadata": {},
   "outputs": [
    {
     "data": {
      "text/plain": [
       "['Zone Wz_East',\n",
       " 'Zone Wz_North_Central',\n",
       " 'Zone Wz_South_Central',\n",
       " 'Zone Wz_West',\n",
       " 'Zone Wz_North',\n",
       " 'Zone Wz_Far_West',\n",
       " 'Zone Wz_Coast',\n",
       " 'Zone Wz_Southern']"
      ]
     },
     "execution_count": 29,
     "metadata": {},
     "output_type": "execute_result"
    }
   ],
   "source": [
    "zones = []\n",
    "for i in range(2,10):\n",
    "    zones.append(root[0][6][i][0].text)\n",
    "zones"
   ]
  },
  {
   "cell_type": "code",
   "execution_count": 37,
   "metadata": {},
   "outputs": [
    {
     "name": "stdout",
     "output_type": "stream",
     "text": [
      "{http://www.opengis.net/kml/2.2}name Gen Buses\n",
      "{http://www.opengis.net/kml/2.2}Folder \n",
      "            \n",
      "{http://www.opengis.net/kml/2.2}Folder \n",
      "            \n"
     ]
    }
   ],
   "source": [
    "izone = 0\n",
    "for child in root[0][6][2+izone][3]:\n",
    "    print(child.tag, child.text)"
   ]
  },
  {
   "cell_type": "code",
   "execution_count": 40,
   "metadata": {},
   "outputs": [
    {
     "name": "stdout",
     "output_type": "stream",
     "text": [
      "{http://www.opengis.net/kml/2.2}name 345 KV buses\n",
      "{http://www.opengis.net/kml/2.2}Placemark \n",
      "              \n",
      "{http://www.opengis.net/kml/2.2}Placemark \n",
      "              \n"
     ]
    }
   ],
   "source": [
    "izone = 0\n",
    "for child in root[0][6][2+izone][3][1]:\n",
    "    print(child.tag, child.text)"
   ]
  },
  {
   "cell_type": "code",
   "execution_count": 87,
   "metadata": {},
   "outputs": [
    {
     "name": "stdout",
     "output_type": "stream",
     "text": [
      "{http://www.opengis.net/kml/2.2}name\n",
      "{http://www.opengis.net/kml/2.2}styleUrl\n",
      "{http://www.opengis.net/kml/2.2}description\n",
      "{http://www.opengis.net/kml/2.2}Polygon\n"
     ]
    }
   ],
   "source": [
    "izone = 0\n",
    "for child in root[0][6][2+izone][3][1][1]:\n",
    "    print(child.tag)\n",
    "#     print(child.text)"
   ]
  },
  {
   "cell_type": "code",
   "execution_count": 88,
   "metadata": {},
   "outputs": [
    {
     "name": "stdout",
     "output_type": "stream",
     "text": [
      "{http://www.opengis.net/kml/2.2}coordinates\n",
      "-96.03424,30.66508,4500 -96.02325,30.66508,4500 -96.02325,30.65563,4500 -96.03424,30.65563,4500 -96.03424,30.66508,4500\n"
     ]
    }
   ],
   "source": [
    "izone = 0\n",
    "for child in root[0][6][2+izone][3][1][1][3][2][0]:\n",
    "    print(child.tag)\n",
    "    print(child.text)"
   ]
  },
  {
   "cell_type": "code",
   "execution_count": 59,
   "metadata": {},
   "outputs": [
    {
     "name": "stdout",
     "output_type": "stream",
     "text": [
      "39\n"
     ]
    }
   ],
   "source": [
    "coordinates = []\n",
    "for node in root[0][6][2+izone][3].iter(\n",
    "    tag='{http://www.opengis.net/kml/2.2}coordinates'):\n",
    "    coordinates.append(node.text)\n",
    "\n",
    "print(len(coordinates))"
   ]
  },
  {
   "cell_type": "code",
   "execution_count": 60,
   "metadata": {},
   "outputs": [
    {
     "name": "stdout",
     "output_type": "stream",
     "text": [
      "42\n"
     ]
    }
   ],
   "source": [
    "names = []\n",
    "for node in root[0][6][2+izone][3].iter(\n",
    "    tag='{http://www.opengis.net/kml/2.2}name'):\n",
    "    names.append(node.text)\n",
    "\n",
    "print(len(names))"
   ]
  },
  {
   "cell_type": "code",
   "execution_count": 85,
   "metadata": {},
   "outputs": [
    {
     "data": {
      "text/plain": [
       "['Gen Buses',\n",
       " '345 KV buses',\n",
       " 'Gibn_Crek_5',\n",
       " 'Wlsh_Wlshg1',\n",
       " 'Other KV buses',\n",
       " 'Atk_Atkinsg7',\n",
       " 'Bbses_Unit1',\n",
       " 'Bbses_Unit2',\n",
       " 'Mnses_Unit1',\n",
       " 'Mnses_Unit2']"
      ]
     },
     "execution_count": 85,
     "metadata": {},
     "output_type": "execute_result"
    }
   ],
   "source": [
    "names[:10]"
   ]
  },
  {
   "cell_type": "code",
   "execution_count": 89,
   "metadata": {},
   "outputs": [
    {
     "name": "stdout",
     "output_type": "stream",
     "text": [
      "13610\n"
     ]
    }
   ],
   "source": [
    "names = []\n",
    "for node in tree.iter(\n",
    "    tag='{http://www.opengis.net/kml/2.2}name'):\n",
    "    names.append(node.text)\n",
    "\n",
    "print(len(names))"
   ]
  },
  {
   "cell_type": "code",
   "execution_count": 99,
   "metadata": {},
   "outputs": [
    {
     "name": "stdout",
     "output_type": "stream",
     "text": [
      "6926\n"
     ]
    }
   ],
   "source": [
    "names = []\n",
    "for node in buses.iter(\n",
    "    tag='{http://www.opengis.net/kml/2.2}name'):\n",
    "    names.append(node.text)\n",
    "\n",
    "print(len(names))"
   ]
  },
  {
   "cell_type": "code",
   "execution_count": 112,
   "metadata": {},
   "outputs": [
    {
     "name": "stdout",
     "output_type": "stream",
     "text": [
      "6824\n"
     ]
    }
   ],
   "source": [
    "coordinates = []\n",
    "for node in buses.iter(\n",
    "    tag='{http://www.opengis.net/kml/2.2}coordinates'):\n",
    "    coordinates.append(node.text)\n",
    "\n",
    "print(len(coordinates))"
   ]
  },
  {
   "cell_type": "code",
   "execution_count": 108,
   "metadata": {},
   "outputs": [
    {
     "name": "stdout",
     "output_type": "stream",
     "text": [
      "102\n"
     ]
    }
   ],
   "source": [
    "foo = []\n",
    "for text in names:\n",
    "    if text.find(' ') != -1 or text == 'Buses':\n",
    "        foo.append(text)\n",
    "print(len(foo))"
   ]
  },
  {
   "cell_type": "code",
   "execution_count": 117,
   "metadata": {},
   "outputs": [
    {
     "name": "stdout",
     "output_type": "stream",
     "text": [
      "6824\n"
     ]
    }
   ],
   "source": [
    "busnames = []\n",
    "for text in names:\n",
    "    if text.find(' ') == -1 and text != 'Buses':\n",
    "        busnames.append(text)\n",
    "print(len(busnames))"
   ]
  },
  {
   "cell_type": "code",
   "execution_count": null,
   "metadata": {
    "collapsed": true
   },
   "outputs": [],
   "source": [
    "names = []\n",
    "for node in buses.iter(tag='{http://www.opengis.net/kml/2.2}name'):\n",
    "    if node.text.find(' ') == -1 and node.text != 'Buses':\n",
    "        names.append(node.text)\n",
    "    names.append(node.text)\n",
    "\n",
    "busnames = []\n",
    "for text in names:\n",
    "    if text.find(' ') == -1 and text != 'Buses':\n",
    "        busnames.append(text)"
   ]
  }
 ],
 "metadata": {
  "kernelspec": {
   "display_name": "Python [default]",
   "language": "python",
   "name": "python3"
  },
  "language_info": {
   "codemirror_mode": {
    "name": "ipython",
    "version": 3
   },
   "file_extension": ".py",
   "mimetype": "text/x-python",
   "name": "python",
   "nbconvert_exporter": "python",
   "pygments_lexer": "ipython3",
   "version": "3.6.2"
  }
 },
 "nbformat": 4,
 "nbformat_minor": 2
}
