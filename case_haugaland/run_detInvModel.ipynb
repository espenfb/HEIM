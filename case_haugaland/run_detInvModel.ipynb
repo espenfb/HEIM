{
 "cells": [
  {
   "cell_type": "code",
   "execution_count": 9,
   "metadata": {},
   "outputs": [],
   "source": [
    "# Created on Thu Dec 20 13:23:15 2018\n",
    "#\n",
    "# @author: espenfb"
   ]
  },
  {
   "cell_type": "code",
   "execution_count": 10,
   "metadata": {},
   "outputs": [],
   "source": [
    "import os\n",
    "import sys\n",
    "from pathlib import Path\n",
    "\n",
    "filepath = os.path.abspath('../')\n",
    "sys.path.append(str(Path(filepath) / \"src\"))\n",
    "\n",
    "import detInvModel as dim\n",
    "import pandas as pd\n",
    "pd.set_option(\"plotting.backend\",\"plotly\")\n",
    "import savedRes as sr"
   ]
  },
  {
   "cell_type": "code",
   "execution_count": 11,
   "metadata": {},
   "outputs": [],
   "source": [
    "time_data = {\n",
    "    'start_date': pd.Timestamp(year=2019, month=1, day=1),\n",
    "    'end_date': pd.Timestamp(year=2020, month=1, day=1),\n",
    "    'ref_date': pd.Timestamp(year=2019, month=1, day=1)}\n",
    "dirs = {\n",
    "    'data_dir': \"data\\\\\",\n",
    "    'ctrl_data_file': 'ctrl_data.csv',\n",
    "    'res_dir': 'results_test\\\\'}"
   ]
  },
  {
   "cell_type": "code",
   "execution_count": 12,
   "metadata": {},
   "outputs": [
    {
     "name": "stdout",
     "output_type": "stream",
     "text": [
      "0 load Series/load_series.csv\n",
      "data\\Series/load_series.csv\n",
      "1 wind Series/pot_wind_profiles.csv\n",
      "data\\Series/pot_wind_profiles.csv\n",
      "2 inst_wind Series/inst_wind_profiles.csv\n",
      "data\\Series/inst_wind_profiles.csv\n",
      "4 solar Series/solar_profiles.csv\n",
      "data\\Series/solar_profiles.csv\n",
      "5 offshore_wind Series/offshore_wind_series.csv\n",
      "data\\Series/offshore_wind_series.csv\n",
      "6 inflow Series/inflow.csv\n",
      "data\\Series/inflow.csv\n",
      "7 inflow_ureg Series/inflow_ureg.csv\n",
      "data\\Series/inflow_ureg.csv\n",
      "8 import_price Series/import_price_utc.csv\n",
      "data\\Series/import_price_utc.csv\n",
      "9 export_price Series/export_price_utc.csv\n",
      "data\\Series/export_price_utc.csv\n"
     ]
    }
   ],
   "source": [
    "obj = dim.deterministicModel(time_data, dirs)"
   ]
  },
  {
   "cell_type": "code",
   "execution_count": 13,
   "metadata": {},
   "outputs": [
    {
     "name": "stdout",
     "output_type": "stream",
     "text": [
      "Building deterministic investment model...\n",
      "{'Biomass': [], 'CC Gas': [], 'CT Gas': [], 'CCS Gas': [], 'CT H2': [], 'CC H2': [], 'Coal': [], 'CCS Coal': [], 'Nuclear': [], 'PEMFC': ['PEMFC01', 'PEMFC02', 'PEMFC03', 'PEMFC04', 'PEMFC05', 'PEMFC06', 'PEMFC07', 'PEMFC08', 'PEMFC13'], 'PEMEL': ['PEMEL01', 'PEMEL02', 'PEMEL03', 'PEMEL04', 'PEMEL05', 'PEMEL06', 'PEMEL07', 'PEMEL08', 'PEMEL13'], 'SMR': [], 'SMR CCS': []}\n",
      "Creating LP problem instance...\n"
     ]
    }
   ],
   "source": [
    "obj.buildModel()"
   ]
  },
  {
   "cell_type": "code",
   "execution_count": 14,
   "metadata": {},
   "outputs": [
    {
     "name": "stdout",
     "output_type": "stream",
     "text": [
      "{'Biomass': [], 'CC Gas': [], 'CT Gas': [], 'CCS Gas': [], 'CT H2': [], 'CC H2': [], 'Coal': [], 'CCS Coal': [], 'Nuclear': [], 'PEMFC': ['PEMFC01', 'PEMFC02', 'PEMFC03', 'PEMFC04', 'PEMFC05', 'PEMFC06', 'PEMFC07', 'PEMFC08', 'PEMFC13'], 'PEMEL': ['PEMEL01', 'PEMEL02', 'PEMEL03', 'PEMEL04', 'PEMEL05', 'PEMEL06', 'PEMEL07', 'PEMEL08', 'PEMEL13'], 'SMR': [], 'SMR CCS': []}\n"
     ]
    }
   ],
   "source": [
    "import detInvData as did\n",
    "import copy\n",
    "import numpy as np\n",
    "obj.detDataInstance = did.detData(obj)\n",
    "di = obj.detDataInstance[\"detData\"]"
   ]
  },
  {
   "cell_type": "code",
   "execution_count": 15,
   "metadata": {},
   "outputs": [],
   "source": [
    "solar_series = copy.copy(obj.data.solar_series)\n",
    "solar_series = solar_series[solar_series.index.isin(obj.time)]\n",
    "solar_series.index = pd.Index(np.arange(len(solar_series.index)))\n",
    "solar_series.rename(columns={str(i): obj.type2prefix['Solar'] + '%.2d' % int(i)\n",
    "                             for i in obj.plant_buses_type[\"Solar\"]},\n",
    "                    level=0, inplace=True)\n",
    "solar_series[solar_series < 0] = 0.0\n",
    "include_plants = di[\"SOLAR_POWER_PLANTS\"][None]\n",
    "solar_series = solar_series[include_plants]\n",
    "di['Renewable_profile'] = solar_series.round(4).stack(level=0).to_dict()\n"
   ]
  },
  {
   "cell_type": "code",
   "execution_count": 16,
   "metadata": {},
   "outputs": [
    {
     "data": {
      "text/plain": [
       "<pyomo.core.base.PyomoModel.ConcreteModel at 0x1619641b810>"
      ]
     },
     "execution_count": 16,
     "metadata": {},
     "output_type": "execute_result"
    }
   ],
   "source": [
    "obj.instance"
   ]
  },
  {
   "cell_type": "code",
   "execution_count": 17,
   "metadata": {},
   "outputs": [
    {
     "name": "stdout",
     "output_type": "stream",
     "text": [
      "Solving deterministic operation model...\n"
     ]
    }
   ],
   "source": [
    "obj.solve()"
   ]
  },
  {
   "cell_type": "code",
   "execution_count": 18,
   "metadata": {},
   "outputs": [
    {
     "name": "stdout",
     "output_type": "stream",
     "text": [
      "Prosessing results from deteministic model...\n",
      "WARNING: DEPRECATED: The itervalues method is deprecated. Use dict.values().\n",
      "    (deprecated in 6.0) (called from\n",
      "    c:\\Users\\espenb\\Models\\HEIM\\src\\detInvModel.py:111)\n",
      "WARNING: DEPRECATED: The iterkeys method is deprecated. Use dict.keys().\n",
      "    (deprecated in 6.0) (called from\n",
      "    c:\\Users\\espenb\\Models\\HEIM\\src\\detInvModel.py:111)\n",
      "WARNING: DEPRECATED: The iteritems method is deprecated. Use dict.items().\n",
      "    (deprecated in 6.0) (called from\n",
      "    c:\\Users\\espenb\\Models\\HEIM\\src\\detInvModel.py:111)\n"
     ]
    }
   ],
   "source": [
    "obj.processResults()"
   ]
  },
  {
   "cell_type": "code",
   "execution_count": 19,
   "metadata": {},
   "outputs": [],
   "source": [
    "obj.saveRes(dirs['res_dir'])"
   ]
  },
  {
   "cell_type": "code",
   "execution_count": null,
   "metadata": {},
   "outputs": [],
   "source": [
    "res = sr.savedRes(dirs['res_dir'], data=obj.data)"
   ]
  },
  {
   "cell_type": "code",
   "execution_count": null,
   "metadata": {},
   "outputs": [],
   "source": []
  }
 ],
 "metadata": {
  "kernelspec": {
   "display_name": "Python 3.8.12 ('base')",
   "language": "python",
   "name": "python3"
  },
  "language_info": {
   "codemirror_mode": {
    "name": "ipython",
    "version": 3
   },
   "file_extension": ".py",
   "mimetype": "text/x-python",
   "name": "python",
   "nbconvert_exporter": "python",
   "pygments_lexer": "ipython3",
   "version": "3.9.13"
  },
  "orig_nbformat": 4,
  "vscode": {
   "interpreter": {
    "hash": "c0bb8a14f1bf14d0345db42068532a569fc401a1dab9ba1a49ee7333fbaa6fa7"
   }
  }
 },
 "nbformat": 4,
 "nbformat_minor": 2
}
