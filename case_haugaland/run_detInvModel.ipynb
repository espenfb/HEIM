{
 "cells": [
  {
   "cell_type": "code",
   "execution_count": 1,
   "metadata": {},
   "outputs": [],
   "source": [
    "# Created on Thu Dec 20 13:23:15 2018\n",
    "#\n",
    "# @author: espenfb"
   ]
  },
  {
   "cell_type": "code",
   "execution_count": 2,
   "metadata": {},
   "outputs": [],
   "source": [
    "import os\n",
    "import sys\n",
    "from pathlib import Path\n",
    "\n",
    "filepath = os.path.abspath('../')\n",
    "sys.path.append(str(Path(filepath) / \"src\"))\n",
    "\n",
    "import detInvModel as dim\n",
    "import pandas as pd\n",
    "pd.set_option(\"plotting.backend\",\"plotly\")\n",
    "import savedRes as sr"
   ]
  },
  {
   "cell_type": "code",
   "execution_count": 3,
   "metadata": {},
   "outputs": [],
   "source": [
    "time_data = {\n",
    "    'start_date': pd.Timestamp(year=2019, month=1, day=1),\n",
    "    'end_date': pd.Timestamp(year=2020, month=1, day=1),\n",
    "    'ref_date': pd.Timestamp(year=2019, month=1, day=1)}\n",
    "dirs = {\n",
    "    'data_dir': \"data\\\\\",\n",
    "    'ctrl_data_file': 'ctrl_data.csv',\n",
    "    'res_dir': 'results\\\\'}"
   ]
  },
  {
   "cell_type": "code",
   "execution_count": 4,
   "metadata": {},
   "outputs": [
    {
     "name": "stdout",
     "output_type": "stream",
     "text": [
      "0 load Series/load_series.csv\n",
      "data\\Series/load_series.csv\n",
      "1 wind Series/pot_wind_profiles.csv\n",
      "data\\Series/pot_wind_profiles.csv\n",
      "2 inst_wind Series/inst_wind_profiles.csv\n",
      "data\\Series/inst_wind_profiles.csv\n",
      "4 solar Series/solar_profiles.csv\n",
      "data\\Series/solar_profiles.csv\n",
      "5 offshore_wind Series/offshore_wind_series.csv\n",
      "data\\Series/offshore_wind_series.csv\n",
      "6 inflow Series/inflow.csv\n",
      "data\\Series/inflow.csv\n",
      "7 inflow_ureg Series/inflow_ureg.csv\n",
      "data\\Series/inflow_ureg.csv\n",
      "8 import_price Series/import_price_utc.csv\n",
      "data\\Series/import_price_utc.csv\n",
      "9 export_price Series/export_price_utc.csv\n",
      "data\\Series/export_price_utc.csv\n"
     ]
    }
   ],
   "source": [
    "obj = dim.deterministicModel(time_data, dirs)"
   ]
  },
  {
   "cell_type": "code",
   "execution_count": 5,
   "metadata": {},
   "outputs": [],
   "source": [
    "k = \"Solar\"\n",
    "installed = obj.data.installed\n",
    "renewable_pot = obj.data.renewable_pot\n",
    "plant_buses_type = {}\n",
    "exist = installed[k].notna()\n",
    "potential = renewable_pot[k].notna()\n",
    "to_include = pd.concat([exist, potential], axis=1).any(axis=1)\n",
    "plant_buses_type[k] = installed[\"Bus\"][to_include].values"
   ]
  },
  {
   "cell_type": "code",
   "execution_count": 6,
   "metadata": {},
   "outputs": [
    {
     "data": {
      "text/plain": [
       "{None: []}"
      ]
     },
     "execution_count": 6,
     "metadata": {},
     "output_type": "execute_result"
    }
   ],
   "source": [
    "{None: [obj.type2prefix[k] + '%.2d' %\n",
    "        i for i in plant_buses_type[k]]}\n"
   ]
  },
  {
   "cell_type": "code",
   "execution_count": 7,
   "metadata": {},
   "outputs": [
    {
     "name": "stdout",
     "output_type": "stream",
     "text": [
      "Building deterministic investment model...\n",
      "          SW01      SW02      SW03      SW08\n",
      "0     0.922649  0.437301  0.830003  1.084853\n",
      "1     0.693383  0.423109  0.624174  1.052711\n",
      "2     0.722901  0.420448  0.538350  0.948084\n",
      "3     0.726154  0.418674  0.300198  0.940747\n",
      "4     0.712058  0.404481  0.262673  0.824056\n",
      "...        ...       ...       ...       ...\n",
      "8755  0.126604  0.159220  0.498968  0.208010\n",
      "8756  0.146616  0.197983  0.565844  0.205355\n",
      "8757  0.143725  0.278613  0.542809  0.155495\n",
      "8758  0.238557  0.217586  0.800652  0.190263\n",
      "8759  0.214196  0.303893  0.932917  0.168834\n",
      "\n",
      "[8760 rows x 4 columns]\n",
      "          HP03        HP04        HP05         HP06        HP07        HP08\n",
      "0     1.072747  296.776253  200.208952   874.478922  369.560802  295.855709\n",
      "1     1.072747  296.776253  200.208952   874.478922  369.560802  295.855709\n",
      "2     1.072747  296.776253  200.208952   874.478922  369.560802  295.855709\n",
      "3     1.072747  296.776253  200.208952   874.478922  369.560802  295.855709\n",
      "4     1.072747  296.776253  200.208952   874.478922  369.560802  295.855709\n",
      "...        ...         ...         ...          ...         ...         ...\n",
      "8755  1.858890  514.263183  346.928341  1515.324457  640.386530  512.668036\n",
      "8756  1.858890  514.263183  346.928341  1515.324457  640.386530  512.668036\n",
      "8757  1.858890  514.263183  346.928341  1515.324457  640.386530  512.668036\n",
      "8758  1.858890  514.263183  346.928341  1515.324457  640.386530  512.668036\n",
      "8759  1.858890  514.263183  346.928341  1515.324457  640.386530  512.668036\n",
      "\n",
      "[8760 rows x 6 columns]\n",
      "Creating LP problem instance...\n",
      "ERROR: Rule failed when generating expression for Constraint storageBalance\n",
      "    with index (0, 'HS01'): KeyError: \"Index '(0, 'HS01')' is not valid for\n",
      "    indexed component 'Inflow'\"\n",
      "ERROR: Constructing component 'storageBalance' from data=None failed:\n",
      "        KeyError: \"Index '(0, 'HS01')' is not valid for indexed component\n",
      "        'Inflow'\"\n"
     ]
    },
    {
     "ename": "KeyError",
     "evalue": "\"Index '(0, 'HS01')' is not valid for indexed component 'Inflow'\"",
     "output_type": "error",
     "traceback": [
      "\u001b[1;31m---------------------------------------------------------------------------\u001b[0m",
      "\u001b[1;31mKeyError\u001b[0m                                  Traceback (most recent call last)",
      "\u001b[1;32mc:\\Users\\espenb\\Models\\HEIM\\case_haugaland\\run_detInvModel.ipynb Cell 7\u001b[0m in \u001b[0;36m<cell line: 1>\u001b[1;34m()\u001b[0m\n\u001b[1;32m----> <a href='vscode-notebook-cell:/c%3A/Users/espenb/Models/HEIM/case_haugaland/run_detInvModel.ipynb#W4sZmlsZQ%3D%3D?line=0'>1</a>\u001b[0m obj\u001b[39m.\u001b[39;49mbuildModel()\n",
      "File \u001b[1;32mc:\\Users\\espenb\\Models\\HEIM\\src\\detInvModel.py:61\u001b[0m, in \u001b[0;36mdeterministicModel.buildModel\u001b[1;34m(self)\u001b[0m\n\u001b[0;32m     59\u001b[0m \u001b[39mself\u001b[39m\u001b[39m.\u001b[39mdetDataInstance \u001b[39m=\u001b[39m did\u001b[39m.\u001b[39mdetData(\u001b[39mself\u001b[39m)\n\u001b[0;32m     60\u001b[0m \u001b[39mprint\u001b[39m(\u001b[39m'\u001b[39m\u001b[39mCreating LP problem instance...\u001b[39m\u001b[39m'\u001b[39m)\n\u001b[1;32m---> 61\u001b[0m \u001b[39mself\u001b[39m\u001b[39m.\u001b[39minstance \u001b[39m=\u001b[39m \u001b[39mself\u001b[39;49m\u001b[39m.\u001b[39;49mdetModel\u001b[39m.\u001b[39;49mcreate_instance(\n\u001b[0;32m     62\u001b[0m                         data\u001b[39m=\u001b[39;49m\u001b[39mself\u001b[39;49m\u001b[39m.\u001b[39;49mdetDataInstance,\n\u001b[0;32m     63\u001b[0m                         name\u001b[39m=\u001b[39;49m\u001b[39m\"\u001b[39;49m\u001b[39mDeterministic operation model\u001b[39;49m\u001b[39m\"\u001b[39;49m,\n\u001b[0;32m     64\u001b[0m                         namespace\u001b[39m=\u001b[39;49m\u001b[39m'\u001b[39;49m\u001b[39mdetData\u001b[39;49m\u001b[39m'\u001b[39;49m)\n\u001b[0;32m     66\u001b[0m \u001b[39m# Enable access to duals\u001b[39;00m\n\u001b[0;32m     67\u001b[0m \u001b[39mself\u001b[39m\u001b[39m.\u001b[39minstance\u001b[39m.\u001b[39mdual \u001b[39m=\u001b[39m pe\u001b[39m.\u001b[39mSuffix(direction\u001b[39m=\u001b[39mpe\u001b[39m.\u001b[39mSuffix\u001b[39m.\u001b[39mIMPORT)\n",
      "File \u001b[1;32mc:\\Users\\espenb\\Miniconda3\\lib\\site-packages\\pyomo\\core\\base\\PyomoModel.py:697\u001b[0m, in \u001b[0;36mModel.create_instance\u001b[1;34m(self, filename, data, name, namespace, namespaces, profile_memory, report_timing, **kwds)\u001b[0m\n\u001b[0;32m    694\u001b[0m \u001b[39mif\u001b[39;00m \u001b[39mNone\u001b[39;00m \u001b[39mnot\u001b[39;00m \u001b[39min\u001b[39;00m _namespaces:\n\u001b[0;32m    695\u001b[0m     _namespaces\u001b[39m.\u001b[39mappend(\u001b[39mNone\u001b[39;00m)\n\u001b[1;32m--> 697\u001b[0m instance\u001b[39m.\u001b[39;49mload( data,\n\u001b[0;32m    698\u001b[0m                namespaces\u001b[39m=\u001b[39;49m_namespaces,\n\u001b[0;32m    699\u001b[0m                profile_memory\u001b[39m=\u001b[39;49mprofile_memory )\n\u001b[0;32m    701\u001b[0m \u001b[39m#\u001b[39;00m\n\u001b[0;32m    702\u001b[0m \u001b[39m# Indicate that the model is concrete/constructed\u001b[39;00m\n\u001b[0;32m    703\u001b[0m \u001b[39m#\u001b[39;00m\n\u001b[0;32m    704\u001b[0m instance\u001b[39m.\u001b[39m_constructed \u001b[39m=\u001b[39m \u001b[39mTrue\u001b[39;00m\n",
      "File \u001b[1;32mc:\\Users\\espenb\\Miniconda3\\lib\\site-packages\\pyomo\\core\\base\\PyomoModel.py:734\u001b[0m, in \u001b[0;36mModel.load\u001b[1;34m(self, arg, namespaces, profile_memory)\u001b[0m\n\u001b[0;32m    732\u001b[0m     msg \u001b[39m=\u001b[39m \u001b[39m\"\u001b[39m\u001b[39mCannot load model model data from with object of type \u001b[39m\u001b[39m'\u001b[39m\u001b[39m%s\u001b[39;00m\u001b[39m'\u001b[39m\u001b[39m\"\u001b[39m\n\u001b[0;32m    733\u001b[0m     \u001b[39mraise\u001b[39;00m \u001b[39mValueError\u001b[39;00m(msg \u001b[39m%\u001b[39m \u001b[39mstr\u001b[39m( \u001b[39mtype\u001b[39m(arg) ))\n\u001b[1;32m--> 734\u001b[0m \u001b[39mself\u001b[39;49m\u001b[39m.\u001b[39;49m_load_model_data(dp,\n\u001b[0;32m    735\u001b[0m                       namespaces,\n\u001b[0;32m    736\u001b[0m                       profile_memory\u001b[39m=\u001b[39;49mprofile_memory)\n",
      "File \u001b[1;32mc:\\Users\\espenb\\Miniconda3\\lib\\site-packages\\pyomo\\core\\base\\PyomoModel.py:787\u001b[0m, in \u001b[0;36mModel._load_model_data\u001b[1;34m(self, modeldata, namespaces, **kwds)\u001b[0m\n\u001b[0;32m    784\u001b[0m     \u001b[39mif\u001b[39;00m component\u001b[39m.\u001b[39mctype \u001b[39mis\u001b[39;00m Model:\n\u001b[0;32m    785\u001b[0m         \u001b[39mcontinue\u001b[39;00m\n\u001b[1;32m--> 787\u001b[0m     \u001b[39mself\u001b[39;49m\u001b[39m.\u001b[39;49m_initialize_component(modeldata, namespaces, component_name, profile_memory)\n\u001b[0;32m    789\u001b[0m \u001b[39m# Note: As is, connectors are expanded when using command-line pyomo but not calling model.create(...) in a Python script.\u001b[39;00m\n\u001b[0;32m    790\u001b[0m \u001b[39m# John says this has to do with extension points which are called from commandline but not when writing scripts.\u001b[39;00m\n\u001b[0;32m    791\u001b[0m \u001b[39m# Uncommenting the next two lines switches this (command-line fails because it tries to expand connectors twice)\u001b[39;00m\n\u001b[0;32m    792\u001b[0m \u001b[39m#connector_expander = ConnectorExpander()\u001b[39;00m\n\u001b[0;32m    793\u001b[0m \u001b[39m#connector_expander.apply(instance=self)\u001b[39;00m\n\u001b[0;32m    795\u001b[0m \u001b[39mif\u001b[39;00m profile_memory \u001b[39m>\u001b[39m\u001b[39m=\u001b[39m \u001b[39m2\u001b[39m \u001b[39mand\u001b[39;00m pympler_available:\n",
      "File \u001b[1;32mc:\\Users\\espenb\\Miniconda3\\lib\\site-packages\\pyomo\\core\\base\\PyomoModel.py:825\u001b[0m, in \u001b[0;36mModel._initialize_component\u001b[1;34m(self, modeldata, namespaces, component_name, profile_memory)\u001b[0m\n\u001b[0;32m    821\u001b[0m     logger\u001b[39m.\u001b[39mdebug( \u001b[39m\"\u001b[39m\u001b[39mConstructing \u001b[39m\u001b[39m%s\u001b[39;00m\u001b[39m \u001b[39m\u001b[39m'\u001b[39m\u001b[39m%s\u001b[39;00m\u001b[39m'\u001b[39m\u001b[39m on \u001b[39m\u001b[39m%s\u001b[39;00m\u001b[39m from data=\u001b[39m\u001b[39m%s\u001b[39;00m\u001b[39m\"\u001b[39m,\n\u001b[0;32m    822\u001b[0m                   declaration\u001b[39m.\u001b[39m\u001b[39m__class__\u001b[39m\u001b[39m.\u001b[39m\u001b[39m__name__\u001b[39m,\n\u001b[0;32m    823\u001b[0m                   declaration\u001b[39m.\u001b[39mname, _blockName, \u001b[39mstr\u001b[39m(data) )\n\u001b[0;32m    824\u001b[0m \u001b[39mtry\u001b[39;00m:\n\u001b[1;32m--> 825\u001b[0m     declaration\u001b[39m.\u001b[39;49mconstruct(data)\n\u001b[0;32m    826\u001b[0m \u001b[39mexcept\u001b[39;00m:\n\u001b[0;32m    827\u001b[0m     err \u001b[39m=\u001b[39m sys\u001b[39m.\u001b[39mexc_info()[\u001b[39m1\u001b[39m]\n",
      "File \u001b[1;32mc:\\Users\\espenb\\Miniconda3\\lib\\site-packages\\pyomo\\core\\base\\constraint.py:751\u001b[0m, in \u001b[0;36mConstraint.construct\u001b[1;34m(self, data)\u001b[0m\n\u001b[0;32m    748\u001b[0m     \u001b[39melse\u001b[39;00m:\n\u001b[0;32m    749\u001b[0m         \u001b[39m# Bypass the index validation and create the member directly\u001b[39;00m\n\u001b[0;32m    750\u001b[0m         \u001b[39mfor\u001b[39;00m index \u001b[39min\u001b[39;00m \u001b[39mself\u001b[39m\u001b[39m.\u001b[39mindex_set():\n\u001b[1;32m--> 751\u001b[0m             \u001b[39mself\u001b[39m\u001b[39m.\u001b[39m_setitem_when_not_present(index, rule(block, index))\n\u001b[0;32m    752\u001b[0m \u001b[39mexcept\u001b[39;00m \u001b[39mException\u001b[39;00m:\n\u001b[0;32m    753\u001b[0m     err \u001b[39m=\u001b[39m sys\u001b[39m.\u001b[39mexc_info()[\u001b[39m1\u001b[39m]\n",
      "File \u001b[1;32mc:\\Users\\espenb\\Miniconda3\\lib\\site-packages\\pyomo\\core\\base\\initializer.py:251\u001b[0m, in \u001b[0;36mIndexedCallInitializer.__call__\u001b[1;34m(self, parent, idx)\u001b[0m\n\u001b[0;32m    245\u001b[0m \u001b[39mdef\u001b[39;00m \u001b[39m__call__\u001b[39m(\u001b[39mself\u001b[39m, parent, idx):\n\u001b[0;32m    246\u001b[0m     \u001b[39m# Note: this is called by a component using data from a Set (so\u001b[39;00m\n\u001b[0;32m    247\u001b[0m     \u001b[39m# any tuple-like type should have already been checked and\u001b[39;00m\n\u001b[0;32m    248\u001b[0m     \u001b[39m# converted to a tuple; or flattening is turned off and it is\u001b[39;00m\n\u001b[0;32m    249\u001b[0m     \u001b[39m# the user's responsibility to sort things out.\u001b[39;00m\n\u001b[0;32m    250\u001b[0m     \u001b[39mif\u001b[39;00m idx\u001b[39m.\u001b[39m\u001b[39m__class__\u001b[39m \u001b[39mis\u001b[39;00m \u001b[39mtuple\u001b[39m:\n\u001b[1;32m--> 251\u001b[0m         \u001b[39mreturn\u001b[39;00m \u001b[39mself\u001b[39;49m\u001b[39m.\u001b[39;49m_fcn(parent, \u001b[39m*\u001b[39;49midx)\n\u001b[0;32m    252\u001b[0m     \u001b[39melse\u001b[39;00m:\n\u001b[0;32m    253\u001b[0m         \u001b[39mreturn\u001b[39;00m \u001b[39mself\u001b[39m\u001b[39m.\u001b[39m_fcn(parent, idx)\n",
      "File \u001b[1;32mc:\\Users\\espenb\\Models\\HEIM\\src\\detInvFormulation.py:265\u001b[0m, in \u001b[0;36mbuildDetModel.<locals>.storageBalance_rule\u001b[1;34m(m, t, i)\u001b[0m\n\u001b[0;32m    260\u001b[0m \u001b[39mdef\u001b[39;00m \u001b[39mstorageBalance_rule\u001b[39m(m, t, i):\n\u001b[0;32m    261\u001b[0m     \u001b[39mif\u001b[39;00m t \u001b[39m==\u001b[39m \u001b[39m0\u001b[39m:\n\u001b[0;32m    262\u001b[0m         \u001b[39mreturn\u001b[39;00m m\u001b[39m.\u001b[39mstorage[t, i] \u001b[39m==\u001b[39m \\\n\u001b[0;32m    263\u001b[0m             m\u001b[39m.\u001b[39mInitial_storage[i]\u001b[39m*\u001b[39m(m\u001b[39m.\u001b[39mInit_energy[i] \u001b[39m+\u001b[39m m\u001b[39m.\u001b[39mnew_energy[i]) \\\n\u001b[0;32m    264\u001b[0m             \u001b[39m+\u001b[39m m\u001b[39m.\u001b[39mEff_in[i]\u001b[39m*\u001b[39mm\u001b[39m.\u001b[39mto_storage[t, i] \\\n\u001b[1;32m--> 265\u001b[0m             \u001b[39m-\u001b[39m m\u001b[39m.\u001b[39mfrom_storage[t, i]\u001b[39m/\u001b[39mm\u001b[39m.\u001b[39mEff_out[i] \u001b[39m+\u001b[39m m\u001b[39m.\u001b[39;49mInflow[t, i] \\\n\u001b[0;32m    266\u001b[0m             \u001b[39m+\u001b[39m m\u001b[39m.\u001b[39mInflow_ureg[t, i] \u001b[39m-\u001b[39m m\u001b[39m.\u001b[39mspill[t, i]\n\u001b[0;32m    267\u001b[0m     \u001b[39melse\u001b[39;00m:\n\u001b[0;32m    268\u001b[0m         \u001b[39mreturn\u001b[39;00m m\u001b[39m.\u001b[39mstorage[t, i] \u001b[39m==\u001b[39m m\u001b[39m.\u001b[39mstorage[t\u001b[39m-\u001b[39m\u001b[39m1\u001b[39m, i] \\\n\u001b[0;32m    269\u001b[0m             \u001b[39m+\u001b[39m m\u001b[39m.\u001b[39mEff_in[i]\u001b[39m*\u001b[39mm\u001b[39m.\u001b[39mto_storage[t, i] \\\n\u001b[0;32m    270\u001b[0m             \u001b[39m-\u001b[39m m\u001b[39m.\u001b[39mfrom_storage[t, i]\u001b[39m/\u001b[39mm\u001b[39m.\u001b[39mEff_out[i] \\\n\u001b[0;32m    271\u001b[0m             \u001b[39m+\u001b[39m m\u001b[39m.\u001b[39mInflow[t, i] \u001b[39m+\u001b[39m m\u001b[39m.\u001b[39mInflow_ureg[t, i] \u001b[39m-\u001b[39m m\u001b[39m.\u001b[39mspill[t, i]\n",
      "File \u001b[1;32mc:\\Users\\espenb\\Miniconda3\\lib\\site-packages\\pyomo\\core\\base\\indexed_component.py:556\u001b[0m, in \u001b[0;36mIndexedComponent.__getitem__\u001b[1;34m(self, index)\u001b[0m\n\u001b[0;32m    554\u001b[0m \u001b[39mif\u001b[39;00m index\u001b[39m.\u001b[39m\u001b[39m__class__\u001b[39m \u001b[39mis\u001b[39;00m EXPR\u001b[39m.\u001b[39mGetItemExpression:\n\u001b[0;32m    555\u001b[0m     \u001b[39mreturn\u001b[39;00m index\n\u001b[1;32m--> 556\u001b[0m validated_index \u001b[39m=\u001b[39m \u001b[39mself\u001b[39;49m\u001b[39m.\u001b[39;49m_validate_index(index)\n\u001b[0;32m    557\u001b[0m \u001b[39mif\u001b[39;00m validated_index \u001b[39mis\u001b[39;00m \u001b[39mnot\u001b[39;00m index:\n\u001b[0;32m    558\u001b[0m     index \u001b[39m=\u001b[39m validated_index\n",
      "File \u001b[1;32mc:\\Users\\espenb\\Miniconda3\\lib\\site-packages\\pyomo\\core\\base\\indexed_component.py:781\u001b[0m, in \u001b[0;36mIndexedComponent._validate_index\u001b[1;34m(self, idx)\u001b[0m\n\u001b[0;32m    775\u001b[0m     \u001b[39mraise\u001b[39;00m \u001b[39mKeyError\u001b[39;00m(\n\u001b[0;32m    776\u001b[0m         \u001b[39m\"\u001b[39m\u001b[39mCannot treat the scalar component \u001b[39m\u001b[39m'\u001b[39m\u001b[39m%s\u001b[39;00m\u001b[39m'\u001b[39m\u001b[39m \u001b[39m\u001b[39m\"\u001b[39m\n\u001b[0;32m    777\u001b[0m         \u001b[39m\"\u001b[39m\u001b[39mas an indexed component\u001b[39m\u001b[39m\"\u001b[39m \u001b[39m%\u001b[39m ( \u001b[39mself\u001b[39m\u001b[39m.\u001b[39mname, ))\n\u001b[0;32m    778\u001b[0m \u001b[39m#\u001b[39;00m\n\u001b[0;32m    779\u001b[0m \u001b[39m# Raise an exception\u001b[39;00m\n\u001b[0;32m    780\u001b[0m \u001b[39m#\u001b[39;00m\n\u001b[1;32m--> 781\u001b[0m \u001b[39mraise\u001b[39;00m \u001b[39mKeyError\u001b[39;00m(\n\u001b[0;32m    782\u001b[0m     \u001b[39m\"\u001b[39m\u001b[39mIndex \u001b[39m\u001b[39m'\u001b[39m\u001b[39m%s\u001b[39;00m\u001b[39m'\u001b[39m\u001b[39m is not valid for indexed component \u001b[39m\u001b[39m'\u001b[39m\u001b[39m%s\u001b[39;00m\u001b[39m'\u001b[39m\u001b[39m\"\u001b[39m\n\u001b[0;32m    783\u001b[0m     \u001b[39m%\u001b[39m ( idx, \u001b[39mself\u001b[39m\u001b[39m.\u001b[39mname, ))\n",
      "\u001b[1;31mKeyError\u001b[0m: \"Index '(0, 'HS01')' is not valid for indexed component 'Inflow'\""
     ]
    }
   ],
   "source": [
    "obj.buildModel()"
   ]
  },
  {
   "cell_type": "code",
   "execution_count": null,
   "metadata": {},
   "outputs": [
    {
     "name": "stdout",
     "output_type": "stream",
     "text": [
      "Solving deterministic operation model...\n"
     ]
    }
   ],
   "source": [
    "obj.solve()"
   ]
  },
  {
   "cell_type": "code",
   "execution_count": null,
   "metadata": {},
   "outputs": [
    {
     "name": "stdout",
     "output_type": "stream",
     "text": [
      "Prosessing results from deteministic model...\n",
      "WARNING: DEPRECATED: The itervalues method is deprecated. Use dict.values().\n",
      "    (deprecated in 6.0) (called from\n",
      "    c:\\Users\\espenb\\Models\\HEIM\\src\\detInvModel.py:111)\n",
      "WARNING: DEPRECATED: The iterkeys method is deprecated. Use dict.keys().\n",
      "    (deprecated in 6.0) (called from\n",
      "    c:\\Users\\espenb\\Models\\HEIM\\src\\detInvModel.py:111)\n",
      "WARNING: DEPRECATED: The iteritems method is deprecated. Use dict.items().\n",
      "    (deprecated in 6.0) (called from\n",
      "    c:\\Users\\espenb\\Models\\HEIM\\src\\detInvModel.py:111)\n"
     ]
    }
   ],
   "source": [
    "obj.processResults()"
   ]
  },
  {
   "cell_type": "code",
   "execution_count": null,
   "metadata": {},
   "outputs": [],
   "source": [
    "obj.saveRes(dirs['res_dir'])"
   ]
  },
  {
   "cell_type": "code",
   "execution_count": null,
   "metadata": {},
   "outputs": [],
   "source": [
    "res = sr.savedRes(dirs['res_dir'], data=obj.data)"
   ]
  }
 ],
 "metadata": {
  "kernelspec": {
   "display_name": "Python 3.8.12 ('base')",
   "language": "python",
   "name": "python3"
  },
  "language_info": {
   "codemirror_mode": {
    "name": "ipython",
    "version": 3
   },
   "file_extension": ".py",
   "mimetype": "text/x-python",
   "name": "python",
   "nbconvert_exporter": "python",
   "pygments_lexer": "ipython3",
   "version": "3.9.12"
  },
  "orig_nbformat": 4,
  "vscode": {
   "interpreter": {
    "hash": "c0bb8a14f1bf14d0345db42068532a569fc401a1dab9ba1a49ee7333fbaa6fa7"
   }
  }
 },
 "nbformat": 4,
 "nbformat_minor": 2
}
