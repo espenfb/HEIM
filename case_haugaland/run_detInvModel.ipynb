{
 "cells": [
  {
   "cell_type": "code",
   "execution_count": 16,
   "metadata": {},
   "outputs": [],
   "source": [
    "# Created on Thu Dec 20 13:23:15 2018\n",
    "#\n",
    "# @author: espenfb"
   ]
  },
  {
   "cell_type": "code",
   "execution_count": 17,
   "metadata": {},
   "outputs": [],
   "source": [
    "import os\n",
    "import sys\n",
    "from pathlib import Path\n",
    "\n",
    "filepath = os.path.abspath('../')\n",
    "sys.path.append(str(Path(filepath) / \"src\"))\n",
    "\n",
    "import detInvModel as dim\n",
    "import pandas as pd\n",
    "pd.set_option(\"plotting.backend\",\"plotly\")\n",
    "import savedRes as sr"
   ]
  },
  {
   "cell_type": "code",
   "execution_count": 18,
   "metadata": {},
   "outputs": [],
   "source": [
    "time_data = {\n",
    "    'start_date': pd.Timestamp(year=2019, month=1, day=1),\n",
    "    'end_date': pd.Timestamp(year=2020, month=1, day=1),\n",
    "    'ref_date': pd.Timestamp(year=2019, month=1, day=1)}\n",
    "dirs = {\n",
    "    'data_dir': \"data\\\\\",\n",
    "    'ctrl_data_file': 'ctrl_data.csv',\n",
    "    'res_dir': 'results\\\\'}\n"
   ]
  },
  {
   "cell_type": "code",
   "execution_count": 19,
   "metadata": {},
   "outputs": [
    {
     "name": "stdout",
     "output_type": "stream",
     "text": [
      "0 load Series/load_series.csv\n",
      "data\\Series/load_series.csv\n",
      "1 wind Series/pot_wind_profiles.csv\n",
      "data\\Series/pot_wind_profiles.csv\n",
      "2 inst_wind Series/inst_wind_profiles.csv\n",
      "data\\Series/inst_wind_profiles.csv\n",
      "4 solar Series/solar_profiles.csv\n",
      "data\\Series/solar_profiles.csv\n",
      "5 offshore_wind Series/offshore_wind_series.csv\n",
      "data\\Series/offshore_wind_series.csv\n",
      "6 inflow_series Series/inflow_series.csv\n",
      "data\\Series/inflow_series.csv\n",
      "7 inflow_series_ureg Series/inflow_series_ureg.csv\n",
      "data\\Series/inflow_series_ureg.csv\n",
      "8 import_price Series/import_price_utc.csv\n",
      "data\\Series/import_price_utc.csv\n",
      "9 export_price Series/export_price_utc.csv\n",
      "data\\Series/export_price_utc.csv\n"
     ]
    }
   ],
   "source": [
    "obj = dim.deterministicModel(time_data, dirs)"
   ]
  },
  {
   "cell_type": "code",
   "execution_count": 20,
   "metadata": {},
   "outputs": [],
   "source": [
    "import copy\n",
    "di = {}\n",
    "# SET\n",
    "di['TIME'] = {None: list(obj.timerange)}\n",
    "di['LAST_TIME'] = {None: [list(obj.timerange)[-1]]}\n",
    "\n",
    "# Set node structure\n",
    "node_data = copy.copy(obj.data.bus)\n",
    "el_pf = 'EN'\n",
    "h2_pf = 'HN'\n",
    "market_pf = \"MN\"\n",
    "\n",
    "dual_buses = node_data[node_data.Type == \"Dual\"]\n",
    "\n",
    "di['EL_NODES'] = {None: [el_pf + '%.2d' %\n",
    "                            i for i in dual_buses.Bus.tolist()]}\n",
    "di['H2_NODES'] = {None: [h2_pf + '%.2d' %\n",
    "                            i for i in dual_buses.Bus.tolist()]}\n",
    "\n",
    "di['INTERNAL_NODES'] = {None: di['EL_NODES'][None] + di['H2_NODES'][None]}\n",
    "\n",
    "market_buses = node_data[node_data.Type == \"Market\"]\n",
    "market_buses_nr = market_buses.Bus.tolist()\n",
    "di['MARKET_NODES'] = {None: [market_pf + '%.2d' %\n",
    "                                i for i in market_buses.Bus.tolist()]}\n",
    "\n",
    "di['NODES'] = {None: di['INTERNAL_NODES'][None] + di['MARKET_NODES'][None]}\n"
   ]
  },
  {
   "cell_type": "code",
   "execution_count": 21,
   "metadata": {},
   "outputs": [],
   "source": [
    "def get_prefix(n, marked_buses, default=el_pf):\n",
    "    if n in marked_buses:\n",
    "        return market_pf\n",
    "    else:\n",
    "        return default\n",
    "\n",
    "# Set line structure\n",
    "line_data = copy.copy(obj.data.line)\n",
    "mb_str = ['%.2d' % i for i in market_buses_nr]\n",
    "branch_indx = []\n",
    "new_branch_indx = []\n",
    "pipe_indx = []\n",
    "for i in line_data.index:\n",
    "    from_bus = '%.2d' % line_data.From[i]\n",
    "    to_bus = '%.2d' % line_data.To[i]\n",
    "    if line_data.Type[i] == 'Existing':\n",
    "        from_typ = get_prefix(from_bus, mb_str)\n",
    "        to_typ = get_prefix(to_bus, mb_str)\n",
    "        branch_indx.append((i, from_typ + from_bus, to_typ + to_bus))\n",
    "    elif line_data.Type[i] == 'New':\n",
    "        from_typ = get_prefix(from_bus, mb_str)\n",
    "        to_typ = get_prefix(to_bus, mb_str)\n",
    "        new_branch_indx.append((i, from_typ + from_bus, to_typ + to_bus))\n",
    "    elif line_data.Type[i] == 'H2':\n",
    "        from_typ = get_prefix(from_bus, mb_str, default=h2_pf)\n",
    "        to_typ = get_prefix(to_bus, mb_str, default=h2_pf)\n",
    "        if (from_typ != market_pf) or (to_typ != market_pf):\n",
    "            pipe_indx.append((i, from_typ + from_bus, to_typ + to_bus))\n"
   ]
  },
  {
   "cell_type": "code",
   "execution_count": 22,
   "metadata": {},
   "outputs": [
    {
     "data": {
      "text/plain": [
       "[(0, 'EN01', 'EN02'),\n",
       " (1, 'EN01', 'EN03'),\n",
       " (2, 'EN03', 'EN04'),\n",
       " (3, 'EN01', 'EN05'),\n",
       " (4, 'EN04', 'EN05'),\n",
       " (5, 'EN05', 'EN06'),\n",
       " (6, 'EN06', 'EN07'),\n",
       " (7, 'EN04', 'MN09'),\n",
       " (8, 'EN06', 'MN10'),\n",
       " (9, 'EN06', 'EN08'),\n",
       " (10, 'EN08', 'MN11'),\n",
       " (11, 'EN05', 'MN12')]"
      ]
     },
     "execution_count": 22,
     "metadata": {},
     "output_type": "execute_result"
    }
   ],
   "source": [
    "branch_indx\n"
   ]
  },
  {
   "cell_type": "code",
   "execution_count": 23,
   "metadata": {},
   "outputs": [
    {
     "data": {
      "text/plain": [
       "[(12, 'EN01', 'EN02'),\n",
       " (13, 'EN01', 'EN03'),\n",
       " (14, 'EN03', 'EN04'),\n",
       " (15, 'EN01', 'EN05'),\n",
       " (16, 'EN04', 'EN05'),\n",
       " (17, 'EN05', 'EN06'),\n",
       " (18, 'EN06', 'EN07'),\n",
       " (19, 'EN04', 'MN09'),\n",
       " (20, 'EN06', 'MN10'),\n",
       " (21, 'EN06', 'EN08'),\n",
       " (22, 'EN08', 'MN11'),\n",
       " (23, 'EN01', 'EN13'),\n",
       " (24, 'EN05', 'MN12')]"
      ]
     },
     "execution_count": 23,
     "metadata": {},
     "output_type": "execute_result"
    }
   ],
   "source": [
    "new_branch_indx\n"
   ]
  },
  {
   "cell_type": "code",
   "execution_count": 24,
   "metadata": {},
   "outputs": [
    {
     "data": {
      "text/plain": [
       "[(25, 'HN01', 'HN02'),\n",
       " (26, 'HN01', 'HN03'),\n",
       " (27, 'HN03', 'HN04'),\n",
       " (28, 'HN01', 'HN05'),\n",
       " (29, 'HN04', 'HN05'),\n",
       " (30, 'HN05', 'HN06'),\n",
       " (31, 'HN06', 'HN07'),\n",
       " (32, 'HN06', 'HN08'),\n",
       " (33, 'HN01', 'HN13')]"
      ]
     },
     "execution_count": 24,
     "metadata": {},
     "output_type": "execute_result"
    }
   ],
   "source": [
    "pipe_indx\n"
   ]
  },
  {
   "cell_type": "code",
   "execution_count": 25,
   "metadata": {},
   "outputs": [
    {
     "data": {
      "text/plain": [
       "{None: ['MN09', 'MN10', 'MN11', 'MN12']}"
      ]
     },
     "execution_count": 25,
     "metadata": {},
     "output_type": "execute_result"
    }
   ],
   "source": [
    "di['MARKET_NODES']\n"
   ]
  },
  {
   "cell_type": "code",
   "execution_count": 26,
   "metadata": {},
   "outputs": [],
   "source": [
    "# Set line structure\n",
    "line_data = copy.copy(obj.data.line)\n",
    "branch_indx = []\n",
    "new_branch_indx = []\n",
    "pipe_indx = []\n",
    "for i in line_data.index:\n",
    "    from_bus = '%.2d' % line_data.From[i]\n",
    "    to_bus = '%.2d' % line_data.To[i]\n",
    "    if line_data.Type[i] == 'Existing':\n",
    "        n_typ = el_pf\n",
    "        branch_indx.append((i, n_typ + from_bus, n_typ + to_bus))\n",
    "    elif line_data.Type[i] == 'New':\n",
    "        n_typ = el_pf\n",
    "        new_branch_indx.append((i, n_typ + from_bus, n_typ + to_bus))\n",
    "    elif line_data.Type[i] == 'H2':\n",
    "        n_typ = h2_pf\n",
    "        pipe_indx.append((i, n_typ + from_bus, n_typ + to_bus))\n",
    "\n",
    "di['CURRENT_LINES'] = {None: branch_indx}\n",
    "di['NEW_LINES'] = {None: new_branch_indx}\n",
    "di['LINES'] = {None: di['CURRENT_LINES'][None] + di['NEW_LINES'][None]}\n",
    "\n",
    "di['PIPES'] = {None: pipe_indx}\n",
    "\n",
    "di['BRANCHES'] = {None: di['LINES'][None] + di['PIPES'][None]}\n",
    "di['NEW_BRANCHES'] = {None: di['NEW_LINES'][None] + di['PIPES'][None]}\n",
    "\n",
    "def getBranchesAtNode(set_type):\n",
    "    out = {}\n",
    "    for node in di['NODES'][None]:\n",
    "        for n, i, j in di[set_type][None]:\n",
    "            if i == node or j == node:\n",
    "                if node not in out.keys():\n",
    "                    out[node] = []\n",
    "                out[node].append((n, i, j))\n",
    "    return out\n",
    "di['BRANCHES_AT_NODE'] = getBranchesAtNode('BRANCHES')\n"
   ]
  },
  {
   "cell_type": "code",
   "execution_count": 27,
   "metadata": {},
   "outputs": [],
   "source": [
    "bn = di['BRANCHES_AT_NODE']\n"
   ]
  },
  {
   "cell_type": "code",
   "execution_count": 28,
   "metadata": {},
   "outputs": [
    {
     "data": {
      "text/plain": [
       "dict_keys(['EN01', 'EN02', 'EN03', 'EN04', 'EN05', 'EN06', 'EN07', 'EN08', 'EN13', 'HN01', 'HN02', 'HN03', 'HN04', 'HN05', 'HN06', 'HN07', 'HN08', 'HN13'])"
      ]
     },
     "execution_count": 28,
     "metadata": {},
     "output_type": "execute_result"
    }
   ],
   "source": [
    "bn.keys()"
   ]
  },
  {
   "cell_type": "code",
   "execution_count": 29,
   "metadata": {},
   "outputs": [
    {
     "data": {
      "text/plain": [
       "0       Dual\n",
       "1       Dual\n",
       "2       Dual\n",
       "3       Dual\n",
       "4       Dual\n",
       "5       Dual\n",
       "6       Dual\n",
       "7       Dual\n",
       "8     Market\n",
       "9     Market\n",
       "10    Market\n",
       "11    Market\n",
       "12      Dual\n",
       "Name: Type, dtype: object"
      ]
     },
     "execution_count": 29,
     "metadata": {},
     "output_type": "execute_result"
    }
   ],
   "source": [
    "node_data.Type"
   ]
  },
  {
   "cell_type": "code",
   "execution_count": 30,
   "metadata": {},
   "outputs": [
    {
     "name": "stdout",
     "output_type": "stream",
     "text": [
      "Building deterministic investment model...\n",
      "Creating LP problem instance...\n",
      "ERROR: Constructing component 'minHydroProd' from data=None failed:\n",
      "        KeyboardInterrupt:\n"
     ]
    },
    {
     "ename": "KeyboardInterrupt",
     "evalue": "",
     "output_type": "error",
     "traceback": [
      "\u001b[1;31m---------------------------------------------------------------------------\u001b[0m",
      "\u001b[1;31mKeyboardInterrupt\u001b[0m                         Traceback (most recent call last)",
      "\u001b[1;32mC:\\Windows\\Temp/ipykernel_26764/3279058299.py\u001b[0m in \u001b[0;36m<module>\u001b[1;34m\u001b[0m\n\u001b[1;32m----> 1\u001b[1;33m \u001b[0mobj\u001b[0m\u001b[1;33m.\u001b[0m\u001b[0mbuildModel\u001b[0m\u001b[1;33m(\u001b[0m\u001b[1;33m)\u001b[0m\u001b[1;33m\u001b[0m\u001b[1;33m\u001b[0m\u001b[0m\n\u001b[0m",
      "\u001b[1;32mc:\\Users\\espenb\\Models\\HEIM\\src\\detInvModel.py\u001b[0m in \u001b[0;36mbuildModel\u001b[1;34m(self)\u001b[0m\n\u001b[0;32m     59\u001b[0m         \u001b[0mself\u001b[0m\u001b[1;33m.\u001b[0m\u001b[0mdetDataInstance\u001b[0m \u001b[1;33m=\u001b[0m \u001b[0mdid\u001b[0m\u001b[1;33m.\u001b[0m\u001b[0mdetData\u001b[0m\u001b[1;33m(\u001b[0m\u001b[0mself\u001b[0m\u001b[1;33m)\u001b[0m\u001b[1;33m\u001b[0m\u001b[1;33m\u001b[0m\u001b[0m\n\u001b[0;32m     60\u001b[0m         \u001b[0mprint\u001b[0m\u001b[1;33m(\u001b[0m\u001b[1;34m'Creating LP problem instance...'\u001b[0m\u001b[1;33m)\u001b[0m\u001b[1;33m\u001b[0m\u001b[1;33m\u001b[0m\u001b[0m\n\u001b[1;32m---> 61\u001b[1;33m         self.instance = self.detModel.create_instance(\n\u001b[0m\u001b[0;32m     62\u001b[0m                                 \u001b[0mdata\u001b[0m\u001b[1;33m=\u001b[0m\u001b[0mself\u001b[0m\u001b[1;33m.\u001b[0m\u001b[0mdetDataInstance\u001b[0m\u001b[1;33m,\u001b[0m\u001b[1;33m\u001b[0m\u001b[1;33m\u001b[0m\u001b[0m\n\u001b[0;32m     63\u001b[0m                                 \u001b[0mname\u001b[0m\u001b[1;33m=\u001b[0m\u001b[1;34m\"Deterministic operation model\"\u001b[0m\u001b[1;33m,\u001b[0m\u001b[1;33m\u001b[0m\u001b[1;33m\u001b[0m\u001b[0m\n",
      "\u001b[1;32mc:\\Users\\espenb\\Miniconda3\\lib\\site-packages\\pyomo\\core\\base\\PyomoModel.py\u001b[0m in \u001b[0;36mcreate_instance\u001b[1;34m(self, filename, data, name, namespace, namespaces, profile_memory, report_timing, **kwds)\u001b[0m\n\u001b[0;32m    704\u001b[0m             \u001b[0m_namespaces\u001b[0m\u001b[1;33m.\u001b[0m\u001b[0mappend\u001b[0m\u001b[1;33m(\u001b[0m\u001b[1;32mNone\u001b[0m\u001b[1;33m)\u001b[0m\u001b[1;33m\u001b[0m\u001b[1;33m\u001b[0m\u001b[0m\n\u001b[0;32m    705\u001b[0m \u001b[1;33m\u001b[0m\u001b[0m\n\u001b[1;32m--> 706\u001b[1;33m         instance.load( data,\n\u001b[0m\u001b[0;32m    707\u001b[0m                        \u001b[0mnamespaces\u001b[0m\u001b[1;33m=\u001b[0m\u001b[0m_namespaces\u001b[0m\u001b[1;33m,\u001b[0m\u001b[1;33m\u001b[0m\u001b[1;33m\u001b[0m\u001b[0m\n\u001b[0;32m    708\u001b[0m                        profile_memory=profile_memory )\n",
      "\u001b[1;32mc:\\Users\\espenb\\Miniconda3\\lib\\site-packages\\pyomo\\core\\base\\PyomoModel.py\u001b[0m in \u001b[0;36mload\u001b[1;34m(self, arg, namespaces, profile_memory, report_timing)\u001b[0m\n\u001b[0;32m    760\u001b[0m             \u001b[0mmsg\u001b[0m \u001b[1;33m=\u001b[0m \u001b[1;34m\"Cannot load model model data from with object of type '%s'\"\u001b[0m\u001b[1;33m\u001b[0m\u001b[1;33m\u001b[0m\u001b[0m\n\u001b[0;32m    761\u001b[0m             \u001b[1;32mraise\u001b[0m \u001b[0mValueError\u001b[0m\u001b[1;33m(\u001b[0m\u001b[0mmsg\u001b[0m \u001b[1;33m%\u001b[0m \u001b[0mstr\u001b[0m\u001b[1;33m(\u001b[0m \u001b[0mtype\u001b[0m\u001b[1;33m(\u001b[0m\u001b[0marg\u001b[0m\u001b[1;33m)\u001b[0m \u001b[1;33m)\u001b[0m\u001b[1;33m)\u001b[0m\u001b[1;33m\u001b[0m\u001b[1;33m\u001b[0m\u001b[0m\n\u001b[1;32m--> 762\u001b[1;33m         self._load_model_data(dp,\n\u001b[0m\u001b[0;32m    763\u001b[0m                               \u001b[0mnamespaces\u001b[0m\u001b[1;33m,\u001b[0m\u001b[1;33m\u001b[0m\u001b[1;33m\u001b[0m\u001b[0m\n\u001b[0;32m    764\u001b[0m                               profile_memory=profile_memory)\n",
      "\u001b[1;32mc:\\Users\\espenb\\Miniconda3\\lib\\site-packages\\pyomo\\core\\base\\PyomoModel.py\u001b[0m in \u001b[0;36m_load_model_data\u001b[1;34m(self, modeldata, namespaces, **kwds)\u001b[0m\n\u001b[0;32m    813\u001b[0m                     \u001b[1;32mcontinue\u001b[0m\u001b[1;33m\u001b[0m\u001b[1;33m\u001b[0m\u001b[0m\n\u001b[0;32m    814\u001b[0m \u001b[1;33m\u001b[0m\u001b[0m\n\u001b[1;32m--> 815\u001b[1;33m                 \u001b[0mself\u001b[0m\u001b[1;33m.\u001b[0m\u001b[0m_initialize_component\u001b[0m\u001b[1;33m(\u001b[0m\u001b[0mmodeldata\u001b[0m\u001b[1;33m,\u001b[0m \u001b[0mnamespaces\u001b[0m\u001b[1;33m,\u001b[0m \u001b[0mcomponent_name\u001b[0m\u001b[1;33m,\u001b[0m \u001b[0mprofile_memory\u001b[0m\u001b[1;33m)\u001b[0m\u001b[1;33m\u001b[0m\u001b[1;33m\u001b[0m\u001b[0m\n\u001b[0m\u001b[0;32m    816\u001b[0m \u001b[1;33m\u001b[0m\u001b[0m\n\u001b[0;32m    817\u001b[0m             \u001b[1;31m# Note: As is, connectors are expanded when using command-line pyomo but not calling model.create(...) in a Python script.\u001b[0m\u001b[1;33m\u001b[0m\u001b[1;33m\u001b[0m\u001b[1;33m\u001b[0m\u001b[0m\n",
      "\u001b[1;32mc:\\Users\\espenb\\Miniconda3\\lib\\site-packages\\pyomo\\core\\base\\PyomoModel.py\u001b[0m in \u001b[0;36m_initialize_component\u001b[1;34m(self, modeldata, namespaces, component_name, profile_memory)\u001b[0m\n\u001b[0;32m    851\u001b[0m                           declaration.name, _blockName, str(data) )\n\u001b[0;32m    852\u001b[0m         \u001b[1;32mtry\u001b[0m\u001b[1;33m:\u001b[0m\u001b[1;33m\u001b[0m\u001b[1;33m\u001b[0m\u001b[0m\n\u001b[1;32m--> 853\u001b[1;33m             \u001b[0mdeclaration\u001b[0m\u001b[1;33m.\u001b[0m\u001b[0mconstruct\u001b[0m\u001b[1;33m(\u001b[0m\u001b[0mdata\u001b[0m\u001b[1;33m)\u001b[0m\u001b[1;33m\u001b[0m\u001b[1;33m\u001b[0m\u001b[0m\n\u001b[0m\u001b[0;32m    854\u001b[0m         \u001b[1;32mexcept\u001b[0m\u001b[1;33m:\u001b[0m\u001b[1;33m\u001b[0m\u001b[1;33m\u001b[0m\u001b[0m\n\u001b[0;32m    855\u001b[0m             \u001b[0merr\u001b[0m \u001b[1;33m=\u001b[0m \u001b[0msys\u001b[0m\u001b[1;33m.\u001b[0m\u001b[0mexc_info\u001b[0m\u001b[1;33m(\u001b[0m\u001b[1;33m)\u001b[0m\u001b[1;33m[\u001b[0m\u001b[1;36m1\u001b[0m\u001b[1;33m]\u001b[0m\u001b[1;33m\u001b[0m\u001b[1;33m\u001b[0m\u001b[0m\n",
      "\u001b[1;32mc:\\Users\\espenb\\Miniconda3\\lib\\site-packages\\pyomo\\core\\base\\constraint.py\u001b[0m in \u001b[0;36mconstruct\u001b[1;34m(self, data)\u001b[0m\n\u001b[0;32m    780\u001b[0m                 \u001b[1;32mfor\u001b[0m \u001b[0mindex\u001b[0m \u001b[1;32min\u001b[0m \u001b[0mself\u001b[0m\u001b[1;33m.\u001b[0m\u001b[0mindex_set\u001b[0m\u001b[1;33m(\u001b[0m\u001b[1;33m)\u001b[0m\u001b[1;33m:\u001b[0m\u001b[1;33m\u001b[0m\u001b[1;33m\u001b[0m\u001b[0m\n\u001b[0;32m    781\u001b[0m                     self._setitem_when_not_present(\n\u001b[1;32m--> 782\u001b[1;33m                         \u001b[0mindex\u001b[0m\u001b[1;33m,\u001b[0m \u001b[0mself\u001b[0m\u001b[1;33m.\u001b[0m\u001b[0mrule\u001b[0m\u001b[1;33m(\u001b[0m\u001b[0mblock\u001b[0m\u001b[1;33m,\u001b[0m \u001b[0mindex\u001b[0m\u001b[1;33m)\u001b[0m\u001b[1;33m\u001b[0m\u001b[1;33m\u001b[0m\u001b[0m\n\u001b[0m\u001b[0;32m    783\u001b[0m                     )\n\u001b[0;32m    784\u001b[0m         \u001b[1;32mexcept\u001b[0m \u001b[0mException\u001b[0m\u001b[1;33m:\u001b[0m\u001b[1;33m\u001b[0m\u001b[1;33m\u001b[0m\u001b[0m\n",
      "\u001b[1;32mc:\\Users\\espenb\\Miniconda3\\lib\\site-packages\\pyomo\\core\\base\\util.py\u001b[0m in \u001b[0;36m__call__\u001b[1;34m(self, parent, idx)\u001b[0m\n\u001b[0;32m    309\u001b[0m         \u001b[1;31m# the user's responsibility to sort things out.\u001b[0m\u001b[1;33m\u001b[0m\u001b[1;33m\u001b[0m\u001b[1;33m\u001b[0m\u001b[0m\n\u001b[0;32m    310\u001b[0m         \u001b[1;32mif\u001b[0m \u001b[0midx\u001b[0m\u001b[1;33m.\u001b[0m\u001b[0m__class__\u001b[0m \u001b[1;32mis\u001b[0m \u001b[0mtuple\u001b[0m\u001b[1;33m:\u001b[0m\u001b[1;33m\u001b[0m\u001b[1;33m\u001b[0m\u001b[0m\n\u001b[1;32m--> 311\u001b[1;33m             \u001b[1;32mreturn\u001b[0m \u001b[0mself\u001b[0m\u001b[1;33m.\u001b[0m\u001b[0m_fcn\u001b[0m\u001b[1;33m(\u001b[0m\u001b[0mparent\u001b[0m\u001b[1;33m,\u001b[0m \u001b[1;33m*\u001b[0m\u001b[0midx\u001b[0m\u001b[1;33m)\u001b[0m\u001b[1;33m\u001b[0m\u001b[1;33m\u001b[0m\u001b[0m\n\u001b[0m\u001b[0;32m    312\u001b[0m         \u001b[1;32melse\u001b[0m\u001b[1;33m:\u001b[0m\u001b[1;33m\u001b[0m\u001b[1;33m\u001b[0m\u001b[0m\n\u001b[0;32m    313\u001b[0m             \u001b[1;32mreturn\u001b[0m \u001b[0mself\u001b[0m\u001b[1;33m.\u001b[0m\u001b[0m_fcn\u001b[0m\u001b[1;33m(\u001b[0m\u001b[0mparent\u001b[0m\u001b[1;33m,\u001b[0m \u001b[0midx\u001b[0m\u001b[1;33m)\u001b[0m\u001b[1;33m\u001b[0m\u001b[1;33m\u001b[0m\u001b[0m\n",
      "\u001b[1;32mc:\\Users\\espenb\\Models\\HEIM\\src\\detInvFormulation.py\u001b[0m in \u001b[0;36mminHydroProd_rule\u001b[1;34m(m, t, i)\u001b[0m\n\u001b[0;32m    226\u001b[0m \u001b[1;33m\u001b[0m\u001b[0m\n\u001b[0;32m    227\u001b[0m     \u001b[1;32mdef\u001b[0m \u001b[0mminHydroProd_rule\u001b[0m\u001b[1;33m(\u001b[0m\u001b[0mm\u001b[0m\u001b[1;33m,\u001b[0m \u001b[0mt\u001b[0m\u001b[1;33m,\u001b[0m \u001b[0mi\u001b[0m\u001b[1;33m)\u001b[0m\u001b[1;33m:\u001b[0m\u001b[1;33m\u001b[0m\u001b[1;33m\u001b[0m\u001b[0m\n\u001b[1;32m--> 228\u001b[1;33m         \u001b[1;32mreturn\u001b[0m \u001b[0mm\u001b[0m\u001b[1;33m.\u001b[0m\u001b[0mfrom_storage\u001b[0m\u001b[1;33m[\u001b[0m\u001b[0mt\u001b[0m\u001b[1;33m,\u001b[0m \u001b[0mi\u001b[0m\u001b[1;33m]\u001b[0m \u001b[1;33m+\u001b[0m \u001b[0mm\u001b[0m\u001b[1;33m.\u001b[0m\u001b[0mspill\u001b[0m\u001b[1;33m[\u001b[0m\u001b[0mt\u001b[0m\u001b[1;33m,\u001b[0m \u001b[0mi\u001b[0m\u001b[1;33m]\u001b[0m \u001b[1;33m>=\u001b[0m \u001b[0mm\u001b[0m\u001b[1;33m.\u001b[0m\u001b[0mInflow_ureg\u001b[0m\u001b[1;33m[\u001b[0m\u001b[0mt\u001b[0m\u001b[1;33m,\u001b[0m \u001b[0mi\u001b[0m\u001b[1;33m]\u001b[0m\u001b[1;33m\u001b[0m\u001b[1;33m\u001b[0m\u001b[0m\n\u001b[0m\u001b[0;32m    229\u001b[0m     m.minHydroProd = pe.Constraint(\n\u001b[0;32m    230\u001b[0m             m.TIME, m.HYDRO_STORAGE, rule=minHydroProd_rule)\n",
      "\u001b[1;32mc:\\Users\\espenb\\Miniconda3\\lib\\site-packages\\pyomo\\core\\base\\indexed_component.py\u001b[0m in \u001b[0;36m__getitem__\u001b[1;34m(self, index)\u001b[0m\n\u001b[0;32m    409\u001b[0m             \u001b[1;32mif\u001b[0m \u001b[0mindex\u001b[0m\u001b[1;33m.\u001b[0m\u001b[0m__class__\u001b[0m \u001b[1;32mis\u001b[0m \u001b[0mEXPR\u001b[0m\u001b[1;33m.\u001b[0m\u001b[0mGetItemExpression\u001b[0m\u001b[1;33m:\u001b[0m\u001b[1;33m\u001b[0m\u001b[1;33m\u001b[0m\u001b[0m\n\u001b[0;32m    410\u001b[0m                 \u001b[1;32mreturn\u001b[0m \u001b[0mindex\u001b[0m\u001b[1;33m\u001b[0m\u001b[1;33m\u001b[0m\u001b[0m\n\u001b[1;32m--> 411\u001b[1;33m             \u001b[0mvalidated_index\u001b[0m \u001b[1;33m=\u001b[0m \u001b[0mself\u001b[0m\u001b[1;33m.\u001b[0m\u001b[0m_validate_index\u001b[0m\u001b[1;33m(\u001b[0m\u001b[0mindex\u001b[0m\u001b[1;33m)\u001b[0m\u001b[1;33m\u001b[0m\u001b[1;33m\u001b[0m\u001b[0m\n\u001b[0m\u001b[0;32m    412\u001b[0m             \u001b[1;32mif\u001b[0m \u001b[0mvalidated_index\u001b[0m \u001b[1;32mis\u001b[0m \u001b[1;32mnot\u001b[0m \u001b[0mindex\u001b[0m\u001b[1;33m:\u001b[0m\u001b[1;33m\u001b[0m\u001b[1;33m\u001b[0m\u001b[0m\n\u001b[0;32m    413\u001b[0m                 \u001b[0mindex\u001b[0m \u001b[1;33m=\u001b[0m \u001b[0mvalidated_index\u001b[0m\u001b[1;33m\u001b[0m\u001b[1;33m\u001b[0m\u001b[0m\n",
      "\u001b[1;32mc:\\Users\\espenb\\Miniconda3\\lib\\site-packages\\pyomo\\core\\base\\indexed_component.py\u001b[0m in \u001b[0;36m_validate_index\u001b[1;34m(self, idx)\u001b[0m\n\u001b[0;32m    532\u001b[0m         \u001b[1;31m# This is only called through __{get,set,del}item__, which has\u001b[0m\u001b[1;33m\u001b[0m\u001b[1;33m\u001b[0m\u001b[1;33m\u001b[0m\u001b[0m\n\u001b[0;32m    533\u001b[0m         \u001b[1;31m# already trapped unhashable objects.\u001b[0m\u001b[1;33m\u001b[0m\u001b[1;33m\u001b[0m\u001b[1;33m\u001b[0m\u001b[0m\n\u001b[1;32m--> 534\u001b[1;33m         \u001b[0mvalidated_idx\u001b[0m \u001b[1;33m=\u001b[0m \u001b[0mself\u001b[0m\u001b[1;33m.\u001b[0m\u001b[0m_index\u001b[0m\u001b[1;33m.\u001b[0m\u001b[0mget\u001b[0m\u001b[1;33m(\u001b[0m\u001b[0midx\u001b[0m\u001b[1;33m,\u001b[0m \u001b[0m_NotFound\u001b[0m\u001b[1;33m)\u001b[0m\u001b[1;33m\u001b[0m\u001b[1;33m\u001b[0m\u001b[0m\n\u001b[0m\u001b[0;32m    535\u001b[0m         \u001b[1;32mif\u001b[0m \u001b[0mvalidated_idx\u001b[0m \u001b[1;32mis\u001b[0m \u001b[1;32mnot\u001b[0m \u001b[0m_NotFound\u001b[0m\u001b[1;33m:\u001b[0m\u001b[1;33m\u001b[0m\u001b[1;33m\u001b[0m\u001b[0m\n\u001b[0;32m    536\u001b[0m             \u001b[1;31m# If the index is in the underlying index set, then return it\u001b[0m\u001b[1;33m\u001b[0m\u001b[1;33m\u001b[0m\u001b[1;33m\u001b[0m\u001b[0m\n",
      "\u001b[1;32mc:\\Users\\espenb\\Miniconda3\\lib\\site-packages\\pyomo\\core\\base\\set.py\u001b[0m in \u001b[0;36mget\u001b[1;34m(self, val, default)\u001b[0m\n\u001b[0;32m   3677\u001b[0m     \u001b[1;32mdef\u001b[0m \u001b[0mget\u001b[0m\u001b[1;33m(\u001b[0m\u001b[0mself\u001b[0m\u001b[1;33m,\u001b[0m \u001b[0mval\u001b[0m\u001b[1;33m,\u001b[0m \u001b[0mdefault\u001b[0m\u001b[1;33m=\u001b[0m\u001b[1;32mNone\u001b[0m\u001b[1;33m)\u001b[0m\u001b[1;33m:\u001b[0m\u001b[1;33m\u001b[0m\u001b[1;33m\u001b[0m\u001b[0m\n\u001b[0;32m   3678\u001b[0m         \u001b[1;31m#return self._find_val(val) is not None\u001b[0m\u001b[1;33m\u001b[0m\u001b[1;33m\u001b[0m\u001b[1;33m\u001b[0m\u001b[0m\n\u001b[1;32m-> 3679\u001b[1;33m         \u001b[0mv\u001b[0m \u001b[1;33m=\u001b[0m \u001b[0mself\u001b[0m\u001b[1;33m.\u001b[0m\u001b[0m_find_val\u001b[0m\u001b[1;33m(\u001b[0m\u001b[0mval\u001b[0m\u001b[1;33m)\u001b[0m\u001b[1;33m\u001b[0m\u001b[1;33m\u001b[0m\u001b[0m\n\u001b[0m\u001b[0;32m   3680\u001b[0m         \u001b[1;32mif\u001b[0m \u001b[0mv\u001b[0m \u001b[1;32mis\u001b[0m \u001b[1;32mNone\u001b[0m\u001b[1;33m:\u001b[0m\u001b[1;33m\u001b[0m\u001b[1;33m\u001b[0m\u001b[0m\n\u001b[0;32m   3681\u001b[0m             \u001b[1;32mreturn\u001b[0m \u001b[0mdefault\u001b[0m\u001b[1;33m\u001b[0m\u001b[1;33m\u001b[0m\u001b[0m\n",
      "\u001b[1;32mc:\\Users\\espenb\\Miniconda3\\lib\\site-packages\\pyomo\\core\\base\\set.py\u001b[0m in \u001b[0;36m_find_val\u001b[1;34m(self, val)\u001b[0m\n\u001b[0;32m   3705\u001b[0m         \u001b[1;31m# to determine the val is not in this set.\u001b[0m\u001b[1;33m\u001b[0m\u001b[1;33m\u001b[0m\u001b[1;33m\u001b[0m\u001b[0m\n\u001b[0;32m   3706\u001b[0m         \u001b[1;32mif\u001b[0m \u001b[0mhasattr\u001b[0m\u001b[1;33m(\u001b[0m\u001b[0mval\u001b[0m\u001b[1;33m,\u001b[0m \u001b[1;34m'__len__'\u001b[0m\u001b[1;33m)\u001b[0m \u001b[1;32mand\u001b[0m \u001b[0mlen\u001b[0m\u001b[1;33m(\u001b[0m\u001b[0mval\u001b[0m\u001b[1;33m)\u001b[0m \u001b[1;33m==\u001b[0m \u001b[0mlen\u001b[0m\u001b[1;33m(\u001b[0m\u001b[0mself\u001b[0m\u001b[1;33m.\u001b[0m\u001b[0m_sets\u001b[0m\u001b[1;33m)\u001b[0m\u001b[1;33m:\u001b[0m\u001b[1;33m\u001b[0m\u001b[1;33m\u001b[0m\u001b[0m\n\u001b[1;32m-> 3707\u001b[1;33m             \u001b[1;32mif\u001b[0m \u001b[0mall\u001b[0m\u001b[1;33m(\u001b[0m\u001b[0mv\u001b[0m \u001b[1;32min\u001b[0m \u001b[0mself\u001b[0m\u001b[1;33m.\u001b[0m\u001b[0m_sets\u001b[0m\u001b[1;33m[\u001b[0m\u001b[0mi\u001b[0m\u001b[1;33m]\u001b[0m \u001b[1;32mfor\u001b[0m \u001b[0mi\u001b[0m\u001b[1;33m,\u001b[0m\u001b[0mv\u001b[0m \u001b[1;32min\u001b[0m \u001b[0menumerate\u001b[0m\u001b[1;33m(\u001b[0m\u001b[0mval\u001b[0m\u001b[1;33m)\u001b[0m\u001b[1;33m)\u001b[0m\u001b[1;33m:\u001b[0m\u001b[1;33m\u001b[0m\u001b[1;33m\u001b[0m\u001b[0m\n\u001b[0m\u001b[0;32m   3708\u001b[0m                 \u001b[1;32mreturn\u001b[0m \u001b[0mval\u001b[0m\u001b[1;33m,\u001b[0m \u001b[1;32mNone\u001b[0m\u001b[1;33m\u001b[0m\u001b[1;33m\u001b[0m\u001b[0m\n\u001b[0;32m   3709\u001b[0m \u001b[1;33m\u001b[0m\u001b[0m\n",
      "\u001b[1;32mc:\\Users\\espenb\\Miniconda3\\lib\\site-packages\\pyomo\\core\\base\\set.py\u001b[0m in \u001b[0;36m<genexpr>\u001b[1;34m(.0)\u001b[0m\n\u001b[0;32m   3705\u001b[0m         \u001b[1;31m# to determine the val is not in this set.\u001b[0m\u001b[1;33m\u001b[0m\u001b[1;33m\u001b[0m\u001b[1;33m\u001b[0m\u001b[0m\n\u001b[0;32m   3706\u001b[0m         \u001b[1;32mif\u001b[0m \u001b[0mhasattr\u001b[0m\u001b[1;33m(\u001b[0m\u001b[0mval\u001b[0m\u001b[1;33m,\u001b[0m \u001b[1;34m'__len__'\u001b[0m\u001b[1;33m)\u001b[0m \u001b[1;32mand\u001b[0m \u001b[0mlen\u001b[0m\u001b[1;33m(\u001b[0m\u001b[0mval\u001b[0m\u001b[1;33m)\u001b[0m \u001b[1;33m==\u001b[0m \u001b[0mlen\u001b[0m\u001b[1;33m(\u001b[0m\u001b[0mself\u001b[0m\u001b[1;33m.\u001b[0m\u001b[0m_sets\u001b[0m\u001b[1;33m)\u001b[0m\u001b[1;33m:\u001b[0m\u001b[1;33m\u001b[0m\u001b[1;33m\u001b[0m\u001b[0m\n\u001b[1;32m-> 3707\u001b[1;33m             \u001b[1;32mif\u001b[0m \u001b[0mall\u001b[0m\u001b[1;33m(\u001b[0m\u001b[0mv\u001b[0m \u001b[1;32min\u001b[0m \u001b[0mself\u001b[0m\u001b[1;33m.\u001b[0m\u001b[0m_sets\u001b[0m\u001b[1;33m[\u001b[0m\u001b[0mi\u001b[0m\u001b[1;33m]\u001b[0m \u001b[1;32mfor\u001b[0m \u001b[0mi\u001b[0m\u001b[1;33m,\u001b[0m\u001b[0mv\u001b[0m \u001b[1;32min\u001b[0m \u001b[0menumerate\u001b[0m\u001b[1;33m(\u001b[0m\u001b[0mval\u001b[0m\u001b[1;33m)\u001b[0m\u001b[1;33m)\u001b[0m\u001b[1;33m:\u001b[0m\u001b[1;33m\u001b[0m\u001b[1;33m\u001b[0m\u001b[0m\n\u001b[0m\u001b[0;32m   3708\u001b[0m                 \u001b[1;32mreturn\u001b[0m \u001b[0mval\u001b[0m\u001b[1;33m,\u001b[0m \u001b[1;32mNone\u001b[0m\u001b[1;33m\u001b[0m\u001b[1;33m\u001b[0m\u001b[0m\n\u001b[0;32m   3709\u001b[0m \u001b[1;33m\u001b[0m\u001b[0m\n",
      "\u001b[1;32mc:\\Users\\espenb\\Miniconda3\\lib\\site-packages\\pyomo\\core\\base\\set.py\u001b[0m in \u001b[0;36m__contains__\u001b[1;34m(self, value)\u001b[0m\n\u001b[0;32m    459\u001b[0m     \u001b[1;32mdef\u001b[0m \u001b[0m__contains__\u001b[0m\u001b[1;33m(\u001b[0m\u001b[0mself\u001b[0m\u001b[1;33m,\u001b[0m \u001b[0mvalue\u001b[0m\u001b[1;33m)\u001b[0m\u001b[1;33m:\u001b[0m\u001b[1;33m\u001b[0m\u001b[1;33m\u001b[0m\u001b[0m\n\u001b[0;32m    460\u001b[0m         \u001b[1;32mtry\u001b[0m\u001b[1;33m:\u001b[0m\u001b[1;33m\u001b[0m\u001b[1;33m\u001b[0m\u001b[0m\n\u001b[1;32m--> 461\u001b[1;33m             \u001b[0mans\u001b[0m \u001b[1;33m=\u001b[0m \u001b[0mself\u001b[0m\u001b[1;33m.\u001b[0m\u001b[0mget\u001b[0m\u001b[1;33m(\u001b[0m\u001b[0mvalue\u001b[0m\u001b[1;33m,\u001b[0m \u001b[0m_NotFound\u001b[0m\u001b[1;33m)\u001b[0m\u001b[1;33m\u001b[0m\u001b[1;33m\u001b[0m\u001b[0m\n\u001b[0m\u001b[0;32m    462\u001b[0m         \u001b[1;32mexcept\u001b[0m \u001b[0mTypeError\u001b[0m\u001b[1;33m:\u001b[0m\u001b[1;33m\u001b[0m\u001b[1;33m\u001b[0m\u001b[0m\n\u001b[0;32m    463\u001b[0m             \u001b[1;31m# In Python 3.x, Sets are unhashable\u001b[0m\u001b[1;33m\u001b[0m\u001b[1;33m\u001b[0m\u001b[1;33m\u001b[0m\u001b[0m\n",
      "\u001b[1;32mc:\\Users\\espenb\\Miniconda3\\lib\\site-packages\\pyomo\\core\\base\\set.py\u001b[0m in \u001b[0;36mget\u001b[1;34m(self, value, default)\u001b[0m\n\u001b[0;32m   1244\u001b[0m             \u001b[0mvalue\u001b[0m \u001b[1;33m=\u001b[0m \u001b[0mnormalize_index\u001b[0m\u001b[1;33m(\u001b[0m\u001b[0mvalue\u001b[0m\u001b[1;33m)\u001b[0m\u001b[1;33m\u001b[0m\u001b[1;33m\u001b[0m\u001b[0m\n\u001b[0;32m   1245\u001b[0m \u001b[1;33m\u001b[0m\u001b[0m\n\u001b[1;32m-> 1246\u001b[1;33m         \u001b[1;32mif\u001b[0m \u001b[0mvalue\u001b[0m \u001b[1;32min\u001b[0m \u001b[0mself\u001b[0m\u001b[1;33m.\u001b[0m\u001b[0m_values\u001b[0m\u001b[1;33m:\u001b[0m\u001b[1;33m\u001b[0m\u001b[1;33m\u001b[0m\u001b[0m\n\u001b[0m\u001b[0;32m   1247\u001b[0m             \u001b[1;32mreturn\u001b[0m \u001b[0mvalue\u001b[0m\u001b[1;33m\u001b[0m\u001b[1;33m\u001b[0m\u001b[0m\n\u001b[0;32m   1248\u001b[0m         \u001b[1;32mreturn\u001b[0m \u001b[0mdefault\u001b[0m\u001b[1;33m\u001b[0m\u001b[1;33m\u001b[0m\u001b[0m\n",
      "\u001b[1;31mKeyboardInterrupt\u001b[0m: "
     ]
    }
   ],
   "source": [
    "obj.buildModel()"
   ]
  },
  {
   "cell_type": "code",
   "execution_count": null,
   "metadata": {},
   "outputs": [],
   "source": [
    "obj.solve()"
   ]
  },
  {
   "cell_type": "code",
   "execution_count": null,
   "metadata": {},
   "outputs": [],
   "source": [
    "obj.processResults()"
   ]
  },
  {
   "cell_type": "code",
   "execution_count": null,
   "metadata": {},
   "outputs": [],
   "source": [
    "obj.saveRes(dirs['res_dir'])\n",
    "\n",
    "res = sr.savedRes(dirs['res_dir'], data=obj.data)"
   ]
  }
 ],
 "metadata": {
  "kernelspec": {
   "display_name": "Python 3.8.12 ('base')",
   "language": "python",
   "name": "python3"
  },
  "language_info": {
   "codemirror_mode": {
    "name": "ipython",
    "version": 3
   },
   "file_extension": ".py",
   "mimetype": "text/x-python",
   "name": "python",
   "nbconvert_exporter": "python",
   "pygments_lexer": "ipython3",
   "version": "3.8.12"
  },
  "orig_nbformat": 4,
  "vscode": {
   "interpreter": {
    "hash": "c0bb8a14f1bf14d0345db42068532a569fc401a1dab9ba1a49ee7333fbaa6fa7"
   }
  }
 },
 "nbformat": 4,
 "nbformat_minor": 2
}
